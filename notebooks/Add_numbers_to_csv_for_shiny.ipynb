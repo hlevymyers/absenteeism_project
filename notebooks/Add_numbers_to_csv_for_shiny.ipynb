{
 "cells": [
  {
   "cell_type": "code",
   "execution_count": 17,
   "metadata": {},
   "outputs": [],
   "source": [
    "import numpy as np\n",
    "import pandas as pd\n",
    "import matplotlib.pyplot as plt\n",
    "import seaborn as sns\n",
    "%matplotlib inline\n",
    "from sklearn.model_selection import train_test_split\n",
    "from sklearn.linear_model import LinearRegression\n",
    "from sklearn import metrics\n",
    "from sklearn.ensemble import RandomForestClassifier\n",
    "from sklearn.model_selection import cross_val_score\n",
    "from sklearn.model_selection import GridSearchCV\n",
    "from sklearn.metrics import confusion_matrix, classification_report\n",
    "from sklearn.model_selection import RandomizedSearchCV\n",
    "from sklearn.ensemble import RandomForestRegressor"
   ]
  },
  {
   "cell_type": "code",
   "execution_count": 18,
   "metadata": {},
   "outputs": [],
   "source": [
    "numbers = pd.read_csv('/Users/flatironschool/Absenteeism_Project/data/processed/combo_cleaned.csv')\n"
   ]
  },
  {
   "cell_type": "code",
   "execution_count": 19,
   "metadata": {},
   "outputs": [
    {
     "data": {
      "text/html": [
       "<div>\n",
       "<style scoped>\n",
       "    .dataframe tbody tr th:only-of-type {\n",
       "        vertical-align: middle;\n",
       "    }\n",
       "\n",
       "    .dataframe tbody tr th {\n",
       "        vertical-align: top;\n",
       "    }\n",
       "\n",
       "    .dataframe thead th {\n",
       "        text-align: right;\n",
       "    }\n",
       "</style>\n",
       "<table border=\"1\" class=\"dataframe\">\n",
       "  <thead>\n",
       "    <tr style=\"text-align: right;\">\n",
       "      <th></th>\n",
       "      <th>Unnamed: 0</th>\n",
       "      <th>Unnamed: 0.1</th>\n",
       "      <th>STNAM</th>\n",
       "      <th>LEANM</th>\n",
       "      <th>NCESSCH</th>\n",
       "      <th>SCHNAM</th>\n",
       "      <th>ALL_COHORT_1516</th>\n",
       "      <th>ALL_RATE_1516</th>\n",
       "      <th>LEA_STATE</th>\n",
       "      <th>LEA_STATE_NAME</th>\n",
       "      <th>...</th>\n",
       "      <th>sports_part</th>\n",
       "      <th>sports_rate</th>\n",
       "      <th>total_suspension_days</th>\n",
       "      <th>suspensed_day_rate</th>\n",
       "      <th>harassed</th>\n",
       "      <th>harassed_rate</th>\n",
       "      <th>activities_funds_rate</th>\n",
       "      <th>non_cert_rate</th>\n",
       "      <th>counselor_rate</th>\n",
       "      <th>absent_teacher_rate</th>\n",
       "    </tr>\n",
       "  </thead>\n",
       "  <tbody>\n",
       "    <tr>\n",
       "      <th>21862</th>\n",
       "      <td>21862</td>\n",
       "      <td>21862</td>\n",
       "      <td>WYOMING</td>\n",
       "      <td>Washakie County School District #2</td>\n",
       "      <td>560582000393</td>\n",
       "      <td>Ten Sleep K-12</td>\n",
       "      <td>10</td>\n",
       "      <td>GE50</td>\n",
       "      <td>WY</td>\n",
       "      <td>WYOMING</td>\n",
       "      <td>...</td>\n",
       "      <td>31.0</td>\n",
       "      <td>0.281818</td>\n",
       "      <td>0.0</td>\n",
       "      <td>0.000000</td>\n",
       "      <td>0.0</td>\n",
       "      <td>0.0</td>\n",
       "      <td>4407.512636</td>\n",
       "      <td>0.0</td>\n",
       "      <td>0.009091</td>\n",
       "      <td>0.000000</td>\n",
       "    </tr>\n",
       "    <tr>\n",
       "      <th>21863</th>\n",
       "      <td>21863</td>\n",
       "      <td>21863</td>\n",
       "      <td>WYOMING</td>\n",
       "      <td>Teton County School District #1</td>\n",
       "      <td>560583000335</td>\n",
       "      <td>Jackson Hole High School</td>\n",
       "      <td>127</td>\n",
       "      <td>GE95</td>\n",
       "      <td>WY</td>\n",
       "      <td>WYOMING</td>\n",
       "      <td>...</td>\n",
       "      <td>355.0</td>\n",
       "      <td>0.554688</td>\n",
       "      <td>26.0</td>\n",
       "      <td>0.040625</td>\n",
       "      <td>0.0</td>\n",
       "      <td>0.0</td>\n",
       "      <td>4153.518984</td>\n",
       "      <td>0.0</td>\n",
       "      <td>0.004687</td>\n",
       "      <td>0.118939</td>\n",
       "    </tr>\n",
       "    <tr>\n",
       "      <th>21864</th>\n",
       "      <td>21864</td>\n",
       "      <td>21864</td>\n",
       "      <td>WYOMING</td>\n",
       "      <td>Teton County School District #1</td>\n",
       "      <td>560583000512</td>\n",
       "      <td>Summit High School</td>\n",
       "      <td>18</td>\n",
       "      <td>GE80</td>\n",
       "      <td>WY</td>\n",
       "      <td>WYOMING</td>\n",
       "      <td>...</td>\n",
       "      <td>NaN</td>\n",
       "      <td>NaN</td>\n",
       "      <td>10.0</td>\n",
       "      <td>0.185185</td>\n",
       "      <td>0.0</td>\n",
       "      <td>0.0</td>\n",
       "      <td>5469.872593</td>\n",
       "      <td>0.0</td>\n",
       "      <td>0.000000</td>\n",
       "      <td>0.091491</td>\n",
       "    </tr>\n",
       "    <tr>\n",
       "      <th>21865</th>\n",
       "      <td>21865</td>\n",
       "      <td>21865</td>\n",
       "      <td>WYOMING</td>\n",
       "      <td>Weston County School District #7</td>\n",
       "      <td>560609000401</td>\n",
       "      <td>Upton High School</td>\n",
       "      <td>21</td>\n",
       "      <td>GE80</td>\n",
       "      <td>WY</td>\n",
       "      <td>WYOMING</td>\n",
       "      <td>...</td>\n",
       "      <td>85.0</td>\n",
       "      <td>0.850000</td>\n",
       "      <td>0.0</td>\n",
       "      <td>0.000000</td>\n",
       "      <td>0.0</td>\n",
       "      <td>0.0</td>\n",
       "      <td>6875.370000</td>\n",
       "      <td>0.0</td>\n",
       "      <td>0.000000</td>\n",
       "      <td>0.162162</td>\n",
       "    </tr>\n",
       "    <tr>\n",
       "      <th>21866</th>\n",
       "      <td>21866</td>\n",
       "      <td>21866</td>\n",
       "      <td>WYOMING</td>\n",
       "      <td>Washakie County School District #1</td>\n",
       "      <td>560624000343</td>\n",
       "      <td>Worland High School</td>\n",
       "      <td>105</td>\n",
       "      <td>75-79</td>\n",
       "      <td>WY</td>\n",
       "      <td>WYOMING</td>\n",
       "      <td>...</td>\n",
       "      <td>NaN</td>\n",
       "      <td>NaN</td>\n",
       "      <td>10.0</td>\n",
       "      <td>0.025000</td>\n",
       "      <td>0.0</td>\n",
       "      <td>0.0</td>\n",
       "      <td>3015.755325</td>\n",
       "      <td>0.0</td>\n",
       "      <td>0.004275</td>\n",
       "      <td>0.331544</td>\n",
       "    </tr>\n",
       "  </tbody>\n",
       "</table>\n",
       "<p>5 rows × 101 columns</p>\n",
       "</div>"
      ],
      "text/plain": [
       "       Unnamed: 0  Unnamed: 0.1    STNAM                               LEANM  \\\n",
       "21862       21862         21862  WYOMING  Washakie County School District #2   \n",
       "21863       21863         21863  WYOMING     Teton County School District #1   \n",
       "21864       21864         21864  WYOMING     Teton County School District #1   \n",
       "21865       21865         21865  WYOMING    Weston County School District #7   \n",
       "21866       21866         21866  WYOMING  Washakie County School District #1   \n",
       "\n",
       "            NCESSCH                    SCHNAM  ALL_COHORT_1516 ALL_RATE_1516  \\\n",
       "21862  560582000393            Ten Sleep K-12               10          GE50   \n",
       "21863  560583000335  Jackson Hole High School              127          GE95   \n",
       "21864  560583000512        Summit High School               18          GE80   \n",
       "21865  560609000401         Upton High School               21          GE80   \n",
       "21866  560624000343       Worland High School              105         75-79   \n",
       "\n",
       "      LEA_STATE LEA_STATE_NAME         ...          sports_part sports_rate  \\\n",
       "21862        WY        WYOMING         ...                 31.0    0.281818   \n",
       "21863        WY        WYOMING         ...                355.0    0.554688   \n",
       "21864        WY        WYOMING         ...                  NaN         NaN   \n",
       "21865        WY        WYOMING         ...                 85.0    0.850000   \n",
       "21866        WY        WYOMING         ...                  NaN         NaN   \n",
       "\n",
       "       total_suspension_days suspensed_day_rate  harassed harassed_rate  \\\n",
       "21862                    0.0           0.000000       0.0           0.0   \n",
       "21863                   26.0           0.040625       0.0           0.0   \n",
       "21864                   10.0           0.185185       0.0           0.0   \n",
       "21865                    0.0           0.000000       0.0           0.0   \n",
       "21866                   10.0           0.025000       0.0           0.0   \n",
       "\n",
       "      activities_funds_rate non_cert_rate counselor_rate absent_teacher_rate  \n",
       "21862           4407.512636           0.0       0.009091            0.000000  \n",
       "21863           4153.518984           0.0       0.004687            0.118939  \n",
       "21864           5469.872593           0.0       0.000000            0.091491  \n",
       "21865           6875.370000           0.0       0.000000            0.162162  \n",
       "21866           3015.755325           0.0       0.004275            0.331544  \n",
       "\n",
       "[5 rows x 101 columns]"
      ]
     },
     "execution_count": 19,
     "metadata": {},
     "output_type": "execute_result"
    }
   ],
   "source": [
    "numbers.tail()"
   ]
  },
  {
   "cell_type": "markdown",
   "metadata": {},
   "source": [
    "## Clean up graduation rates and add grad rate bins"
   ]
  },
  {
   "cell_type": "code",
   "execution_count": 20,
   "metadata": {},
   "outputs": [],
   "source": [
    "#need to keep original reported grade and need column to modify and clean data\n",
    "numbers['grad_slice'] = numbers['ALL_RATE_1516']"
   ]
  },
  {
   "cell_type": "code",
   "execution_count": 23,
   "metadata": {},
   "outputs": [],
   "source": [
    "#remove \"GE\" and \"LE\" from ranges\n",
    "numbers['grad_slice'].replace(['GE99'], '+100', inplace=True) # need to replace with \n",
    "numbers['grad_slice'].replace(['GE95'], '95', inplace=True)\n",
    "numbers['grad_slice'].replace(['GE90'], '90', inplace=True)\n",
    "numbers['grad_slice'].replace(['LE10'], '10', inplace=True)\n",
    "numbers['grad_slice'].replace(['LE1'], '1', inplace=True)\n",
    "numbers['grad_slice'].replace(['LE5'], '05', inplace=True)\n"
   ]
  },
  {
   "cell_type": "code",
   "execution_count": 22,
   "metadata": {},
   "outputs": [],
   "source": [
    "#smallest range needs to be dealt with, has one digit before '-'\n",
    "numbers['grad_slice'].replace(['6-9'], '6', inplace=True)"
   ]
  },
  {
   "cell_type": "code",
   "execution_count": 24,
   "metadata": {},
   "outputs": [],
   "source": [
    "#take first two digits of rates to get rid of ranges\n",
    "numbers['grad_slice'] = numbers['grad_slice'].str[:2]"
   ]
  },
  {
   "cell_type": "code",
   "execution_count": 26,
   "metadata": {},
   "outputs": [],
   "source": [
    "#fix 100\n",
    "numbers['grad_slice'].replace(['+1'], '100', inplace=True)"
   ]
  },
  {
   "cell_type": "code",
   "execution_count": 27,
   "metadata": {},
   "outputs": [],
   "source": [
    "numbers.reset_index(inplace=True)"
   ]
  },
  {
   "cell_type": "code",
   "execution_count": 35,
   "metadata": {},
   "outputs": [],
   "source": [
    "#get rid of very small schools\n",
    "grad_num = numbers[numbers['ALL_COHORT_1516'] >= 31]"
   ]
  },
  {
   "cell_type": "code",
   "execution_count": 38,
   "metadata": {},
   "outputs": [
    {
     "name": "stderr",
     "output_type": "stream",
     "text": [
      "/anaconda3/envs/absenteeism/lib/python3.6/site-packages/ipykernel_launcher.py:3: SettingWithCopyWarning: \n",
      "A value is trying to be set on a copy of a slice from a DataFrame.\n",
      "Try using .loc[row_indexer,col_indexer] = value instead\n",
      "\n",
      "See the caveats in the documentation: http://pandas.pydata.org/pandas-docs/stable/indexing.html#indexing-view-versus-copy\n",
      "  This is separate from the ipykernel package so we can avoid doing imports until\n"
     ]
    }
   ],
   "source": [
    "#create the binned categories\n",
    "grad_num['grad_rate_bin'] = pd.cut(grad_num['grad_slice'].astype(int), [0, 59, 79, 89, 99, 100],\n",
    "      labels = ['0-59%', '60-79%', '80-89%', '90-99%', '100%'])"
   ]
  },
  {
   "cell_type": "code",
   "execution_count": 40,
   "metadata": {},
   "outputs": [
    {
     "data": {
      "text/html": [
       "<div>\n",
       "<style scoped>\n",
       "    .dataframe tbody tr th:only-of-type {\n",
       "        vertical-align: middle;\n",
       "    }\n",
       "\n",
       "    .dataframe tbody tr th {\n",
       "        vertical-align: top;\n",
       "    }\n",
       "\n",
       "    .dataframe thead th {\n",
       "        text-align: right;\n",
       "    }\n",
       "</style>\n",
       "<table border=\"1\" class=\"dataframe\">\n",
       "  <thead>\n",
       "    <tr style=\"text-align: right;\">\n",
       "      <th></th>\n",
       "      <th>index</th>\n",
       "      <th>Unnamed: 0</th>\n",
       "      <th>Unnamed: 0.1</th>\n",
       "      <th>STNAM</th>\n",
       "      <th>LEANM</th>\n",
       "      <th>NCESSCH</th>\n",
       "      <th>SCHNAM</th>\n",
       "      <th>ALL_COHORT_1516</th>\n",
       "      <th>ALL_RATE_1516</th>\n",
       "      <th>LEA_STATE</th>\n",
       "      <th>...</th>\n",
       "      <th>total_suspension_days</th>\n",
       "      <th>suspensed_day_rate</th>\n",
       "      <th>harassed</th>\n",
       "      <th>harassed_rate</th>\n",
       "      <th>activities_funds_rate</th>\n",
       "      <th>non_cert_rate</th>\n",
       "      <th>counselor_rate</th>\n",
       "      <th>absent_teacher_rate</th>\n",
       "      <th>grad_slice</th>\n",
       "      <th>grad_rate_bin</th>\n",
       "    </tr>\n",
       "  </thead>\n",
       "  <tbody>\n",
       "    <tr>\n",
       "      <th>21854</th>\n",
       "      <td>21854</td>\n",
       "      <td>21854</td>\n",
       "      <td>21854</td>\n",
       "      <td>WYOMING</td>\n",
       "      <td>Sheridan County School District #1</td>\n",
       "      <td>560569000311</td>\n",
       "      <td>Big Horn High School</td>\n",
       "      <td>37</td>\n",
       "      <td>GE90</td>\n",
       "      <td>WY</td>\n",
       "      <td>...</td>\n",
       "      <td>2.0</td>\n",
       "      <td>0.013245</td>\n",
       "      <td>4.0</td>\n",
       "      <td>0.026490</td>\n",
       "      <td>1738.913907</td>\n",
       "      <td>0.0</td>\n",
       "      <td>0.006623</td>\n",
       "      <td>0.846154</td>\n",
       "      <td>90</td>\n",
       "      <td>90-99%</td>\n",
       "    </tr>\n",
       "    <tr>\n",
       "      <th>21858</th>\n",
       "      <td>21858</td>\n",
       "      <td>21858</td>\n",
       "      <td>21858</td>\n",
       "      <td>WYOMING</td>\n",
       "      <td>Sheridan County School District #2</td>\n",
       "      <td>560569500360</td>\n",
       "      <td>Sheridan High School</td>\n",
       "      <td>236</td>\n",
       "      <td>89</td>\n",
       "      <td>WY</td>\n",
       "      <td>...</td>\n",
       "      <td>46.0</td>\n",
       "      <td>0.046796</td>\n",
       "      <td>0.0</td>\n",
       "      <td>0.000000</td>\n",
       "      <td>1694.559176</td>\n",
       "      <td>0.0</td>\n",
       "      <td>0.005086</td>\n",
       "      <td>0.198779</td>\n",
       "      <td>89</td>\n",
       "      <td>80-89%</td>\n",
       "    </tr>\n",
       "    <tr>\n",
       "      <th>21861</th>\n",
       "      <td>21861</td>\n",
       "      <td>21861</td>\n",
       "      <td>21861</td>\n",
       "      <td>WYOMING</td>\n",
       "      <td>Sweetwater County School District #2</td>\n",
       "      <td>560576200324</td>\n",
       "      <td>Green River High School</td>\n",
       "      <td>176</td>\n",
       "      <td>85-89</td>\n",
       "      <td>WY</td>\n",
       "      <td>...</td>\n",
       "      <td>110.0</td>\n",
       "      <td>0.141570</td>\n",
       "      <td>1.0</td>\n",
       "      <td>0.001287</td>\n",
       "      <td>1840.877490</td>\n",
       "      <td>0.0</td>\n",
       "      <td>0.003861</td>\n",
       "      <td>0.200000</td>\n",
       "      <td>85</td>\n",
       "      <td>80-89%</td>\n",
       "    </tr>\n",
       "    <tr>\n",
       "      <th>21863</th>\n",
       "      <td>21863</td>\n",
       "      <td>21863</td>\n",
       "      <td>21863</td>\n",
       "      <td>WYOMING</td>\n",
       "      <td>Teton County School District #1</td>\n",
       "      <td>560583000335</td>\n",
       "      <td>Jackson Hole High School</td>\n",
       "      <td>127</td>\n",
       "      <td>GE95</td>\n",
       "      <td>WY</td>\n",
       "      <td>...</td>\n",
       "      <td>26.0</td>\n",
       "      <td>0.040625</td>\n",
       "      <td>0.0</td>\n",
       "      <td>0.000000</td>\n",
       "      <td>4153.518984</td>\n",
       "      <td>0.0</td>\n",
       "      <td>0.004687</td>\n",
       "      <td>0.118939</td>\n",
       "      <td>95</td>\n",
       "      <td>90-99%</td>\n",
       "    </tr>\n",
       "    <tr>\n",
       "      <th>21866</th>\n",
       "      <td>21866</td>\n",
       "      <td>21866</td>\n",
       "      <td>21866</td>\n",
       "      <td>WYOMING</td>\n",
       "      <td>Washakie County School District #1</td>\n",
       "      <td>560624000343</td>\n",
       "      <td>Worland High School</td>\n",
       "      <td>105</td>\n",
       "      <td>75-79</td>\n",
       "      <td>WY</td>\n",
       "      <td>...</td>\n",
       "      <td>10.0</td>\n",
       "      <td>0.025000</td>\n",
       "      <td>0.0</td>\n",
       "      <td>0.000000</td>\n",
       "      <td>3015.755325</td>\n",
       "      <td>0.0</td>\n",
       "      <td>0.004275</td>\n",
       "      <td>0.331544</td>\n",
       "      <td>75</td>\n",
       "      <td>60-79%</td>\n",
       "    </tr>\n",
       "  </tbody>\n",
       "</table>\n",
       "<p>5 rows × 104 columns</p>\n",
       "</div>"
      ],
      "text/plain": [
       "       index  Unnamed: 0  Unnamed: 0.1    STNAM  \\\n",
       "21854  21854       21854         21854  WYOMING   \n",
       "21858  21858       21858         21858  WYOMING   \n",
       "21861  21861       21861         21861  WYOMING   \n",
       "21863  21863       21863         21863  WYOMING   \n",
       "21866  21866       21866         21866  WYOMING   \n",
       "\n",
       "                                      LEANM       NCESSCH  \\\n",
       "21854    Sheridan County School District #1  560569000311   \n",
       "21858    Sheridan County School District #2  560569500360   \n",
       "21861  Sweetwater County School District #2  560576200324   \n",
       "21863       Teton County School District #1  560583000335   \n",
       "21866    Washakie County School District #1  560624000343   \n",
       "\n",
       "                         SCHNAM  ALL_COHORT_1516 ALL_RATE_1516 LEA_STATE  \\\n",
       "21854      Big Horn High School               37          GE90        WY   \n",
       "21858      Sheridan High School              236            89        WY   \n",
       "21861   Green River High School              176         85-89        WY   \n",
       "21863  Jackson Hole High School              127          GE95        WY   \n",
       "21866       Worland High School              105         75-79        WY   \n",
       "\n",
       "           ...      total_suspension_days  suspensed_day_rate harassed  \\\n",
       "21854      ...                        2.0            0.013245      4.0   \n",
       "21858      ...                       46.0            0.046796      0.0   \n",
       "21861      ...                      110.0            0.141570      1.0   \n",
       "21863      ...                       26.0            0.040625      0.0   \n",
       "21866      ...                       10.0            0.025000      0.0   \n",
       "\n",
       "       harassed_rate activities_funds_rate  non_cert_rate counselor_rate  \\\n",
       "21854       0.026490           1738.913907            0.0       0.006623   \n",
       "21858       0.000000           1694.559176            0.0       0.005086   \n",
       "21861       0.001287           1840.877490            0.0       0.003861   \n",
       "21863       0.000000           4153.518984            0.0       0.004687   \n",
       "21866       0.000000           3015.755325            0.0       0.004275   \n",
       "\n",
       "      absent_teacher_rate grad_slice grad_rate_bin  \n",
       "21854            0.846154         90        90-99%  \n",
       "21858            0.198779         89        80-89%  \n",
       "21861            0.200000         85        80-89%  \n",
       "21863            0.118939         95        90-99%  \n",
       "21866            0.331544         75        60-79%  \n",
       "\n",
       "[5 rows x 104 columns]"
      ]
     },
     "execution_count": 40,
     "metadata": {},
     "output_type": "execute_result"
    }
   ],
   "source": [
    "grad_num.tail()"
   ]
  },
  {
   "cell_type": "markdown",
   "metadata": {},
   "source": [
    "## Create Level Up Bins "
   ]
  },
  {
   "cell_type": "code",
   "execution_count": 41,
   "metadata": {},
   "outputs": [
    {
     "name": "stderr",
     "output_type": "stream",
     "text": [
      "/anaconda3/envs/absenteeism/lib/python3.6/site-packages/ipykernel_launcher.py:4: SettingWithCopyWarning: \n",
      "A value is trying to be set on a copy of a slice from a DataFrame.\n",
      "Try using .loc[row_indexer,col_indexer] = value instead\n",
      "\n",
      "See the caveats in the documentation: http://pandas.pydata.org/pandas-docs/stable/indexing.html#indexing-view-versus-copy\n",
      "  after removing the cwd from sys.path.\n"
     ]
    }
   ],
   "source": [
    "#level up bins\n",
    "#create the binned categories\n",
    "grad_num['level_up_bins'] = pd.cut(grad_num['grad_slice'].astype(int), \n",
    "    [0, 59, 79, 89, 99, 100], labels = ['60-79% Level Up Rate', '80-89% Level Up Rate', '90-99% Level Up Rate', '100% Level Up Rate', '100% Top Rate'])"
   ]
  },
  {
   "cell_type": "code",
   "execution_count": null,
   "metadata": {},
   "outputs": [],
   "source": [
    "numbers.tail()"
   ]
  },
  {
   "cell_type": "code",
   "execution_count": null,
   "metadata": {},
   "outputs": [],
   "source": [
    "\n"
   ]
  },
  {
   "cell_type": "code",
   "execution_count": 42,
   "metadata": {},
   "outputs": [
    {
     "name": "stderr",
     "output_type": "stream",
     "text": [
      "/anaconda3/envs/absenteeism/lib/python3.6/site-packages/ipykernel_launcher.py:1: SettingWithCopyWarning: \n",
      "A value is trying to be set on a copy of a slice from a DataFrame.\n",
      "Try using .loc[row_indexer,col_indexer] = value instead\n",
      "\n",
      "See the caveats in the documentation: http://pandas.pydata.org/pandas-docs/stable/indexing.html#indexing-view-versus-copy\n",
      "  \"\"\"Entry point for launching an IPython kernel.\n",
      "/anaconda3/envs/absenteeism/lib/python3.6/site-packages/ipykernel_launcher.py:2: SettingWithCopyWarning: \n",
      "A value is trying to be set on a copy of a slice from a DataFrame.\n",
      "Try using .loc[row_indexer,col_indexer] = value instead\n",
      "\n",
      "See the caveats in the documentation: http://pandas.pydata.org/pandas-docs/stable/indexing.html#indexing-view-versus-copy\n",
      "  \n",
      "/anaconda3/envs/absenteeism/lib/python3.6/site-packages/ipykernel_launcher.py:3: SettingWithCopyWarning: \n",
      "A value is trying to be set on a copy of a slice from a DataFrame.\n",
      "Try using .loc[row_indexer,col_indexer] = value instead\n",
      "\n",
      "See the caveats in the documentation: http://pandas.pydata.org/pandas-docs/stable/indexing.html#indexing-view-versus-copy\n",
      "  This is separate from the ipykernel package so we can avoid doing imports until\n",
      "/anaconda3/envs/absenteeism/lib/python3.6/site-packages/ipykernel_launcher.py:4: SettingWithCopyWarning: \n",
      "A value is trying to be set on a copy of a slice from a DataFrame.\n",
      "Try using .loc[row_indexer,col_indexer] = value instead\n",
      "\n",
      "See the caveats in the documentation: http://pandas.pydata.org/pandas-docs/stable/indexing.html#indexing-view-versus-copy\n",
      "  after removing the cwd from sys.path.\n",
      "/anaconda3/envs/absenteeism/lib/python3.6/site-packages/ipykernel_launcher.py:5: SettingWithCopyWarning: \n",
      "A value is trying to be set on a copy of a slice from a DataFrame.\n",
      "Try using .loc[row_indexer,col_indexer] = value instead\n",
      "\n",
      "See the caveats in the documentation: http://pandas.pydata.org/pandas-docs/stable/indexing.html#indexing-view-versus-copy\n",
      "  \"\"\"\n",
      "/anaconda3/envs/absenteeism/lib/python3.6/site-packages/ipykernel_launcher.py:6: SettingWithCopyWarning: \n",
      "A value is trying to be set on a copy of a slice from a DataFrame.\n",
      "Try using .loc[row_indexer,col_indexer] = value instead\n",
      "\n",
      "See the caveats in the documentation: http://pandas.pydata.org/pandas-docs/stable/indexing.html#indexing-view-versus-copy\n",
      "  \n",
      "/anaconda3/envs/absenteeism/lib/python3.6/site-packages/ipykernel_launcher.py:7: SettingWithCopyWarning: \n",
      "A value is trying to be set on a copy of a slice from a DataFrame.\n",
      "Try using .loc[row_indexer,col_indexer] = value instead\n",
      "\n",
      "See the caveats in the documentation: http://pandas.pydata.org/pandas-docs/stable/indexing.html#indexing-view-versus-copy\n",
      "  import sys\n",
      "/anaconda3/envs/absenteeism/lib/python3.6/site-packages/ipykernel_launcher.py:8: SettingWithCopyWarning: \n",
      "A value is trying to be set on a copy of a slice from a DataFrame.\n",
      "Try using .loc[row_indexer,col_indexer] = value instead\n",
      "\n",
      "See the caveats in the documentation: http://pandas.pydata.org/pandas-docs/stable/indexing.html#indexing-view-versus-copy\n",
      "  \n"
     ]
    }
   ],
   "source": [
    "grad_num['level_up_chronic_absent_a'] = grad_num[grad_num['grad_rate_bin']=='60-79% Level Up Rate'].chronic_absent_rate.quantile(.25, axis=1)\n",
    "grad_num['level_up_chronic_absent_b'] = grad_num[grad_num['grad_rate_bin']=='60-79% Level Up Rate'].chronic_absent_rate.quantile(.75, axis=1)\n",
    "grad_num['level_up_chronic_absent_a'] = grad_num[grad_num['grad_rate_bin']=='60-79% Level Up Rate'].chronic_absent_rate.quantile(.25, axis=1)\n",
    "grad_num['level_up_chronic_absent_b'] = grad_num[grad_num['grad_rate_bin']=='60-79% Level Up Rate'].chronic_absent_rate.quantile(.75, axis=1)\n",
    "grad_num['level_up_chronic_absent_a'] = grad_num[grad_num['grad_rate_bin']=='60-79% Level Up Rate'].chronic_absent_rate.quantile(.25, axis=1)\n",
    "grad_num['level_up_chronic_absent_b'] = grad_num[grad_num['grad_rate_bin']=='60-79% Level Up Rate'].chronic_absent_rate.quantile(.75, axis=1)\n",
    "grad_num['level_up_chronic_absent_a'] = grad_num[grad_num['grad_rate_bin']=='60-79% Level Up Rate'].chronic_absent_rate.quantile(.25, axis=1)\n",
    "grad_num['level_up_chronic_absent_b'] = grad_num[grad_num['grad_rate_bin']=='60-79% Level Up Rate'].chronic_absent_rate.quantile(.75, axis=1)"
   ]
  },
  {
   "cell_type": "code",
   "execution_count": 44,
   "metadata": {},
   "outputs": [
    {
     "data": {
      "text/html": [
       "<div>\n",
       "<style scoped>\n",
       "    .dataframe tbody tr th:only-of-type {\n",
       "        vertical-align: middle;\n",
       "    }\n",
       "\n",
       "    .dataframe tbody tr th {\n",
       "        vertical-align: top;\n",
       "    }\n",
       "\n",
       "    .dataframe thead th {\n",
       "        text-align: right;\n",
       "    }\n",
       "</style>\n",
       "<table border=\"1\" class=\"dataframe\">\n",
       "  <thead>\n",
       "    <tr style=\"text-align: right;\">\n",
       "      <th></th>\n",
       "      <th>index</th>\n",
       "      <th>Unnamed: 0</th>\n",
       "      <th>Unnamed: 0.1</th>\n",
       "      <th>STNAM</th>\n",
       "      <th>LEANM</th>\n",
       "      <th>NCESSCH</th>\n",
       "      <th>SCHNAM</th>\n",
       "      <th>ALL_COHORT_1516</th>\n",
       "      <th>ALL_RATE_1516</th>\n",
       "      <th>LEA_STATE</th>\n",
       "      <th>...</th>\n",
       "      <th>harassed_rate</th>\n",
       "      <th>activities_funds_rate</th>\n",
       "      <th>non_cert_rate</th>\n",
       "      <th>counselor_rate</th>\n",
       "      <th>absent_teacher_rate</th>\n",
       "      <th>grad_slice</th>\n",
       "      <th>grad_rate_bin</th>\n",
       "      <th>level_up_bins</th>\n",
       "      <th>level_up_chronic_absent_a</th>\n",
       "      <th>level_up_chronic_absent_b</th>\n",
       "    </tr>\n",
       "  </thead>\n",
       "  <tbody>\n",
       "    <tr>\n",
       "      <th>0</th>\n",
       "      <td>0</td>\n",
       "      <td>0</td>\n",
       "      <td>0</td>\n",
       "      <td>ALABAMA</td>\n",
       "      <td>Albertville City</td>\n",
       "      <td>10000500871</td>\n",
       "      <td>Albertville High Sch</td>\n",
       "      <td>296</td>\n",
       "      <td>92</td>\n",
       "      <td>AL</td>\n",
       "      <td>...</td>\n",
       "      <td>0.000000</td>\n",
       "      <td>2811.937359</td>\n",
       "      <td>0.0</td>\n",
       "      <td>0.003475</td>\n",
       "      <td>0.378788</td>\n",
       "      <td>92</td>\n",
       "      <td>90-99%</td>\n",
       "      <td>100% Level Up Rate</td>\n",
       "      <td>NaN</td>\n",
       "      <td>NaN</td>\n",
       "    </tr>\n",
       "    <tr>\n",
       "      <th>1</th>\n",
       "      <td>1</td>\n",
       "      <td>1</td>\n",
       "      <td>1</td>\n",
       "      <td>ALABAMA</td>\n",
       "      <td>Marshall County</td>\n",
       "      <td>10000600872</td>\n",
       "      <td>Asbury Sch</td>\n",
       "      <td>67</td>\n",
       "      <td>GE95</td>\n",
       "      <td>AL</td>\n",
       "      <td>...</td>\n",
       "      <td>0.003711</td>\n",
       "      <td>4825.189777</td>\n",
       "      <td>0.0</td>\n",
       "      <td>0.002783</td>\n",
       "      <td>0.100000</td>\n",
       "      <td>95</td>\n",
       "      <td>90-99%</td>\n",
       "      <td>100% Level Up Rate</td>\n",
       "      <td>NaN</td>\n",
       "      <td>NaN</td>\n",
       "    </tr>\n",
       "    <tr>\n",
       "      <th>2</th>\n",
       "      <td>2</td>\n",
       "      <td>2</td>\n",
       "      <td>2</td>\n",
       "      <td>ALABAMA</td>\n",
       "      <td>Marshall County</td>\n",
       "      <td>10000600878</td>\n",
       "      <td>Douglas High Sch</td>\n",
       "      <td>153</td>\n",
       "      <td>85-89</td>\n",
       "      <td>AL</td>\n",
       "      <td>...</td>\n",
       "      <td>0.008418</td>\n",
       "      <td>5317.932795</td>\n",
       "      <td>0.0</td>\n",
       "      <td>0.001684</td>\n",
       "      <td>0.105263</td>\n",
       "      <td>85</td>\n",
       "      <td>80-89%</td>\n",
       "      <td>90-99% Level Up Rate</td>\n",
       "      <td>NaN</td>\n",
       "      <td>NaN</td>\n",
       "    </tr>\n",
       "    <tr>\n",
       "      <th>3</th>\n",
       "      <td>3</td>\n",
       "      <td>3</td>\n",
       "      <td>3</td>\n",
       "      <td>ALABAMA</td>\n",
       "      <td>Marshall County</td>\n",
       "      <td>10000600883</td>\n",
       "      <td>Kate D Smith DAR High Sch</td>\n",
       "      <td>120</td>\n",
       "      <td>80-84</td>\n",
       "      <td>AL</td>\n",
       "      <td>...</td>\n",
       "      <td>0.000000</td>\n",
       "      <td>5909.375686</td>\n",
       "      <td>0.0</td>\n",
       "      <td>0.002179</td>\n",
       "      <td>0.068966</td>\n",
       "      <td>80</td>\n",
       "      <td>80-89%</td>\n",
       "      <td>90-99% Level Up Rate</td>\n",
       "      <td>NaN</td>\n",
       "      <td>NaN</td>\n",
       "    </tr>\n",
       "    <tr>\n",
       "      <th>4</th>\n",
       "      <td>4</td>\n",
       "      <td>4</td>\n",
       "      <td>4</td>\n",
       "      <td>ALABAMA</td>\n",
       "      <td>Marshall County</td>\n",
       "      <td>10000601585</td>\n",
       "      <td>Brindlee Mt High Sch</td>\n",
       "      <td>94</td>\n",
       "      <td>85-89</td>\n",
       "      <td>AL</td>\n",
       "      <td>...</td>\n",
       "      <td>0.000000</td>\n",
       "      <td>3962.305785</td>\n",
       "      <td>0.0</td>\n",
       "      <td>0.002755</td>\n",
       "      <td>0.101010</td>\n",
       "      <td>85</td>\n",
       "      <td>80-89%</td>\n",
       "      <td>90-99% Level Up Rate</td>\n",
       "      <td>NaN</td>\n",
       "      <td>NaN</td>\n",
       "    </tr>\n",
       "  </tbody>\n",
       "</table>\n",
       "<p>5 rows × 107 columns</p>\n",
       "</div>"
      ],
      "text/plain": [
       "   index  Unnamed: 0  Unnamed: 0.1    STNAM             LEANM      NCESSCH  \\\n",
       "0      0           0             0  ALABAMA  Albertville City  10000500871   \n",
       "1      1           1             1  ALABAMA   Marshall County  10000600872   \n",
       "2      2           2             2  ALABAMA   Marshall County  10000600878   \n",
       "3      3           3             3  ALABAMA   Marshall County  10000600883   \n",
       "4      4           4             4  ALABAMA   Marshall County  10000601585   \n",
       "\n",
       "                      SCHNAM  ALL_COHORT_1516 ALL_RATE_1516 LEA_STATE  \\\n",
       "0       Albertville High Sch              296            92        AL   \n",
       "1                 Asbury Sch               67          GE95        AL   \n",
       "2           Douglas High Sch              153         85-89        AL   \n",
       "3  Kate D Smith DAR High Sch              120         80-84        AL   \n",
       "4       Brindlee Mt High Sch               94         85-89        AL   \n",
       "\n",
       "             ...            harassed_rate  activities_funds_rate  \\\n",
       "0            ...                 0.000000            2811.937359   \n",
       "1            ...                 0.003711            4825.189777   \n",
       "2            ...                 0.008418            5317.932795   \n",
       "3            ...                 0.000000            5909.375686   \n",
       "4            ...                 0.000000            3962.305785   \n",
       "\n",
       "  non_cert_rate  counselor_rate absent_teacher_rate  grad_slice grad_rate_bin  \\\n",
       "0           0.0        0.003475            0.378788          92        90-99%   \n",
       "1           0.0        0.002783            0.100000          95        90-99%   \n",
       "2           0.0        0.001684            0.105263          85        80-89%   \n",
       "3           0.0        0.002179            0.068966          80        80-89%   \n",
       "4           0.0        0.002755            0.101010          85        80-89%   \n",
       "\n",
       "          level_up_bins level_up_chronic_absent_a level_up_chronic_absent_b  \n",
       "0    100% Level Up Rate                       NaN                       NaN  \n",
       "1    100% Level Up Rate                       NaN                       NaN  \n",
       "2  90-99% Level Up Rate                       NaN                       NaN  \n",
       "3  90-99% Level Up Rate                       NaN                       NaN  \n",
       "4  90-99% Level Up Rate                       NaN                       NaN  \n",
       "\n",
       "[5 rows x 107 columns]"
      ]
     },
     "execution_count": 44,
     "metadata": {},
     "output_type": "execute_result"
    }
   ],
   "source": [
    "grad_num.head()"
   ]
  },
  {
   "cell_type": "code",
   "execution_count": null,
   "metadata": {},
   "outputs": [],
   "source": [
    "for each_school in rate_bin:\n",
    "    if numbers['level_up_bins'] == '90%+ Level Up Rate'\n",
    "        numbers['level_up_chronic_absent_a'] = numbers['ALL_RATE_1516'].quantile(.25)\n",
    "        nubmers['level_up_chronic_absent_b'] = numbers['ALL_RATE_1516'].quantile(.75)\n",
    "    if numbers['level_up_bins'] == '80-89%+ Level Up Rate']\n",
    "        numbers['level_up_chronic_absent_a'] = numbers['ALL_RATE_1516'].quantile(.25)\n",
    "        nubmers['level_up_chronic_absent_b'] = numbers['ALL_RATE_1516'].quantile(.75)\n",
    "    if numbers['level_up_bins'] == '60-79%+ Level Up Rate']\n",
    "        numbers['level_up_chronic_absent_a'] = numbers['ALL_RATE_1516'].quantile(.25)\n",
    "        nubmers['level_up_chronic_absent_b'] = numbers['ALL_RATE_1516'].quantile(.75)\n",
    "        "
   ]
  },
  {
   "cell_type": "code",
   "execution_count": null,
   "metadata": {},
   "outputs": [],
   "source": []
  },
  {
   "cell_type": "code",
   "execution_count": null,
   "metadata": {},
   "outputs": [],
   "source": []
  },
  {
   "cell_type": "code",
   "execution_count": null,
   "metadata": {},
   "outputs": [],
   "source": []
  },
  {
   "cell_type": "code",
   "execution_count": null,
   "metadata": {},
   "outputs": [],
   "source": []
  },
  {
   "cell_type": "code",
   "execution_count": null,
   "metadata": {},
   "outputs": [],
   "source": []
  },
  {
   "cell_type": "code",
   "execution_count": null,
   "metadata": {},
   "outputs": [],
   "source": []
  },
  {
   "cell_type": "code",
   "execution_count": null,
   "metadata": {},
   "outputs": [],
   "source": [
    "grad_90 = simple[simple['four_rate_bins'] == '90%+']\n",
    "grad_80 = simple[simple['four_rate_bins'] == '80-89%']\n",
    "grad_70 = simple[simple['four_rate_bins'] == '60-79%']\n",
    "grad_50 = simple[simple['four_rate_bins'] == '0-59%']"
   ]
  },
  {
   "cell_type": "code",
   "execution_count": null,
   "metadata": {},
   "outputs": [],
   "source": [
    "grad_90.head()"
   ]
  },
  {
   "cell_type": "code",
   "execution_count": null,
   "metadata": {
    "scrolled": true
   },
   "outputs": [],
   "source": [
    "plt.figure(figsize=(15,8))\n",
    "plt.hist(grad_90['chronic_absent_rate'], color = 'blue', label = '90%+ Graduation Rate')\n",
    "plt.hist(grad_80['chronic_absent_rate'], color = 'red', label = '80-89% Graduation Rate')\n",
    "plt.hist(grad_70['chronic_absent_rate'], color = 'purple', label = '60-79% Graduation Rate')\n",
    "plt.legend()"
   ]
  },
  {
   "cell_type": "code",
   "execution_count": null,
   "metadata": {},
   "outputs": [],
   "source": [
    "plt.figure(figsize=(15,8))\n",
    "plt.hist(grad_90['ap_ib_de_rate'], color = 'blue', label = '90%+ Graduation Rate')\n",
    "plt.hist(grad_80['ap_ib_de_rate'], color = 'red', label = '80-89% Graduation Rate')\n",
    "plt.hist(grad_70['ap_ib_de_rate'], color = 'purple', label = '60-79% Graduation Rate')\n",
    "plt.legend()"
   ]
  },
  {
   "cell_type": "code",
   "execution_count": null,
   "metadata": {},
   "outputs": [],
   "source": [
    "plt.figure(figsize=(15,8))\n",
    "plt.hist(grad_90['sat_act_rate'], color = 'blue', label = '90%+ Graduation Rate')\n",
    "plt.hist(grad_80['sat_act_rate'], color = 'red', label = '80-89% Graduation Rate')\n",
    "plt.hist(grad_70['sat_act_rate'], color = 'purple', label = '60-79% Graduation Rate')\n",
    "plt.legend()"
   ]
  },
  {
   "cell_type": "code",
   "execution_count": null,
   "metadata": {},
   "outputs": [],
   "source": [
    "plt.figure(figsize=(15,8))\n",
    "plt.hist(grad_90['pass_algebra_rate'], color = 'blue', label = '90%+ Graduation Rate')\n",
    "plt.hist(grad_80['pass_algebra_rate'], color = 'red', label = '80-89% Graduation Rate')\n",
    "plt.hist(grad_70['pass_algebra_rate'], color = 'purple', label = '60-79% Graduation Rate')\n",
    "plt.legend()"
   ]
  },
  {
   "cell_type": "code",
   "execution_count": null,
   "metadata": {},
   "outputs": [],
   "source": [
    "plt.figure(figsize=(15,8))\n",
    "plt.hist(grad_90['geometry_rate'], color = 'blue', label = '90%+ Graduation Rate')\n",
    "plt.hist(grad_80['geometry_rate'], color = 'red', label = '80-89% Graduation Rate')\n",
    "plt.hist(grad_70['geometry_rate'], color = 'purple', label = '60-79% Graduation Rate')\n",
    "plt.legend()"
   ]
  },
  {
   "cell_type": "code",
   "execution_count": null,
   "metadata": {},
   "outputs": [],
   "source": [
    "plt.figure(figsize=(15,8))\n",
    "plt.hist(grad_90['algebra2_rate'], color = 'blue', label = '90%+ Graduation Rate')\n",
    "plt.hist(grad_80['algebra2_rate'], color = 'red', label = '80-89% Graduation Rate')\n",
    "plt.hist(grad_70['algebra2_rate'], color = 'purple', label = '60-79% Graduation Rate')\n",
    "plt.legend()"
   ]
  },
  {
   "cell_type": "code",
   "execution_count": null,
   "metadata": {},
   "outputs": [],
   "source": [
    "plt.figure(figsize=(15,8))\n",
    "plt.hist(grad_90['calc_rate'], color = 'blue', label = '90%+ Graduation Rate')\n",
    "plt.hist(grad_80['calc_rate'], color = 'red', label = '80-89% Graduation Rate')\n",
    "plt.hist(grad_70['calc_rate'], color = 'purple', label = '60-79% Graduation Rate')\n",
    "plt.legend()"
   ]
  },
  {
   "cell_type": "code",
   "execution_count": null,
   "metadata": {},
   "outputs": [],
   "source": [
    "plt.figure(figsize=(15,8))\n",
    "plt.hist(grad_90['sports_rate'], color = 'blue', label = '90%+ Graduation Rate')\n",
    "plt.hist(grad_80['sports_rate'], color = 'red', label = '80-89% Graduation Rate')\n",
    "plt.hist(grad_70['sports_rate'], color = 'purple', label = '60-79% Graduation Rate')\n",
    "plt.legend()"
   ]
  },
  {
   "cell_type": "code",
   "execution_count": null,
   "metadata": {},
   "outputs": [],
   "source": [
    "plt.figure(figsize=(15,8))\n",
    "plt.hist(grad_90['suspensed_day_rate'], color = 'blue', label = '90%+ Graduation Rate')\n",
    "plt.hist(grad_80['suspensed_day_rate'], color = 'red', label = '80-89% Graduation Rate')\n",
    "plt.hist(grad_70['suspensed_day_rate'], color = 'purple', label = '60-79% Graduation Rate')\n",
    "plt.legend()"
   ]
  },
  {
   "cell_type": "code",
   "execution_count": null,
   "metadata": {},
   "outputs": [],
   "source": [
    "plt.figure(figsize=(15,8))\n",
    "plt.hist(grad_90['harassed_rate'], color = 'blue', label = '90%+ Graduation Rate')\n",
    "plt.hist(grad_80['harassed_rate'], color = 'red', label = '80-89% Graduation Rate')\n",
    "plt.hist(grad_70['harassed_rate'], color = 'purple', label = '60-79% Graduation Rate')\n",
    "plt.legend()"
   ]
  },
  {
   "cell_type": "code",
   "execution_count": null,
   "metadata": {},
   "outputs": [],
   "source": [
    "plt.figure(figsize=(15,8))\n",
    "plt.hist(grad_90['non_cert_rate'], color = 'blue', label = '90%+ Graduation Rate')\n",
    "plt.hist(grad_80['non_cert_rate'], color = 'red', label = '80-89% Graduation Rate')\n",
    "plt.hist(grad_70['non_cert_rate'], color = 'purple', label = '60-79% Graduation Rate')\n",
    "plt.legend()"
   ]
  },
  {
   "cell_type": "code",
   "execution_count": null,
   "metadata": {},
   "outputs": [],
   "source": [
    "plt.figure(figsize=(15,8))\n",
    "plt.hist(grad_90['counselor_rate'], color = 'blue', label = '90%+ Graduation Rate')\n",
    "plt.hist(grad_80['counselor_rate'], color = 'red', label = '80-89% Graduation Rate')\n",
    "plt.hist(grad_70['counselor_rate'], color = 'purple', label = '60-79% Graduation Rate')\n",
    "plt.legend()"
   ]
  },
  {
   "cell_type": "code",
   "execution_count": null,
   "metadata": {},
   "outputs": [],
   "source": [
    "plt.figure(figsize=(15,8))\n",
    "plt.hist(grad_90['absent_teacher_rate'], color = 'blue', label = '90%+ Graduation Rate')\n",
    "plt.hist(grad_80['absent_teacher_rate'], color = 'red', label = '80-89% Graduation Rate')\n",
    "plt.hist(grad_70['absent_teacher_rate'], color = 'purple', label = '60-79% Graduation Rate')\n",
    "plt.legend()"
   ]
  },
  {
   "cell_type": "code",
   "execution_count": null,
   "metadata": {},
   "outputs": [],
   "source": [
    "sns.catplot(x=\"four_rate_bins\", y=\"chronic_absent_rate\", kind=\"box\", data=simple);"
   ]
  },
  {
   "cell_type": "code",
   "execution_count": null,
   "metadata": {},
   "outputs": [],
   "source": [
    "sns.boxplot(x=grad_50['chronic_absent_rate'],palette=\"Set3\")\n",
    "sns.boxplot(x=grad_70['chronic_absent_rate'],palette=\"Set3\")\n",
    "sns.boxplot(x=grad_80['chronic_absent_rate'],palette=\"Set3\")\n",
    "sns.boxplot(x=grad_90['chronic_absent_rate'],palette=\"Set3\")"
   ]
  },
  {
   "cell_type": "code",
   "execution_count": null,
   "metadata": {},
   "outputs": [],
   "source": [
    "simple.chronic_absent_rate.quantile([0.25,0.5,0.75])\n"
   ]
  },
  {
   "cell_type": "code",
   "execution_count": null,
   "metadata": {},
   "outputs": [],
   "source": [
    "np.nanpercentile(grad_90.chronic_absent_rate, (25, 50, 75), axis=0)"
   ]
  },
  {
   "cell_type": "code",
   "execution_count": null,
   "metadata": {
    "scrolled": true
   },
   "outputs": [],
   "source": [
    "#great metric showing steady change with graduation rates\n",
    "print('90%+ Graduate Chronic Absenteeism Rate (25th, 50th, 75th percentile):\\n',grad_90.chronic_absent_rate.quantile([.25, .50, .75]))\n",
    "print('80%+ Graduate Chronic Absenteeism Rate (25th, 50th, 75th percentile):\\n',grad_80.chronic_absent_rate.quantile([0.25,0.5,0.75]))\n",
    "print('60%+ Graduate Chronic Absenteeism Rate (25th, 50th, 75th percentile):\\n',grad_70.chronic_absent_rate.quantile([0.25,0.5,0.75]))\n",
    "print('50%+ Graduate Chronic Absenteeism Rate (25th, 50th, 75th percentile):\\n',grad_50.chronic_absent_rate.quantile([0.25,0.5,0.75]))"
   ]
  },
  {
   "cell_type": "code",
   "execution_count": null,
   "metadata": {},
   "outputs": [],
   "source": [
    "#great metric as it shows steady change with graduation rate\n",
    "print('90%+ Graduate Sports Participation Rate (25th, 50th, 75th percentile):\\n',grad_90.sports_rate.quantile([.25, .50, .75]))\n",
    "print('80%+ Graduate Sports Participation Rate (25th, 50th, 75th percentile):\\n',grad_80.sports_rate.quantile([.25, .50, .75]))\n",
    "print('60%+ Graduate Sports Participation Rate (25th, 50th, 75th percentile):\\n',grad_70.sports_rate.quantile([.25, .50, .75]))\n",
    "print('50%+ Graduate Sports Participation Rate (25th, 50th, 75th percentile):\\n',grad_50.sports_rate.quantile([.25, .50, .75]))"
   ]
  },
  {
   "cell_type": "code",
   "execution_count": null,
   "metadata": {},
   "outputs": [],
   "source": [
    "sns.catplot(x=\"four_rate_bins\", y=\"sports_rate\", kind=\"box\", data=simple);"
   ]
  },
  {
   "cell_type": "code",
   "execution_count": null,
   "metadata": {},
   "outputs": [],
   "source": [
    "#Useful metric\n",
    "print('90%+ Graduate AP/IB/DE Rate (25th, 50th, 75th percentile):\\n',grad_90.ap_ib_de_rate.quantile([.25, .50, .75]))\n",
    "print('80%+ Graduate AP/IB/DE Rate (25th, 50th, 75th percentile):\\n',grad_80.ap_ib_de_rate.quantile([.25, .50, .75]))\n",
    "print('60%+ Graduate AP/IB/DE Rate (25th, 50th, 75th percentile):\\n',grad_70.ap_ib_de_rate.quantile([.25, .50, .75]))\n",
    "print('50%+ Graduate AP/IB/DE Rate (25th, 50th, 75th percentile):\\n',grad_50.ap_ib_de_rate.quantile([.25, .50, .75]))"
   ]
  },
  {
   "cell_type": "code",
   "execution_count": null,
   "metadata": {},
   "outputs": [],
   "source": [
    "sns.catplot(x=\"four_rate_bins\", y=\"ap_ib_de_rate\", kind=\"box\", data=simple);"
   ]
  },
  {
   "cell_type": "code",
   "execution_count": null,
   "metadata": {},
   "outputs": [],
   "source": [
    "#useful metric for most categories\n",
    "print('90%+ Graduate Teacher Absenteeism Rate (25th, 50th, 75th percentile):\\n',grad_90.absent_teacher_rate.quantile([.25, .50, .75]))\n",
    "print('80%+ Graduate Teacher Absenteeism Rate (25th, 50th, 75th percentile):\\n',grad_80.absent_teacher_rate.quantile([.25, .50, .75]))\n",
    "print('60%+ Graduate Teacher Absenteeism Rate (25th, 50th, 75th percentile):\\n',grad_70.absent_teacher_rate.quantile([.25, .50, .75]))\n",
    "print('50%+ Graduate Teacher Absenteeism Rate (25th, 50th, 75th percentile):\\n',grad_50.absent_teacher_rate.quantile([.25, .50, .75]))"
   ]
  },
  {
   "cell_type": "code",
   "execution_count": null,
   "metadata": {},
   "outputs": [],
   "source": [
    "sns.catplot(x=\"four_rate_bins\", y=\"absent_teacher_rate\", kind=\"box\", data=simple);"
   ]
  },
  {
   "cell_type": "code",
   "execution_count": null,
   "metadata": {},
   "outputs": [],
   "source": [
    "#No real difference for three categories.\n",
    "print('90%+ Graduate Counselor Rate (25th, 50th, 75th percentile):\\n',grad_90.counselor_rate.quantile([.25, .50, .75]))\n",
    "print('80%+ Graduate Counselor Rate (25th, 50th, 75th percentile):\\n',grad_80.counselor_rate.quantile([.25, .50, .75]))\n",
    "print('60%+ Graduate counselor Rate (25th, 50th, 75th percentile):\\n',grad_70.counselor_rate.quantile([.25, .50, .75]))\n",
    "print('50%+ Graduate Counselor Rate (25th, 50th, 75th percentile):\\n',grad_50.counselor_rate.quantile([.25, .50, .75]))"
   ]
  },
  {
   "cell_type": "code",
   "execution_count": null,
   "metadata": {
    "scrolled": true
   },
   "outputs": [],
   "source": [
    "#Useful metric for 60, 80 and 90 categories\n",
    "print('90%+ Graduate Non-Certified Teacher Rate (25th, 50th, 75th percentile):\\n',grad_90.non_cert_rate.quantile([.25, .50, .75]))\n",
    "print('80%+ Graduate Non-Certified Teacher Rate (25th, 50th, 75th percentile):\\n',grad_80.non_cert_rate.quantile([.25, .50, .75]))\n",
    "print('60%+ Graduate Non-Certified Teacher Rate (25th, 50th, 75th percentile):\\n',grad_70.non_cert_rate.quantile([.25, .50, .75]))\n",
    "print('50%+ Graduate Non-Certified Teacher Rate (25th, 50th, 75th percentile):\\n',grad_50.non_cert_rate.quantile([.25, .50, .75]))"
   ]
  },
  {
   "cell_type": "code",
   "execution_count": null,
   "metadata": {},
   "outputs": [],
   "source": [
    "sns.catplot(x=\"four_rate_bins\", y=\"non_cert_rate\", kind=\"box\", data=simple);"
   ]
  },
  {
   "cell_type": "code",
   "execution_count": null,
   "metadata": {},
   "outputs": [],
   "source": [
    "#similar rates for all categories\n",
    "print('90%+ Graduate Geometry Rate (25th, 50th, 75th percentile):\\n',grad_90.geometry_rate.quantile([.25, .50, .75]))\n",
    "print('80%+ Graduate Geometry Rate (25th, 50th, 75th percentile):\\n',grad_80.geometry_rate.quantile([.25, .50, .75]))\n",
    "print('60%+ Graduate Geometry Rate (25th, 50th, 75th percentile):\\n',grad_70.geometry_rate.quantile([.25, .50, .75]))\n",
    "print('50%+ Graduate Geometry Rate (25th, 50th, 75th percentile):\\n',grad_50.geometry_rate.quantile([.25, .50, .75]))"
   ]
  },
  {
   "cell_type": "code",
   "execution_count": null,
   "metadata": {},
   "outputs": [],
   "source": [
    "#nothing\n",
    "print('90%+ Graduate Harassment & Bullying Rate (25th, 50th, 75th percentile):\\n',grad_90.harassed_rate.quantile([.25, .50, .75]))\n",
    "print('80%+ Graduate Harassment & Bullying Rate (25th, 50th, 75th percentile):\\n',grad_80.harassed_rate.quantile([.25, .50, .75]))\n",
    "print('60%+ Graduate Harassment & Bullying Rate (25th, 50th, 75th percentile):\\n',grad_70.harassed_rate.quantile([.25, .50, .75]))\n",
    "print('50%+ Graduate Harassment & Bullying Rate (25th, 50th, 75th percentile):\\n',grad_50.harassed_rate.quantile([.25, .50, .75]))"
   ]
  },
  {
   "cell_type": "code",
   "execution_count": null,
   "metadata": {
    "scrolled": true
   },
   "outputs": [],
   "source": [
    "#Could be a good metric. \n",
    "print('90%+ Graduate Suspension Day Rate (25th, 50th, 75th percentile):\\n',grad_90.suspensed_day_rate.quantile([.25, .50, .75]))\n",
    "print('80%+ Graduate Suspension Day Rate (25th, 50th, 75th percentile):\\n',grad_80.suspensed_day_rate.quantile([.25, .50, .75]))\n",
    "print('60%+ Graduate Suspension Day Rate (25th, 50th, 75th percentile):\\n',grad_70.suspensed_day_rate.quantile([.25, .50, .75]))\n",
    "print('50%+ Graduate Suspension Day Rate (25th, 50th, 75th percentile):\\n',grad_50.suspensed_day_rate.quantile([.25, .50, .75]))"
   ]
  },
  {
   "cell_type": "code",
   "execution_count": null,
   "metadata": {},
   "outputs": [],
   "source": [
    "sns.catplot(x=\"four_rate_bins\", y=\"suspensed_day_rate\", kind=\"box\", data=simple);\n"
   ]
  },
  {
   "cell_type": "code",
   "execution_count": null,
   "metadata": {},
   "outputs": [],
   "source": [
    "#another good metric\n",
    "print('90%+ Graduate Calculus Rate (25th, 50th, 75th percentile):\\n',grad_90.calc_rate.quantile([.25, .50, .75]))\n",
    "print('80%+ Graduate Calculus Rate (25th, 50th, 75th percentile):\\n',grad_80.calc_rate.quantile([.25, .50, .75]))\n",
    "print('60%+ Graduate Calculus Rate (25th, 50th, 75th percentile):\\n',grad_70.calc_rate.quantile([.25, .50, .75]))\n",
    "print('50%+ Graduate Calculus Rate (25th, 50th, 75th percentile):\\n',grad_50.calc_rate.quantile([.25, .50, .75]))"
   ]
  },
  {
   "cell_type": "code",
   "execution_count": null,
   "metadata": {},
   "outputs": [],
   "source": [
    "sns.catplot(x=\"four_rate_bins\", y=\"calc_rate\", kind=\"box\", data=simple);"
   ]
  },
  {
   "cell_type": "code",
   "execution_count": null,
   "metadata": {},
   "outputs": [],
   "source": [
    "#no much here\n",
    "print('90%+ Graduate Algebra II Rate (25th, 50th, 75th percentile):\\n',grad_90.algebra2_rate.quantile([.25, .50, .75]))\n",
    "print('80%+ Graduate Algebra II Rate (25th, 50th, 75th percentile):\\n',grad_80.algebra2_rate.quantile([.25, .50, .75]))\n",
    "print('60%+ Graduate Algebra II Rate (25th, 50th, 75th percentile):\\n',grad_70.algebra2_rate.quantile([.25, .50, .75]))\n",
    "print('50%+ Graduate Algebra II Rate (25th, 50th, 75th percentile):\\n',grad_50.algebra2_rate.quantile([.25, .50, .75]))"
   ]
  },
  {
   "cell_type": "code",
   "execution_count": null,
   "metadata": {},
   "outputs": [],
   "source": [
    "#not much here\n",
    "print('90%+ Graduate Pass Algebra I Rate (25th, 50th, 75th percentile):\\n',grad_90.pass_algebra_rate.quantile([.25, .50, .75]))\n",
    "print('80%+ Graduate Pass Algebra I Rate (25th, 50th, 75th percentile):\\n',grad_80.pass_algebra_rate.quantile([.25, .50, .75]))\n",
    "print('60%+ Graduate Pass Algebra I Rate (25th, 50th, 75th percentile):\\n',grad_70.pass_algebra_rate.quantile([.25, .50, .75]))\n",
    "print('50%+ Graduate Pass Algebra I Rate (25th, 50th, 75th percentile):\\n',grad_50.pass_algebra_rate.quantile([.25, .50, .75]))"
   ]
  },
  {
   "cell_type": "code",
   "execution_count": null,
   "metadata": {},
   "outputs": [],
   "source": [
    "#useful metric\n",
    "print('90%+ Graduate SAT/ACT Rate (25th, 50th, 75th percentile):\\n',grad_90.sat_act_rate.quantile([.25, .50, .75]))\n",
    "print('80%+ Graduate SAT/ACT Rate (25th, 50th, 75th percentile):\\n',grad_80.sat_act_rate.quantile([.25, .50, .75]))\n",
    "print('60%+ Graduate SAT/ACT Rate (25th, 50th, 75th percentile):\\n',grad_70.sat_act_rate.quantile([.25, .50, .75]))\n",
    "print('50%+ Graduate SAT/ACT Rate (25th, 50th, 75th percentile):\\n',grad_50.sat_act_rate.quantile([.25, .50, .75]))"
   ]
  },
  {
   "cell_type": "code",
   "execution_count": null,
   "metadata": {},
   "outputs": [],
   "source": [
    "sns.catplot(x=\"four_rate_bins\", y=\"sat_act_rate\", kind=\"box\", data=simple);"
   ]
  },
  {
   "cell_type": "code",
   "execution_count": null,
   "metadata": {},
   "outputs": [],
   "source": [
    "#level up bins\n",
    "#create the binned categories\n",
    "simple['level_up_bins'] = pd.cut(simple['grad_slice'].astype(int), \n",
    "    [0, 59, 79, 89, 100], labels = ['60-79% Level Up Rate', '80-89% Level Up Rate', '90%+ Level Up Rate', '100% Level Up Rate'])"
   ]
  },
  {
   "cell_type": "code",
   "execution_count": null,
   "metadata": {
    "scrolled": true
   },
   "outputs": [],
   "source": [
    "simple.head()"
   ]
  },
  {
   "cell_type": "code",
   "execution_count": null,
   "metadata": {},
   "outputs": [],
   "source": [
    "len(simple['grad_slice'] == 100)"
   ]
  },
  {
   "cell_type": "code",
   "execution_count": null,
   "metadata": {},
   "outputs": [],
   "source": [
    "print('100% Graduate Sports Participation Rate (25th, 50th, 75th percentile):\\n',grad_100.sports_rate.quantile([.25, .50, .75]))"
   ]
  },
  {
   "cell_type": "code",
   "execution_count": null,
   "metadata": {},
   "outputs": [],
   "source": [
    "print('100% Graduate Chronic Absenteeism Rate (25th, 50th, 75th percentile):\\n',grad_100.chronic_absent_rate.quantile([.25, .50, .75]))"
   ]
  },
  {
   "cell_type": "code",
   "execution_count": null,
   "metadata": {},
   "outputs": [],
   "source": []
  },
  {
   "cell_type": "code",
   "execution_count": null,
   "metadata": {},
   "outputs": [],
   "source": []
  },
  {
   "cell_type": "code",
   "execution_count": null,
   "metadata": {},
   "outputs": [],
   "source": [
    "#code from greg to make loop to go through variables to choose most important \n",
    "#one for each school\n",
    "var_sweep = {}\n",
    "for col in cols:\n",
    "  delta = np.stdev(data[col])\n",
    "  tmp = data.copy()\n",
    "  tmp[col] = tmp[col] + delta\n",
    "  var_sweep[col] = model.predict(tmp.values)\n"
   ]
  }
 ],
 "metadata": {
  "kernelspec": {
   "display_name": "Python 3",
   "language": "python",
   "name": "python3"
  },
  "language_info": {
   "codemirror_mode": {
    "name": "ipython",
    "version": 3
   },
   "file_extension": ".py",
   "mimetype": "text/x-python",
   "name": "python",
   "nbconvert_exporter": "python",
   "pygments_lexer": "ipython3",
   "version": "3.6.6"
  }
 },
 "nbformat": 4,
 "nbformat_minor": 2
}
