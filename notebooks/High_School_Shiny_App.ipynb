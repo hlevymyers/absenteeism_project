{
 "cells": [
  {
   "cell_type": "markdown",
   "metadata": {},
   "source": [
    "## Build a First Draft of a Shiny App\n",
    "\n",
    "All the analysis was done in Python, but the Shiny app was built in this jupyter notebook using a R environment. The first draft of the app, generated a table."
   ]
  },
  {
   "cell_type": "code",
   "execution_count": 149,
   "metadata": {},
   "outputs": [],
   "source": [
    "library(shiny)\n",
    "library(reticulate)\n",
    "library(DT)\n"
   ]
  },
  {
   "cell_type": "code",
   "execution_count": 137,
   "metadata": {
    "scrolled": true
   },
   "outputs": [
    {
     "name": "stderr",
     "output_type": "stream",
     "text": [
      "also installing the dependency ‘crosstalk’\n",
      "\n",
      "Updating HTML index of packages in '.Library'\n",
      "Making 'packages.html' ... done\n"
     ]
    }
   ],
   "source": [
    "install.packages('DT')"
   ]
  },
  {
   "cell_type": "code",
   "execution_count": 216,
   "metadata": {},
   "outputs": [],
   "source": [
    " nums = read.csv(\"/Users/flatironschool/Absenteeism_Project/notebooks/grad_num.csv\")"
   ]
  },
  {
   "cell_type": "code",
   "execution_count": null,
   "metadata": {},
   "outputs": [],
   "source": []
  },
  {
   "cell_type": "code",
   "execution_count": 223,
   "metadata": {},
   "outputs": [],
   "source": [
    "ui <- pageWithSidebar(\n",
    "      headerPanel('Actions that Lead to Increases in High School Graduations'),\n",
    "      sidebarPanel(\n",
    "        \n",
    "        selectInput('State', 'Which State?', choices = unique(nums['State']), multiple=FALSE),\n",
    "        uiOutput('District'),\n",
    "        uiOutput('High_School'),\n",
    "        actionButton(\"submit\", label = \"Submit\")\n",
    "      ),\n",
    "      mainPanel(\n",
    "        DT::dataTableOutput('df_data_out')\n",
    "      )\n",
    "    )"
   ]
  },
  {
   "cell_type": "code",
   "execution_count": 226,
   "metadata": {},
   "outputs": [],
   "source": [
    "# Define server logic for inputs ----\n",
    "server <- function(input, output) {\n",
    "    nums = read.csv(\"/Users/flatironschool/Absenteeism_Project/notebooks/grad_num.csv\")\n",
    "    random_vals <- reactiveValues(df_data = NULL)\n",
    "   \n",
    "    output$District <- renderUI({\n",
    "        selectInput('District_dynamic', 'Which School District?', choices = nums[nums$State == input$State, 'District'])\n",
    "    })\n",
    "    \n",
    "    output$High_School <- renderUI({\n",
    "        selectInput('High_School_dynamic', 'Which High School?', choices = nums[(nums$State == input$State) & (nums$District == input$District_dynamic), 'High_School'])\n",
    "    })\n",
    "    \n",
    " observeEvent(input$submit, {\n",
    "    random_vals$df_data <- DT::datatable(t(nums[(nums$State == input$State) & (nums$District == input$District_dynamic) & (nums$High_School == input$High_School_dynamic), \n",
    "                                       c('State', 'District', 'High_School', 'Graduation_Rate_2015_16', 'Total_Enrollment', 'Number_of_Chronically_Absent_Students', \n",
    "                                         'Number_of_Student_Athletes', 'Number_of_Days_Missed_to_Suspensions', 'Number_of_Non_Certified_Teachers', 'Level_Up_Graduation_Rate', \n",
    "                                         'Level_Up_25th_Percentile_Number_Chronic_Absent_Students','Level_Up_75th_Percentile_Number_Chronic_Absent_Students',\n",
    "                                         'Level_Up_25th_Percentile_Student_Athletes','Level_Up_75th_Percentile_Student_Athletes','Level_Up_25th_Percentile_Days_Missed_due_to_Suspension',\n",
    "                                         'Level_Up_75th_Percentile_Days_Missed_due_to_Suspension', 'Level_Up_25th_Percentile_Non_Certified_Teachers', \n",
    "                                         'Level_up_75th_Percentile_Non_Certified_Teachers')]))\n",
    "})\n",
    "    \n",
    " output$df_data_out <- renderDataTable(random_vals$df_data)\n",
    "}\n"
   ]
  },
  {
   "cell_type": "code",
   "execution_count": null,
   "metadata": {
    "scrolled": false
   },
   "outputs": [
    {
     "name": "stderr",
     "output_type": "stream",
     "text": [
      "\n",
      "Listening on http://127.0.0.1:4944\n"
     ]
    }
   ],
   "source": [
    "shinyApp(ui = ui, server = server)"
   ]
  },
  {
   "cell_type": "code",
   "execution_count": null,
   "metadata": {},
   "outputs": [],
   "source": []
  }
 ],
 "metadata": {
  "kernelspec": {
   "display_name": "R [conda env:grads_from_fcps]",
   "language": "R",
   "name": "conda-env-grads_from_fcps-r"
  },
  "language_info": {
   "codemirror_mode": "r",
   "file_extension": ".r",
   "mimetype": "text/x-r-source",
   "name": "R",
   "pygments_lexer": "r",
   "version": "3.6.0"
  }
 },
 "nbformat": 4,
 "nbformat_minor": 2
}
