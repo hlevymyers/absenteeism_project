{
 "cells": [
  {
   "cell_type": "markdown",
   "metadata": {},
   "source": [
    "## Begin Exploring Data and Building Features\n",
    "\n",
    "The data disaggregates variables multiple ways, male and female, white, African-American, Hispanic, Asian-American, IEP/504, etc. and covers 34 topical areas including chronic absenteeism of both students and teachers, subjects, curriculum focus, sports participation, harassment and bullying, teacher certification, discipline, budgets, and more. In all situations, the features used the summed the male and female numbers and did not consider disaggregated groups. Even so, there were more than 170 columns of total male, female or other variables. The combined data set was more than 1,800 columns wide and had data on more 21,000 high schools.\n",
    "\n",
    "Basic data cleaning involved deleting unused columns, totaling male and female number to get a total for the school. Often when schools did not have the data available or immediately available they were given the option of adding a negative number as an indicator to explain the missing data. Those negative numbers were converted to NANs.\n",
    "\n",
    "The variables are all created in the notebook. The exploratory data and visualization are in other notebooks, especially, Simple_numbers, Big_and_Small EDA, and Large_Schools_First_Models."
   ]
  },
  {
   "cell_type": "code",
   "execution_count": 49,
   "metadata": {},
   "outputs": [],
   "source": [
    "import numpy as np\n",
    "import pandas as pd\n",
    "import matplotlib.pyplot as plt\n",
    "import seaborn as sns\n",
    "%matplotlib inline"
   ]
  },
  {
   "cell_type": "code",
   "execution_count": 50,
   "metadata": {},
   "outputs": [
    {
     "name": "stderr",
     "output_type": "stream",
     "text": [
      "/anaconda3/envs/absenteeism/lib/python3.6/site-packages/IPython/core/interactiveshell.py:2785: DtypeWarning: Columns (9,11,13,15,17,19,21,23,25,51,52,53,58,59,1856) have mixed types. Specify dtype option on import or set low_memory=False.\n",
      "  interactivity=interactivity, compiler=compiler, result=result)\n"
     ]
    }
   ],
   "source": [
    "#combo is the combined graduation and features data sets\n",
    "combo = pd.read_csv('/Users/flatironschool/Absenteeism_Project/data/processed/grad_data.csv')"
   ]
  },
  {
   "cell_type": "code",
   "execution_count": 51,
   "metadata": {},
   "outputs": [
    {
     "data": {
      "text/html": [
       "<div>\n",
       "<style scoped>\n",
       "    .dataframe tbody tr th:only-of-type {\n",
       "        vertical-align: middle;\n",
       "    }\n",
       "\n",
       "    .dataframe tbody tr th {\n",
       "        vertical-align: top;\n",
       "    }\n",
       "\n",
       "    .dataframe thead th {\n",
       "        text-align: right;\n",
       "    }\n",
       "</style>\n",
       "<table border=\"1\" class=\"dataframe\">\n",
       "  <thead>\n",
       "    <tr style=\"text-align: right;\">\n",
       "      <th></th>\n",
       "      <th>Unnamed: 0</th>\n",
       "      <th>STNAM</th>\n",
       "      <th>FIPST</th>\n",
       "      <th>LEAID_x</th>\n",
       "      <th>LEANM</th>\n",
       "      <th>NCESSCH</th>\n",
       "      <th>SCHNAM</th>\n",
       "      <th>ALL_COHORT_1516</th>\n",
       "      <th>ALL_RATE_1516</th>\n",
       "      <th>MAM_COHORT_1516</th>\n",
       "      <th>...</th>\n",
       "      <th>SCH_JJTYPE</th>\n",
       "      <th>SCH_JJSYDAYS</th>\n",
       "      <th>SCH_JJHOURS</th>\n",
       "      <th>SCH_JJPART_LT15</th>\n",
       "      <th>SCH_JJPART_15T30</th>\n",
       "      <th>SCH_JJPART_31T90</th>\n",
       "      <th>SCH_JJPART_91T180</th>\n",
       "      <th>SCH_JJPART_OV180</th>\n",
       "      <th>districtID</th>\n",
       "      <th>IDSCH</th>\n",
       "    </tr>\n",
       "  </thead>\n",
       "  <tbody>\n",
       "    <tr>\n",
       "      <th>0</th>\n",
       "      <td>0</td>\n",
       "      <td>ALABAMA</td>\n",
       "      <td>1</td>\n",
       "      <td>100005</td>\n",
       "      <td>Albertville City</td>\n",
       "      <td>10000500871</td>\n",
       "      <td>Albertville High Sch</td>\n",
       "      <td>296</td>\n",
       "      <td>92</td>\n",
       "      <td>2</td>\n",
       "      <td>...</td>\n",
       "      <td>-9</td>\n",
       "      <td>-9</td>\n",
       "      <td>-9</td>\n",
       "      <td>-9</td>\n",
       "      <td>-9</td>\n",
       "      <td>-9</td>\n",
       "      <td>-9</td>\n",
       "      <td>-9</td>\n",
       "      <td>100005</td>\n",
       "      <td>871</td>\n",
       "    </tr>\n",
       "    <tr>\n",
       "      <th>1</th>\n",
       "      <td>1</td>\n",
       "      <td>ALABAMA</td>\n",
       "      <td>1</td>\n",
       "      <td>100006</td>\n",
       "      <td>Marshall County</td>\n",
       "      <td>10000600872</td>\n",
       "      <td>Asbury Sch</td>\n",
       "      <td>67</td>\n",
       "      <td>GE95</td>\n",
       "      <td>2</td>\n",
       "      <td>...</td>\n",
       "      <td>-9</td>\n",
       "      <td>-9</td>\n",
       "      <td>-9</td>\n",
       "      <td>-9</td>\n",
       "      <td>-9</td>\n",
       "      <td>-9</td>\n",
       "      <td>-9</td>\n",
       "      <td>-9</td>\n",
       "      <td>100006</td>\n",
       "      <td>872</td>\n",
       "    </tr>\n",
       "    <tr>\n",
       "      <th>2</th>\n",
       "      <td>2</td>\n",
       "      <td>ALABAMA</td>\n",
       "      <td>1</td>\n",
       "      <td>100006</td>\n",
       "      <td>Marshall County</td>\n",
       "      <td>10000600878</td>\n",
       "      <td>Douglas High Sch</td>\n",
       "      <td>153</td>\n",
       "      <td>85-89</td>\n",
       "      <td>.</td>\n",
       "      <td>...</td>\n",
       "      <td>-9</td>\n",
       "      <td>-9</td>\n",
       "      <td>-9</td>\n",
       "      <td>-9</td>\n",
       "      <td>-9</td>\n",
       "      <td>-9</td>\n",
       "      <td>-9</td>\n",
       "      <td>-9</td>\n",
       "      <td>100006</td>\n",
       "      <td>878</td>\n",
       "    </tr>\n",
       "    <tr>\n",
       "      <th>3</th>\n",
       "      <td>3</td>\n",
       "      <td>ALABAMA</td>\n",
       "      <td>1</td>\n",
       "      <td>100006</td>\n",
       "      <td>Marshall County</td>\n",
       "      <td>10000600883</td>\n",
       "      <td>Kate D Smith DAR High Sch</td>\n",
       "      <td>120</td>\n",
       "      <td>80-84</td>\n",
       "      <td>.</td>\n",
       "      <td>...</td>\n",
       "      <td>-9</td>\n",
       "      <td>-9</td>\n",
       "      <td>-9</td>\n",
       "      <td>-9</td>\n",
       "      <td>-9</td>\n",
       "      <td>-9</td>\n",
       "      <td>-9</td>\n",
       "      <td>-9</td>\n",
       "      <td>100006</td>\n",
       "      <td>883</td>\n",
       "    </tr>\n",
       "    <tr>\n",
       "      <th>4</th>\n",
       "      <td>4</td>\n",
       "      <td>ALABAMA</td>\n",
       "      <td>1</td>\n",
       "      <td>100006</td>\n",
       "      <td>Marshall County</td>\n",
       "      <td>10000601585</td>\n",
       "      <td>Brindlee Mt High Sch</td>\n",
       "      <td>94</td>\n",
       "      <td>85-89</td>\n",
       "      <td>2</td>\n",
       "      <td>...</td>\n",
       "      <td>-9</td>\n",
       "      <td>-9</td>\n",
       "      <td>-9</td>\n",
       "      <td>-9</td>\n",
       "      <td>-9</td>\n",
       "      <td>-9</td>\n",
       "      <td>-9</td>\n",
       "      <td>-9</td>\n",
       "      <td>100006</td>\n",
       "      <td>1585</td>\n",
       "    </tr>\n",
       "  </tbody>\n",
       "</table>\n",
       "<p>5 rows × 1866 columns</p>\n",
       "</div>"
      ],
      "text/plain": [
       "   Unnamed: 0    STNAM  FIPST  LEAID_x             LEANM      NCESSCH  \\\n",
       "0           0  ALABAMA      1   100005  Albertville City  10000500871   \n",
       "1           1  ALABAMA      1   100006   Marshall County  10000600872   \n",
       "2           2  ALABAMA      1   100006   Marshall County  10000600878   \n",
       "3           3  ALABAMA      1   100006   Marshall County  10000600883   \n",
       "4           4  ALABAMA      1   100006   Marshall County  10000601585   \n",
       "\n",
       "                      SCHNAM  ALL_COHORT_1516 ALL_RATE_1516 MAM_COHORT_1516  \\\n",
       "0       Albertville High Sch              296            92               2   \n",
       "1                 Asbury Sch               67          GE95               2   \n",
       "2           Douglas High Sch              153         85-89               .   \n",
       "3  Kate D Smith DAR High Sch              120         80-84               .   \n",
       "4       Brindlee Mt High Sch               94         85-89               2   \n",
       "\n",
       "   ...  SCH_JJTYPE SCH_JJSYDAYS SCH_JJHOURS SCH_JJPART_LT15 SCH_JJPART_15T30  \\\n",
       "0  ...          -9           -9          -9              -9               -9   \n",
       "1  ...          -9           -9          -9              -9               -9   \n",
       "2  ...          -9           -9          -9              -9               -9   \n",
       "3  ...          -9           -9          -9              -9               -9   \n",
       "4  ...          -9           -9          -9              -9               -9   \n",
       "\n",
       "  SCH_JJPART_31T90 SCH_JJPART_91T180 SCH_JJPART_OV180 districtID IDSCH  \n",
       "0               -9                -9               -9     100005   871  \n",
       "1               -9                -9               -9     100006   872  \n",
       "2               -9                -9               -9     100006   878  \n",
       "3               -9                -9               -9     100006   883  \n",
       "4               -9                -9               -9     100006  1585  \n",
       "\n",
       "[5 rows x 1866 columns]"
      ]
     },
     "execution_count": 51,
     "metadata": {},
     "output_type": "execute_result"
    }
   ],
   "source": [
    "combo.head()"
   ]
  },
  {
   "cell_type": "code",
   "execution_count": 52,
   "metadata": {},
   "outputs": [
    {
     "name": "stdout",
     "output_type": "stream",
     "text": [
      "<class 'pandas.core.frame.DataFrame'>\n",
      "RangeIndex: 21867 entries, 0 to 21866\n",
      "Columns: 1866 entries, Unnamed: 0 to IDSCH\n",
      "dtypes: float64(32), int64(1748), object(86)\n",
      "memory usage: 311.3+ MB\n"
     ]
    }
   ],
   "source": [
    "combo.info()"
   ]
  },
  {
   "cell_type": "markdown",
   "metadata": {},
   "source": [
    "The OCR (features) data set disaggregates the data by ethnicity, gender, \n",
    "504/IEP/disability status, English language learner, etc. This project \n",
    "uses the total for each variable, not the disaggregated. The cell below\n",
    "returned totals to begin the aggregation process"
   ]
  },
  {
   "cell_type": "code",
   "execution_count": 53,
   "metadata": {
    "scrolled": true
   },
   "outputs": [
    {
     "name": "stdout",
     "output_type": "stream",
     "text": [
      "['TOT_PSENR_M', 'TOT_PSENR_F', 'TOT_ENR_M', 'TOT_ENR_F', 'TOT_LEPENR_M', 'TOT_LEPENR_F', 'TOT_LEPPROGENR_M', 'TOT_LEPPROGENR_F', 'TOT_IDEAENR_M', 'TOT_IDEAENR_F', 'TOT_504ENR_M', 'TOT_504ENR_F', 'TOT_GTENR_M', 'TOT_GTENR_F', 'TOT_DUAL_M', 'TOT_DUAL_F', 'TOT_ALGENR_G08_M', 'TOT_ALGENR_G08_F', 'TOT_ALGENR_GS0910_M', 'TOT_ALGENR_GS0910_F', 'TOT_ALGENR_GS1112_M', 'TOT_ALGENR_GS1112_F', 'TOT_ALGPASS_G08_M', 'TOT_ALGPASS_G08_F', 'TOT_ALGPASS_GS0910_M', 'TOT_ALGPASS_GS0910_F', 'TOT_ALGPASS_GS1112_M', 'TOT_ALGPASS_GS1112_F', 'TOT_GEOM_M', 'TOT_GEOM_F', 'TOT_MATHENR_ALG2_M', 'TOT_MATHENR_ALG2_F', 'TOT_MATHENR_CALC_M', 'TOT_MATHENR_CALC_F', 'TOT_MATHENR_ADVM_M', 'TOT_MATHENR_ADVM_F', 'TOT_SCIENR_BIOL_M', 'TOT_SCIENR_BIOL_F', 'TOT_SCIENR_CHEM_M', 'TOT_SCIENR_CHEM_F', 'TOT_SCIENR_PHYS_M', 'TOT_SCIENR_PHYS_F', 'TOT_SSCLASSES_ALGG', 'TOT_SSCLASSES_OTHM', 'TOT_SSCLASSES_SCI', 'TOT_SSCLASSES_ENGL', 'TOT_SSCLASSES_OTHA', 'TOT_APENR_M', 'TOT_APENR_F', 'TOT_APMATHENR_M', 'TOT_APMATHENR_F', 'TOT_APSCIENR_M', 'TOT_APSCIENR_F', 'TOT_APOTHENR_M', 'TOT_APOTHENR_F', 'TOT_APEXAM_ONEORMORE_M', 'TOT_APEXAM_ONEORMORE_F', 'TOT_APEXAM_NONE_M', 'TOT_APEXAM_NONE_F', 'TOT_APPASS_ONEORMORE_M', 'TOT_APPASS_ONEORMORE_F', 'TOT_APPASS_NONE_M', 'TOT_APPASS_NONE_F', 'TOT_IBENR_M', 'TOT_IBENR_F', 'TOT_SATACT_M', 'TOT_SATACT_F', 'TOT_PSDISC_CORP_M', 'TOT_PSDISC_CORP_F', 'TOT_DISCWODIS_CORP_M', 'TOT_DISCWODIS_CORP_F', 'TOT_DISCWDIS_CORP_IDEA_M', 'TOT_DISCWDIS_CORP_IDEA_F', 'TOT_PSDISC_SINGOOS_M', 'TOT_PSDISC_SINGOOS_F', 'TOT_PSDISC_MULTOOS_M', 'TOT_PSDISC_MULTOOS_F', 'TOT_DISCWODIS_ISS_M', 'TOT_DISCWODIS_ISS_F', 'TOT_DISCWODIS_SINGOOS_M', 'TOT_DISCWODIS_SINGOOS_F', 'TOT_DISCWODIS_MULTOOS_M', 'TOT_DISCWODIS_MULTOOS_F', 'TOT_DISCWDIS_ISS_IDEA_M', 'TOT_DISCWDIS_ISS_IDEA_F', 'TOT_DISCWDIS_SINGOOS_IDEA_M', 'TOT_DISCWDIS_SINGOOS_IDEA_F', 'TOT_DISCWDIS_MULTOOS_IDEA_M', 'TOT_DISCWDIS_MULTOOS_IDEA_F', 'TOT_DAYSMISSED_M', 'TOT_DAYSMISSED_F', 'TOT_PSDISC_EXP_M', 'TOT_PSDISC_EXP_F', 'TOT_DISCWODIS_EXPWE_M', 'TOT_DISCWODIS_EXPWE_F', 'TOT_DISCWODIS_EXPWOE_M', 'TOT_DISCWODIS_EXPWOE_F', 'TOT_DISCWODIS_EXPZT_M', 'TOT_DISCWODIS_EXPZT_F', 'TOT_DISCWDIS_EXPWE_IDEA_M', 'TOT_DISCWDIS_EXPWE_IDEA_F', 'TOT_DISCWDIS_EXPWOE_IDEA_M', 'TOT_DISCWDIS_EXPWOE_IDEA_F', 'TOT_DISCWDIS_EXPZT_IDEA_M', 'TOT_DISCWDIS_EXPZT_IDEA_F', 'TOT_DISCWODIS_TFRALT_M', 'TOT_DISCWODIS_TFRALT_F', 'TOT_DISCWDIS_TFRALT_IDEA_M', 'TOT_DISCWDIS_TFRALT_IDEA_F', 'TOT_DISCWODIS_REF_M', 'TOT_DISCWODIS_REF_F', 'TOT_DISCWDIS_REF_IDEA_M', 'TOT_DISCWDIS_REF_IDEA_F', 'TOT_DISCWODIS_ARR_M', 'TOT_DISCWODIS_ARR_F', 'TOT_DISCWDIS_ARR_IDEA_M', 'TOT_DISCWDIS_ARR_IDEA_F', 'TOT_RS_NONIDEA_MECH_M', 'TOT_RS_NONIDEA_MECH_F', 'TOT_RS_NONIDEA_PHYS_M', 'TOT_RS_NONIDEA_PHYS_F', 'TOT_RS_NONIDEA_SECL_M', 'TOT_RS_NONIDEA_SECL_F', 'TOT_RS_IDEA_MECH_M', 'TOT_RS_IDEA_MECH_F', 'TOT_RS_IDEA_PHYS_M', 'TOT_RS_IDEA_PHYS_F', 'TOT_RS_IDEA_SECL_M', 'TOT_RS_IDEA_SECL_F', 'TOT_HBREPORTED_SEX_M', 'TOT_HBREPORTED_SEX_F', 'TOT_HBREPORTED_RAC_M', 'TOT_HBREPORTED_RAC_F', 'TOT_HBREPORTED_DIS_M', 'TOT_HBREPORTED_DIS_F', 'TOT_HBDISCIPLINED_SEX_M', 'TOT_HBDISCIPLINED_SEX_F', 'TOT_HBDISCIPLINED_RAC_M', 'TOT_HBDISCIPLINED_RAC_F', 'TOT_HBDISCIPLINED_DIS_M', 'TOT_HBDISCIPLINED_DIS_F', 'TOT_ABSENT_M', 'TOT_ABSENT_F', 'TOT_RET_KG_M', 'TOT_RET_KG_F', 'TOT_RET_G01_M', 'TOT_RET_G01_F', 'TOT_RET_G02_M', 'TOT_RET_G02_F', 'TOT_RET_G03_M', 'TOT_RET_G03_F', 'TOT_RET_G04_M', 'TOT_RET_G04_F', 'TOT_RET_G05_M', 'TOT_RET_G05_F', 'TOT_RET_G06_M', 'TOT_RET_G06_F', 'TOT_RET_G07_M', 'TOT_RET_G07_F', 'TOT_RET_G08_M', 'TOT_RET_G08_F', 'TOT_RET_G09_M', 'TOT_RET_G09_F', 'TOT_RET_G10_M', 'TOT_RET_G10_F', 'TOT_RET_G11_M', 'TOT_RET_G11_F', 'TOT_RET_G12_M', 'TOT_RET_G12_F', 'TOT_SSSPORTS', 'TOT_SSTEAMS', 'TOT_SSPART', 'SCH_SAL_TOTPERS_WOFED', 'SCH_SAL_TOTPERS_WFED', 'SCH_FTETEACH_TOT', 'SCH_TEACHERS_CURR_TOT', 'SCH_TEACHERS_PREV_TOT']\n"
     ]
    }
   ],
   "source": [
    "total_cols = [col for col in combo.columns if 'TOT' in col]\n",
    "print(total_cols)"
   ]
  },
  {
   "cell_type": "code",
   "execution_count": 54,
   "metadata": {},
   "outputs": [
    {
     "data": {
      "text/plain": [
       "177"
      ]
     },
     "execution_count": 54,
     "metadata": {},
     "output_type": "execute_result"
    }
   ],
   "source": [
    "len(total_cols)"
   ]
  },
  {
   "cell_type": "code",
   "execution_count": 55,
   "metadata": {},
   "outputs": [],
   "source": [
    "#drop columns of disaggregated graduation rates\n",
    "combo.drop(['FIPST', 'LEAID_x', 'MAM_COHORT_1516', 'MAM_RATE_1516',\n",
    "                    'MAS_COHORT_1516', 'MAS_RATE_1516', 'MBL_COHORT_1516', \n",
    "                    'MBL_RATE_1516','MHI_COHORT_1516', 'MHI_RATE_1516', \n",
    "                    'MTR_COHORT_1516','MTR_RATE_1516', 'MWH_COHORT_1516',\n",
    "                    'MWH_RATE_1516', 'CWD_COHORT_1516','CWD_RATE_1516',\n",
    "                    'ECD_COHORT_1516','ECD_RATE_1516','LEP_COHORT_1516',\n",
    "                    'LEP_RATE_1516','DATE_CUR'], axis=1, inplace=True)\n"
   ]
  },
  {
   "cell_type": "code",
   "execution_count": 56,
   "metadata": {},
   "outputs": [
    {
     "data": {
      "text/html": [
       "<div>\n",
       "<style scoped>\n",
       "    .dataframe tbody tr th:only-of-type {\n",
       "        vertical-align: middle;\n",
       "    }\n",
       "\n",
       "    .dataframe tbody tr th {\n",
       "        vertical-align: top;\n",
       "    }\n",
       "\n",
       "    .dataframe thead th {\n",
       "        text-align: right;\n",
       "    }\n",
       "</style>\n",
       "<table border=\"1\" class=\"dataframe\">\n",
       "  <thead>\n",
       "    <tr style=\"text-align: right;\">\n",
       "      <th></th>\n",
       "      <th>Unnamed: 0</th>\n",
       "      <th>STNAM</th>\n",
       "      <th>LEANM</th>\n",
       "      <th>NCESSCH</th>\n",
       "      <th>SCHNAM</th>\n",
       "      <th>ALL_COHORT_1516</th>\n",
       "      <th>ALL_RATE_1516</th>\n",
       "      <th>LEA_STATE</th>\n",
       "      <th>LEA_STATE_NAME</th>\n",
       "      <th>LEAID_y</th>\n",
       "      <th>...</th>\n",
       "      <th>SCH_JJTYPE</th>\n",
       "      <th>SCH_JJSYDAYS</th>\n",
       "      <th>SCH_JJHOURS</th>\n",
       "      <th>SCH_JJPART_LT15</th>\n",
       "      <th>SCH_JJPART_15T30</th>\n",
       "      <th>SCH_JJPART_31T90</th>\n",
       "      <th>SCH_JJPART_91T180</th>\n",
       "      <th>SCH_JJPART_OV180</th>\n",
       "      <th>districtID</th>\n",
       "      <th>IDSCH</th>\n",
       "    </tr>\n",
       "  </thead>\n",
       "  <tbody>\n",
       "    <tr>\n",
       "      <th>0</th>\n",
       "      <td>0</td>\n",
       "      <td>ALABAMA</td>\n",
       "      <td>Albertville City</td>\n",
       "      <td>10000500871</td>\n",
       "      <td>Albertville High Sch</td>\n",
       "      <td>296</td>\n",
       "      <td>92</td>\n",
       "      <td>AL</td>\n",
       "      <td>ALABAMA</td>\n",
       "      <td>100005</td>\n",
       "      <td>...</td>\n",
       "      <td>-9</td>\n",
       "      <td>-9</td>\n",
       "      <td>-9</td>\n",
       "      <td>-9</td>\n",
       "      <td>-9</td>\n",
       "      <td>-9</td>\n",
       "      <td>-9</td>\n",
       "      <td>-9</td>\n",
       "      <td>100005</td>\n",
       "      <td>871</td>\n",
       "    </tr>\n",
       "    <tr>\n",
       "      <th>1</th>\n",
       "      <td>1</td>\n",
       "      <td>ALABAMA</td>\n",
       "      <td>Marshall County</td>\n",
       "      <td>10000600872</td>\n",
       "      <td>Asbury Sch</td>\n",
       "      <td>67</td>\n",
       "      <td>GE95</td>\n",
       "      <td>AL</td>\n",
       "      <td>ALABAMA</td>\n",
       "      <td>100006</td>\n",
       "      <td>...</td>\n",
       "      <td>-9</td>\n",
       "      <td>-9</td>\n",
       "      <td>-9</td>\n",
       "      <td>-9</td>\n",
       "      <td>-9</td>\n",
       "      <td>-9</td>\n",
       "      <td>-9</td>\n",
       "      <td>-9</td>\n",
       "      <td>100006</td>\n",
       "      <td>872</td>\n",
       "    </tr>\n",
       "    <tr>\n",
       "      <th>2</th>\n",
       "      <td>2</td>\n",
       "      <td>ALABAMA</td>\n",
       "      <td>Marshall County</td>\n",
       "      <td>10000600878</td>\n",
       "      <td>Douglas High Sch</td>\n",
       "      <td>153</td>\n",
       "      <td>85-89</td>\n",
       "      <td>AL</td>\n",
       "      <td>ALABAMA</td>\n",
       "      <td>100006</td>\n",
       "      <td>...</td>\n",
       "      <td>-9</td>\n",
       "      <td>-9</td>\n",
       "      <td>-9</td>\n",
       "      <td>-9</td>\n",
       "      <td>-9</td>\n",
       "      <td>-9</td>\n",
       "      <td>-9</td>\n",
       "      <td>-9</td>\n",
       "      <td>100006</td>\n",
       "      <td>878</td>\n",
       "    </tr>\n",
       "    <tr>\n",
       "      <th>3</th>\n",
       "      <td>3</td>\n",
       "      <td>ALABAMA</td>\n",
       "      <td>Marshall County</td>\n",
       "      <td>10000600883</td>\n",
       "      <td>Kate D Smith DAR High Sch</td>\n",
       "      <td>120</td>\n",
       "      <td>80-84</td>\n",
       "      <td>AL</td>\n",
       "      <td>ALABAMA</td>\n",
       "      <td>100006</td>\n",
       "      <td>...</td>\n",
       "      <td>-9</td>\n",
       "      <td>-9</td>\n",
       "      <td>-9</td>\n",
       "      <td>-9</td>\n",
       "      <td>-9</td>\n",
       "      <td>-9</td>\n",
       "      <td>-9</td>\n",
       "      <td>-9</td>\n",
       "      <td>100006</td>\n",
       "      <td>883</td>\n",
       "    </tr>\n",
       "    <tr>\n",
       "      <th>4</th>\n",
       "      <td>4</td>\n",
       "      <td>ALABAMA</td>\n",
       "      <td>Marshall County</td>\n",
       "      <td>10000601585</td>\n",
       "      <td>Brindlee Mt High Sch</td>\n",
       "      <td>94</td>\n",
       "      <td>85-89</td>\n",
       "      <td>AL</td>\n",
       "      <td>ALABAMA</td>\n",
       "      <td>100006</td>\n",
       "      <td>...</td>\n",
       "      <td>-9</td>\n",
       "      <td>-9</td>\n",
       "      <td>-9</td>\n",
       "      <td>-9</td>\n",
       "      <td>-9</td>\n",
       "      <td>-9</td>\n",
       "      <td>-9</td>\n",
       "      <td>-9</td>\n",
       "      <td>100006</td>\n",
       "      <td>1585</td>\n",
       "    </tr>\n",
       "  </tbody>\n",
       "</table>\n",
       "<p>5 rows × 1845 columns</p>\n",
       "</div>"
      ],
      "text/plain": [
       "   Unnamed: 0    STNAM             LEANM      NCESSCH  \\\n",
       "0           0  ALABAMA  Albertville City  10000500871   \n",
       "1           1  ALABAMA   Marshall County  10000600872   \n",
       "2           2  ALABAMA   Marshall County  10000600878   \n",
       "3           3  ALABAMA   Marshall County  10000600883   \n",
       "4           4  ALABAMA   Marshall County  10000601585   \n",
       "\n",
       "                      SCHNAM  ALL_COHORT_1516 ALL_RATE_1516 LEA_STATE  \\\n",
       "0       Albertville High Sch              296            92        AL   \n",
       "1                 Asbury Sch               67          GE95        AL   \n",
       "2           Douglas High Sch              153         85-89        AL   \n",
       "3  Kate D Smith DAR High Sch              120         80-84        AL   \n",
       "4       Brindlee Mt High Sch               94         85-89        AL   \n",
       "\n",
       "  LEA_STATE_NAME  LEAID_y  ...  SCH_JJTYPE  SCH_JJSYDAYS SCH_JJHOURS  \\\n",
       "0        ALABAMA   100005  ...          -9            -9          -9   \n",
       "1        ALABAMA   100006  ...          -9            -9          -9   \n",
       "2        ALABAMA   100006  ...          -9            -9          -9   \n",
       "3        ALABAMA   100006  ...          -9            -9          -9   \n",
       "4        ALABAMA   100006  ...          -9            -9          -9   \n",
       "\n",
       "   SCH_JJPART_LT15 SCH_JJPART_15T30 SCH_JJPART_31T90 SCH_JJPART_91T180  \\\n",
       "0               -9               -9               -9                -9   \n",
       "1               -9               -9               -9                -9   \n",
       "2               -9               -9               -9                -9   \n",
       "3               -9               -9               -9                -9   \n",
       "4               -9               -9               -9                -9   \n",
       "\n",
       "  SCH_JJPART_OV180 districtID IDSCH  \n",
       "0               -9     100005   871  \n",
       "1               -9     100006   872  \n",
       "2               -9     100006   878  \n",
       "3               -9     100006   883  \n",
       "4               -9     100006  1585  \n",
       "\n",
       "[5 rows x 1845 columns]"
      ]
     },
     "execution_count": 56,
     "metadata": {},
     "output_type": "execute_result"
    }
   ],
   "source": [
    "combo.head()"
   ]
  },
  {
   "cell_type": "markdown",
   "metadata": {},
   "source": [
    "## Replace All Negative Values with NANs\n",
    "If a category did not apply to the school (for example, the school does not offer AP), they plan on getting the data later, small cell value, missing data, system error or some other reason, the variables were assigned a negative number. These have been replaced with NANs."
   ]
  },
  {
   "cell_type": "code",
   "execution_count": 57,
   "metadata": {},
   "outputs": [],
   "source": [
    "combo.replace([-2, -5, -6, -7, -8, -9], np.nan, inplace=True)"
   ]
  },
  {
   "cell_type": "code",
   "execution_count": 59,
   "metadata": {},
   "outputs": [
    {
     "data": {
      "text/plain": [
       "count    16229.000000\n",
       "mean        62.693265\n",
       "std         65.245564\n",
       "min          4.000000\n",
       "25%         16.000000\n",
       "50%         38.000000\n",
       "75%         92.000000\n",
       "max       1470.000000\n",
       "Name: TOT_ALGPASS_GS0910_F, dtype: float64"
      ]
     },
     "execution_count": 59,
     "metadata": {},
     "output_type": "execute_result"
    }
   ],
   "source": [
    "combo['TOT_ALGPASS_GS0910_F'].describe()"
   ]
  },
  {
   "cell_type": "markdown",
   "metadata": {},
   "source": [
    "## Create New Features, Delete Disaggregated Variables"
   ]
  },
  {
   "cell_type": "code",
   "execution_count": 60,
   "metadata": {},
   "outputs": [],
   "source": [
    "#create total enrollment feature and drop the rest of the \n",
    "#disaggregated enrollment features\n",
    "combo['total_enrollment'] = combo['TOT_ENR_M'] + combo['TOT_ENR_F']"
   ]
  },
  {
   "cell_type": "code",
   "execution_count": 61,
   "metadata": {},
   "outputs": [],
   "source": [
    "combo.drop(combo.columns.to_series()['SCH_PSENR_NONIDEA_A3':'SCH_ENR_TR_F'], axis=1, inplace=True)\n",
    "combo.drop(combo.columns.to_series()['SCH_ENR_LEP_M':'SCH_504ENR_LEP_F'], axis=1, inplace=True)"
   ]
  },
  {
   "cell_type": "code",
   "execution_count": 62,
   "metadata": {},
   "outputs": [],
   "source": [
    "combo.drop(combo.columns.to_series()['SCH_GRADE_PS':'SCH_UGDETAIL_HS'], axis=1, inplace=True)"
   ]
  },
  {
   "cell_type": "code",
   "execution_count": 63,
   "metadata": {},
   "outputs": [],
   "source": [
    "#create new feature combining advanced classes: AP, IB, Duel Enrollment \n",
    "#(enrolling in a class at the local community college)\n",
    "\n",
    "combo['total_ap_ib_de'] = combo['TOT_APENR_M'] + combo['TOT_APENR_F'] + combo['TOT_IBENR_M'] + combo['TOT_IBENR_F'] + combo['TOT_DUAL_M'] + combo['TOT_DUAL_F']\n",
    "combo['ap_ib_de_rate'] = combo['total_ap_ib_de']/combo['total_enrollment']"
   ]
  },
  {
   "cell_type": "code",
   "execution_count": 64,
   "metadata": {},
   "outputs": [],
   "source": [
    "combo.drop(['SCH_DUALENR_LEP_M', 'SCH_DUALENR_LEP_F', 'SCH_DUALENR_IDEA_M', 'SCH_DUALENR_IDEA_F'], axis=1, inplace=True)\n",
    "combo.drop(combo.columns.to_series()['SCH_APENR_IND':'SCH_APENR_TR_F'], axis=1, inplace=True)\n",
    "combo.drop(combo.columns.to_series()['SCH_APENR_LEP_M':'SCH_APPASS_NONE_IDEA_F'], axis=1, inplace=True)\n",
    "combo.drop(combo.columns.to_series()['SCH_IBENR_IND':'SCH_IBENR_TR_F'], axis=1, inplace=True)\n",
    "combo.drop(combo.columns.to_series()['SCH_IBENR_LEP_M':'SCH_IBENR_IDEA_F'], axis=1, inplace=True)"
   ]
  },
  {
   "cell_type": "code",
   "execution_count": 65,
   "metadata": {},
   "outputs": [],
   "source": [
    "combo.drop(combo.columns.to_series()['SCH_GTENR_LEP_M':'SCH_DUALENR_TR_F'], axis=1, inplace=True)"
   ]
  },
  {
   "cell_type": "code",
   "execution_count": 66,
   "metadata": {},
   "outputs": [],
   "source": [
    "combo.drop(combo.columns.to_series()['SCH_GT_IND':'SCH_GTENR_TR_F'], axis=1, inplace=True)"
   ]
  },
  {
   "cell_type": "code",
   "execution_count": 67,
   "metadata": {},
   "outputs": [],
   "source": [
    "#create new feature of number and rate of students taking SAT or ACT for\n",
    "#college admission. Deleting disaggregated features\n",
    "combo['total_sat_act'] = combo['TOT_SATACT_M'] + combo['TOT_SATACT_F']\n",
    "combo['sat_act_rate'] = combo['total_sat_act']/combo['total_enrollment']"
   ]
  },
  {
   "cell_type": "code",
   "execution_count": 68,
   "metadata": {},
   "outputs": [],
   "source": [
    "combo.drop(combo.columns.to_series()['SCH_SATACT_HI_M':'SCH_SATACT_TR_F'], axis=1, inplace=True)\n",
    "combo.drop(combo.columns.to_series()['SCH_SATACT_LEP_M':'SCH_SATACT_IDEA_F'], axis=1, inplace=True)"
   ]
  },
  {
   "cell_type": "code",
   "execution_count": 69,
   "metadata": {},
   "outputs": [],
   "source": [
    "#create new feature of number and rate of students passing Algebra for all grades\n",
    "combo['total_pass_algebra'] = combo['TOT_ALGPASS_GS0910_M'] + combo['TOT_ALGPASS_GS0910_F'] + combo['TOT_ALGPASS_GS1112_M'] + combo['TOT_ALGPASS_GS1112_F']\n",
    "combo['pass_algebra_rate'] = combo['total_pass_algebra']/combo['total_enrollment']"
   ]
  },
  {
   "cell_type": "code",
   "execution_count": 70,
   "metadata": {},
   "outputs": [],
   "source": [
    "#create new feature of students enrolled in geometry\n",
    "combo['total_geometry'] = combo['TOT_GEOM_M'] + combo['TOT_GEOM_F']\n",
    "combo['geometry_rate'] = combo['total_geometry']/combo['total_enrollment']"
   ]
  },
  {
   "cell_type": "code",
   "execution_count": 71,
   "metadata": {},
   "outputs": [],
   "source": [
    "#create new feature of students enrolled in algebra 2\n",
    "combo['total_algebra2'] = combo['TOT_MATHENR_ALG2_M'] + combo['TOT_MATHENR_ALG2_F']\n",
    "combo['algebra2_rate'] = combo['total_algebra2']/combo['total_enrollment']"
   ]
  },
  {
   "cell_type": "code",
   "execution_count": 72,
   "metadata": {},
   "outputs": [],
   "source": [
    "#create new feature of students enrolled in calculus\n",
    "combo['total_calc'] = combo['TOT_MATHENR_CALC_M'] + combo['TOT_MATHENR_CALC_F']\n",
    "combo['calc_rate'] = combo['total_calc']/combo['total_enrollment']"
   ]
  },
  {
   "cell_type": "code",
   "execution_count": 73,
   "metadata": {},
   "outputs": [],
   "source": [
    "#create new feature of number and rate of students that are chronically \n",
    "#absent, missing 15 or more school days in a school year. All absences, \n",
    "#excused and unexcused are included. Deleting disaggreated features.\n",
    "combo['total_chronic_absent'] = combo['TOT_ABSENT_M'] + combo['TOT_ABSENT_F']\n",
    "combo['chronic_absent_rate'] = combo['total_chronic_absent']/combo['total_enrollment']"
   ]
  },
  {
   "cell_type": "code",
   "execution_count": 74,
   "metadata": {},
   "outputs": [],
   "source": [
    "combo.drop(combo.columns.to_series()['SCH_ABSENT_HI_M':'SCH_ABSENT_TR_F'], axis=1, inplace=True)\n",
    "combo.drop(combo.columns.to_series()['SCH_ABSENT_LEP_M':'SCH_ABSENT_IDEA_F'], axis=1, inplace=True)"
   ]
  },
  {
   "cell_type": "code",
   "execution_count": 75,
   "metadata": {},
   "outputs": [],
   "source": [
    "#create new feature of number and rate of students participating in sports\n",
    "#delete disaggregated variables\n",
    "combo['sports_part'] = combo['SCH_SSPART_M'] + combo['SCH_SSPART_F']\n",
    "combo['sports_rate'] = combo['sports_part']/combo['total_enrollment']"
   ]
  },
  {
   "cell_type": "code",
   "execution_count": 76,
   "metadata": {},
   "outputs": [],
   "source": [
    "combo.drop(combo.columns.to_series()['SCH_SSATHLETICS_IND':'TOT_SSTEAMS'], axis=1, inplace=True)"
   ]
  },
  {
   "cell_type": "code",
   "execution_count": 77,
   "metadata": {},
   "outputs": [],
   "source": [
    "#create new feature related to the number of days of school lost to suspensions.\n",
    "#Using this feature will penalize longer suspensions.\n",
    "combo['total_suspension_days'] = combo['TOT_DAYSMISSED_F'] + combo['TOT_DAYSMISSED_F']\n",
    "combo['suspensed_day_rate'] = combo['total_suspension_days']/combo['total_enrollment']"
   ]
  },
  {
   "cell_type": "code",
   "execution_count": 78,
   "metadata": {},
   "outputs": [],
   "source": [
    "combo.drop(combo.columns.to_series()['SCH_PSDISC_SINGOOS_HI_M':'SCH_DAYSMISSED_TR_F'], axis=1, inplace=True)\n",
    "combo.drop(combo.columns.to_series()['SCH_DAYSMISSED_LEP_M':'SCH_DAYSMISSED_IDEA_F'], axis=1, inplace=True)"
   ]
  },
  {
   "cell_type": "code",
   "execution_count": 79,
   "metadata": {},
   "outputs": [],
   "source": [
    "#Create new feature related to number and rate of alleged harassment or bullying \n",
    "#on the basis of gender, race, disability, sexual orientation, or religion.\n",
    "combo['harassed'] = combo['SCH_HBALLEGATIONS_SEX'] + combo['SCH_HBALLEGATIONS_RAC'] + combo['SCH_HBALLEGATIONS_DIS'] + combo['SCH_HBALLEGATIONS_ORI'] + combo['SCH_HBALLEGATIONS_REL']\n",
    "combo['harassed_rate'] = combo['harassed']/combo['total_enrollment']"
   ]
  },
  {
   "cell_type": "code",
   "execution_count": 80,
   "metadata": {},
   "outputs": [],
   "source": [
    "combo.drop(combo.columns.to_series()['SCH_HBREPORTED_SEX_HI_M':'SCH_HBDISCIPLINED_DIS_504_F'], axis=1, inplace=True)"
   ]
  },
  {
   "cell_type": "code",
   "execution_count": 81,
   "metadata": {},
   "outputs": [],
   "source": [
    "#Create new feature related to non-personnel expenditures related to \n",
    "#activities funded by Federal, State and local funds. Delete other features \n",
    "combo['activities_funds_rate'] = (combo['SCH_NPE_WOFED'] + combo['SCH_NPE_WFED'])/combo['total_enrollment']"
   ]
  },
  {
   "cell_type": "code",
   "execution_count": 82,
   "metadata": {},
   "outputs": [],
   "source": [
    "combo.drop(['SCH_SAL_TOTPERS_WOFED', 'SCH_FTE_TEACH_WOFED', 'SCH_SAL_TEACH_WOFED'], axis=1, inplace=True)\n",
    "combo.drop(combo.columns.to_series()['SCH_FTE_AID_WOFED':'SCH_SAL_TOTPERS_WFED'], axis=1, inplace=True)"
   ]
  },
  {
   "cell_type": "markdown",
   "metadata": {},
   "source": [
    "## Features related to teachers and staff"
   ]
  },
  {
   "cell_type": "code",
   "execution_count": 83,
   "metadata": {},
   "outputs": [],
   "source": [
    "#rate of non-certified teachers\n",
    "combo['non_cert_rate'] = combo['SCH_FTETEACH_NOTCERT']/combo['SCH_FTETEACH_TOT']"
   ]
  },
  {
   "cell_type": "code",
   "execution_count": 84,
   "metadata": {},
   "outputs": [],
   "source": [
    "#rate of school counselors per student\n",
    "combo['counselor_rate']= combo['SCH_FTECOUNSELORS']/combo['total_enrollment']"
   ]
  },
  {
   "cell_type": "code",
   "execution_count": 85,
   "metadata": {},
   "outputs": [],
   "source": [
    "#rate of chronically absent teachers\n",
    "combo['absent_teacher_rate'] = combo['SCH_FTETEACH_ABSENT']/combo['SCH_FTETEACH_TOT']"
   ]
  },
  {
   "cell_type": "code",
   "execution_count": 86,
   "metadata": {},
   "outputs": [],
   "source": [
    "combo.drop(['SCH_FTETEACH_CERT', 'SCH_FTETEACH_FY', 'SCH_FTETEACH_SY', 'SCH_TEACHERS_CURR_TOT',\n",
    "           'SCH_TEACHERS_PREV_TOT', 'SCH_FTESECURITY_LEO', 'SCH_FTESECURITY_GUA', 'SCH_FTESERVICES_NUR',\n",
    "           'SCH_FTESERVICES_PSY','SCH_FTESERVICES_SOC'], axis=1, inplace=True)"
   ]
  },
  {
   "cell_type": "markdown",
   "metadata": {},
   "source": [
    "## Delete Disaggregated Variables"
   ]
  },
  {
   "cell_type": "markdown",
   "metadata": {},
   "source": [
    "Drop sections on retention, corporal discipline, explusions, transfers, \n",
    "referrals, arrests, offenses, restraint, seclusion, disabilites, and juvenile justice "
   ]
  },
  {
   "cell_type": "code",
   "execution_count": 87,
   "metadata": {},
   "outputs": [],
   "source": [
    "combo.drop(combo.columns.to_series()['SCH_CREDITRECOVERY_IND':'SCH_ALGENR_GS0910_TR_F'], axis=1, inplace=True)"
   ]
  },
  {
   "cell_type": "code",
   "execution_count": 88,
   "metadata": {},
   "outputs": [],
   "source": [
    "combo.drop(combo.columns.to_series()['SCH_ALGENR_GS0910_LEP_M':'SCH_ALGENR_GS1112_TR_F'],axis=1, inplace= True)\n",
    "combo.drop(combo.columns.to_series()['SCH_ALGENR_GS1112_LEP_M':'SCH_ALGPASS_GS0910_TR_F'],axis=1, inplace=True)"
   ]
  },
  {
   "cell_type": "code",
   "execution_count": 89,
   "metadata": {},
   "outputs": [],
   "source": [
    "combo.drop(combo.columns.to_series()['SCH_ALGPASS_GS1112_LEP_M':'SCH_MATHENR_GEOM_TR_F'], axis=1, inplace=True)\n",
    "combo.drop(combo.columns.to_series()['SCH_MATHENR_GEOM_LEP_M':'SCH_MATHENR_ALG2_TR_F'], axis=1, inplace=True)\n",
    "combo.drop(combo.columns.to_series()['SCH_MATHENR_ALG2_LEP_M':'SCH_MATHENR_CALC_TR_F'], axis=1, inplace=True)\n",
    "combo.drop(combo.columns.to_series()['SCH_MATHENR_CALC_LEP_M':'SCH_MATHENR_ADVM_TR_F'], axis=1, inplace=True)"
   ]
  },
  {
   "cell_type": "code",
   "execution_count": 90,
   "metadata": {},
   "outputs": [],
   "source": [
    "combo.drop(combo.columns.to_series()['SCH_MATHENR_ADVM_LEP_M':'SCH_SCIENR_BIOL_TR_F'], axis=1, inplace=True)\n",
    "combo.drop(combo.columns.to_series()['SCH_SCIENR_BIOL_LEP_M':'SCH_SCIENR_CHEM_TR_F'], axis=1, inplace=True)\n",
    "combo.drop(combo.columns.to_series()['SCH_SCIENR_CHEM_LEP_M':'SCH_SCIENR_PHYS_TR_F'], axis=1, inplace=True)\n",
    "combo.drop(combo.columns.to_series()['SCH_SCIENR_PHYS_LEP_M':'TOT_SSCLASSES_OTHA'], axis=1, inplace=True)"
   ]
  },
  {
   "cell_type": "code",
   "execution_count": 91,
   "metadata": {},
   "outputs": [],
   "source": [
    "combo.drop(combo.columns.to_series()['SCH_ALGPASS_GS0910_LEP_M':'SCH_ALGPASS_GS1112_TR_F'], axis=1, inplace=True)\n",
    "combo.drop(combo.columns.to_series()['SCH_RS_NONIDEA_MECH_HI_M':'SCH_RSINSTANCES_SECL_504'],axis=1, inplace=True)"
   ]
  },
  {
   "cell_type": "code",
   "execution_count": 92,
   "metadata": {},
   "outputs": [],
   "source": [
    "combo.drop(combo.columns.to_series()['SCH_CORPINSTANCES_IND':'SCH_CORPINSTANCES_WODIS'], axis=1, inplace=True)\n",
    "combo.drop(combo.columns.to_series()['SCH_PSDISC_EXP_HI_M':'SCH_OFFENSE_POSSWX'],axis=1, inplace=True)"
   ]
  },
  {
   "cell_type": "code",
   "execution_count": 93,
   "metadata": {},
   "outputs": [],
   "source": [
    "combo.drop(combo.columns.to_series()['SCH_RET_KG_IND':'SCH_RET_G12_504_F'],axis=1, inplace=True)\n",
    "combo.drop(combo.columns.to_series()['SCH_JJTYPE':'SCH_JJPART_OV180'], axis=1, inplace=True)"
   ]
  },
  {
   "cell_type": "code",
   "execution_count": 94,
   "metadata": {},
   "outputs": [],
   "source": [
    "combo.drop('SCH_CORPINSTANCES_WDIS', axis=1, inplace=True)"
   ]
  },
  {
   "cell_type": "code",
   "execution_count": 95,
   "metadata": {},
   "outputs": [
    {
     "name": "stdout",
     "output_type": "stream",
     "text": [
      "Unnamed: 0\n",
      "STNAM\n",
      "LEANM\n",
      "NCESSCH\n",
      "SCHNAM\n",
      "ALL_COHORT_1516\n",
      "ALL_RATE_1516\n",
      "LEA_STATE\n",
      "LEA_STATE_NAME\n",
      "LEAID_y\n",
      "LEA_NAME\n",
      "SCHID\n",
      "SCH_NAME\n",
      "COMBOKEY\n",
      "JJ\n",
      "SCH_STATUS_SPED\n",
      "SCH_STATUS_MAGNET\n",
      "SCH_STATUS_CHARTER\n",
      "SCH_STATUS_ALT\n",
      "SCH_MAGNETDETAIL\n",
      "SCH_ALTFOCUS\n",
      "TOT_ENR_M\n",
      "TOT_ENR_F\n",
      "TOT_GTENR_M\n",
      "TOT_GTENR_F\n",
      "TOT_DUAL_M\n",
      "TOT_DUAL_F\n",
      "TOT_ALGENR_GS0910_M\n",
      "TOT_ALGENR_GS0910_F\n",
      "TOT_ALGENR_GS1112_M\n",
      "TOT_ALGENR_GS1112_F\n",
      "TOT_ALGPASS_GS0910_M\n",
      "TOT_ALGPASS_GS0910_F\n",
      "TOT_ALGPASS_GS1112_M\n",
      "TOT_ALGPASS_GS1112_F\n",
      "TOT_GEOM_M\n",
      "TOT_GEOM_F\n",
      "TOT_MATHENR_ALG2_M\n",
      "TOT_MATHENR_ALG2_F\n",
      "TOT_MATHENR_CALC_M\n",
      "TOT_MATHENR_CALC_F\n",
      "TOT_MATHENR_ADVM_M\n",
      "TOT_MATHENR_ADVM_F\n",
      "TOT_SCIENR_BIOL_M\n",
      "TOT_SCIENR_BIOL_F\n",
      "TOT_SCIENR_CHEM_M\n",
      "TOT_SCIENR_CHEM_F\n",
      "TOT_SCIENR_PHYS_M\n",
      "TOT_SCIENR_PHYS_F\n",
      "TOT_APENR_M\n",
      "TOT_APENR_F\n",
      "TOT_IBENR_M\n",
      "TOT_IBENR_F\n",
      "TOT_SATACT_M\n",
      "TOT_SATACT_F\n",
      "TOT_DAYSMISSED_M\n",
      "TOT_DAYSMISSED_F\n",
      "SCH_HBALLEGATIONS_SEX\n",
      "SCH_HBALLEGATIONS_RAC\n",
      "SCH_HBALLEGATIONS_DIS\n",
      "SCH_HBALLEGATIONS_ORI\n",
      "SCH_HBALLEGATIONS_REL\n",
      "TOT_ABSENT_M\n",
      "TOT_ABSENT_F\n",
      "SCH_SSPART_M\n",
      "SCH_SSPART_F\n",
      "TOT_SSPART\n",
      "SCH_NPE_WOFED\n",
      "SCH_NPE_WFED\n",
      "SCH_FTETEACH_TOT\n",
      "SCH_FTETEACH_NOTCERT\n",
      "SCH_FTECOUNSELORS\n",
      "SCH_FTETEACH_ABSENT\n",
      "districtID\n",
      "IDSCH\n",
      "total_enrollment\n",
      "total_ap_ib_de\n",
      "ap_ib_de_rate\n",
      "total_sat_act\n",
      "sat_act_rate\n",
      "total_pass_algebra\n",
      "pass_algebra_rate\n",
      "total_geometry\n",
      "geometry_rate\n",
      "total_algebra2\n",
      "algebra2_rate\n",
      "total_calc\n",
      "calc_rate\n",
      "total_chronic_absent\n",
      "chronic_absent_rate\n",
      "sports_part\n",
      "sports_rate\n",
      "total_suspension_days\n",
      "suspensed_day_rate\n",
      "harassed\n",
      "harassed_rate\n",
      "activities_funds_rate\n",
      "non_cert_rate\n",
      "counselor_rate\n",
      "absent_teacher_rate\n"
     ]
    }
   ],
   "source": [
    "columns = combo.columns\n",
    "for col in columns:\n",
    "    print(col)"
   ]
  },
  {
   "cell_type": "code",
   "execution_count": 96,
   "metadata": {},
   "outputs": [
    {
     "data": {
      "text/html": [
       "<div>\n",
       "<style scoped>\n",
       "    .dataframe tbody tr th:only-of-type {\n",
       "        vertical-align: middle;\n",
       "    }\n",
       "\n",
       "    .dataframe tbody tr th {\n",
       "        vertical-align: top;\n",
       "    }\n",
       "\n",
       "    .dataframe thead th {\n",
       "        text-align: right;\n",
       "    }\n",
       "</style>\n",
       "<table border=\"1\" class=\"dataframe\">\n",
       "  <thead>\n",
       "    <tr style=\"text-align: right;\">\n",
       "      <th></th>\n",
       "      <th>Unnamed: 0</th>\n",
       "      <th>NCESSCH</th>\n",
       "      <th>ALL_COHORT_1516</th>\n",
       "      <th>LEAID_y</th>\n",
       "      <th>SCHID</th>\n",
       "      <th>COMBOKEY</th>\n",
       "      <th>TOT_ENR_M</th>\n",
       "      <th>TOT_ENR_F</th>\n",
       "      <th>TOT_GTENR_M</th>\n",
       "      <th>TOT_GTENR_F</th>\n",
       "      <th>...</th>\n",
       "      <th>sports_part</th>\n",
       "      <th>sports_rate</th>\n",
       "      <th>total_suspension_days</th>\n",
       "      <th>suspensed_day_rate</th>\n",
       "      <th>harassed</th>\n",
       "      <th>harassed_rate</th>\n",
       "      <th>activities_funds_rate</th>\n",
       "      <th>non_cert_rate</th>\n",
       "      <th>counselor_rate</th>\n",
       "      <th>absent_teacher_rate</th>\n",
       "    </tr>\n",
       "  </thead>\n",
       "  <tbody>\n",
       "    <tr>\n",
       "      <th>count</th>\n",
       "      <td>21867.000000</td>\n",
       "      <td>2.186700e+04</td>\n",
       "      <td>21867.000000</td>\n",
       "      <td>2.186700e+04</td>\n",
       "      <td>21867.000000</td>\n",
       "      <td>2.186700e+04</td>\n",
       "      <td>21866.000000</td>\n",
       "      <td>21866.000000</td>\n",
       "      <td>10924.000000</td>\n",
       "      <td>10924.000000</td>\n",
       "      <td>...</td>\n",
       "      <td>15082.000000</td>\n",
       "      <td>15082.000000</td>\n",
       "      <td>21826.000000</td>\n",
       "      <td>21826.000000</td>\n",
       "      <td>21732.000000</td>\n",
       "      <td>21732.000000</td>\n",
       "      <td>2.082300e+04</td>\n",
       "      <td>21506.000000</td>\n",
       "      <td>21863.000000</td>\n",
       "      <td>21506.000000</td>\n",
       "    </tr>\n",
       "    <tr>\n",
       "      <th>mean</th>\n",
       "      <td>10933.000000</td>\n",
       "      <td>2.781234e+11</td>\n",
       "      <td>161.376686</td>\n",
       "      <td>2.781234e+06</td>\n",
       "      <td>2843.349248</td>\n",
       "      <td>2.781234e+11</td>\n",
       "      <td>360.312357</td>\n",
       "      <td>344.848349</td>\n",
       "      <td>53.040828</td>\n",
       "      <td>56.683449</td>\n",
       "      <td>...</td>\n",
       "      <td>364.775759</td>\n",
       "      <td>0.460135</td>\n",
       "      <td>162.131953</td>\n",
       "      <td>0.260529</td>\n",
       "      <td>1.612875</td>\n",
       "      <td>0.003623</td>\n",
       "      <td>5.149183e+03</td>\n",
       "      <td>0.033132</td>\n",
       "      <td>0.005183</td>\n",
       "      <td>0.243690</td>\n",
       "    </tr>\n",
       "    <tr>\n",
       "      <th>std</th>\n",
       "      <td>6312.603504</td>\n",
       "      <td>1.598186e+11</td>\n",
       "      <td>180.009443</td>\n",
       "      <td>1.598186e+06</td>\n",
       "      <td>3524.581030</td>\n",
       "      <td>1.598186e+11</td>\n",
       "      <td>379.231611</td>\n",
       "      <td>371.949762</td>\n",
       "      <td>82.680920</td>\n",
       "      <td>93.011643</td>\n",
       "      <td>...</td>\n",
       "      <td>316.553964</td>\n",
       "      <td>0.254176</td>\n",
       "      <td>376.150184</td>\n",
       "      <td>0.761871</td>\n",
       "      <td>8.996756</td>\n",
       "      <td>0.029979</td>\n",
       "      <td>6.228301e+04</td>\n",
       "      <td>0.104288</td>\n",
       "      <td>0.053906</td>\n",
       "      <td>0.213044</td>\n",
       "    </tr>\n",
       "    <tr>\n",
       "      <th>min</th>\n",
       "      <td>0.000000</td>\n",
       "      <td>1.000050e+10</td>\n",
       "      <td>1.000000</td>\n",
       "      <td>1.000050e+05</td>\n",
       "      <td>1.000000</td>\n",
       "      <td>1.000050e+10</td>\n",
       "      <td>0.000000</td>\n",
       "      <td>0.000000</td>\n",
       "      <td>0.000000</td>\n",
       "      <td>0.000000</td>\n",
       "      <td>...</td>\n",
       "      <td>0.000000</td>\n",
       "      <td>0.000000</td>\n",
       "      <td>0.000000</td>\n",
       "      <td>0.000000</td>\n",
       "      <td>0.000000</td>\n",
       "      <td>0.000000</td>\n",
       "      <td>0.000000e+00</td>\n",
       "      <td>0.000000</td>\n",
       "      <td>0.000000</td>\n",
       "      <td>0.000000</td>\n",
       "    </tr>\n",
       "    <tr>\n",
       "      <th>25%</th>\n",
       "      <td>5466.500000</td>\n",
       "      <td>1.300120e+11</td>\n",
       "      <td>32.000000</td>\n",
       "      <td>1.300120e+06</td>\n",
       "      <td>685.000000</td>\n",
       "      <td>1.300120e+11</td>\n",
       "      <td>85.000000</td>\n",
       "      <td>76.000000</td>\n",
       "      <td>7.000000</td>\n",
       "      <td>7.000000</td>\n",
       "      <td>...</td>\n",
       "      <td>121.000000</td>\n",
       "      <td>0.282259</td>\n",
       "      <td>0.000000</td>\n",
       "      <td>0.000000</td>\n",
       "      <td>0.000000</td>\n",
       "      <td>0.000000</td>\n",
       "      <td>5.709937e+02</td>\n",
       "      <td>0.000000</td>\n",
       "      <td>0.002135</td>\n",
       "      <td>0.064103</td>\n",
       "    </tr>\n",
       "    <tr>\n",
       "      <th>50%</th>\n",
       "      <td>10933.000000</td>\n",
       "      <td>2.718570e+11</td>\n",
       "      <td>90.000000</td>\n",
       "      <td>2.718570e+06</td>\n",
       "      <td>1615.000000</td>\n",
       "      <td>2.718570e+11</td>\n",
       "      <td>218.000000</td>\n",
       "      <td>209.000000</td>\n",
       "      <td>23.000000</td>\n",
       "      <td>23.000000</td>\n",
       "      <td>...</td>\n",
       "      <td>277.000000</td>\n",
       "      <td>0.423059</td>\n",
       "      <td>32.000000</td>\n",
       "      <td>0.069052</td>\n",
       "      <td>0.000000</td>\n",
       "      <td>0.000000</td>\n",
       "      <td>1.321879e+03</td>\n",
       "      <td>0.000000</td>\n",
       "      <td>0.003125</td>\n",
       "      <td>0.216216</td>\n",
       "    </tr>\n",
       "    <tr>\n",
       "      <th>75%</th>\n",
       "      <td>16399.500000</td>\n",
       "      <td>4.101725e+11</td>\n",
       "      <td>245.000000</td>\n",
       "      <td>4.101725e+06</td>\n",
       "      <td>3670.000000</td>\n",
       "      <td>4.101725e+11</td>\n",
       "      <td>534.000000</td>\n",
       "      <td>513.000000</td>\n",
       "      <td>64.000000</td>\n",
       "      <td>66.000000</td>\n",
       "      <td>...</td>\n",
       "      <td>535.000000</td>\n",
       "      <td>0.600897</td>\n",
       "      <td>156.000000</td>\n",
       "      <td>0.227467</td>\n",
       "      <td>1.000000</td>\n",
       "      <td>0.000970</td>\n",
       "      <td>3.482353e+03</td>\n",
       "      <td>0.012373</td>\n",
       "      <td>0.004587</td>\n",
       "      <td>0.361882</td>\n",
       "    </tr>\n",
       "    <tr>\n",
       "      <th>max</th>\n",
       "      <td>21866.000000</td>\n",
       "      <td>5.606240e+11</td>\n",
       "      <td>4713.000000</td>\n",
       "      <td>5.606240e+06</td>\n",
       "      <td>90469.000000</td>\n",
       "      <td>5.606240e+11</td>\n",
       "      <td>6713.000000</td>\n",
       "      <td>7733.000000</td>\n",
       "      <td>1008.000000</td>\n",
       "      <td>1170.000000</td>\n",
       "      <td>...</td>\n",
       "      <td>3700.000000</td>\n",
       "      <td>3.846154</td>\n",
       "      <td>9606.000000</td>\n",
       "      <td>34.444444</td>\n",
       "      <td>760.000000</td>\n",
       "      <td>2.473684</td>\n",
       "      <td>5.882562e+06</td>\n",
       "      <td>1.000000</td>\n",
       "      <td>6.809524</td>\n",
       "      <td>1.348315</td>\n",
       "    </tr>\n",
       "  </tbody>\n",
       "</table>\n",
       "<p>8 rows × 85 columns</p>\n",
       "</div>"
      ],
      "text/plain": [
       "         Unnamed: 0       NCESSCH  ALL_COHORT_1516       LEAID_y  \\\n",
       "count  21867.000000  2.186700e+04     21867.000000  2.186700e+04   \n",
       "mean   10933.000000  2.781234e+11       161.376686  2.781234e+06   \n",
       "std     6312.603504  1.598186e+11       180.009443  1.598186e+06   \n",
       "min        0.000000  1.000050e+10         1.000000  1.000050e+05   \n",
       "25%     5466.500000  1.300120e+11        32.000000  1.300120e+06   \n",
       "50%    10933.000000  2.718570e+11        90.000000  2.718570e+06   \n",
       "75%    16399.500000  4.101725e+11       245.000000  4.101725e+06   \n",
       "max    21866.000000  5.606240e+11      4713.000000  5.606240e+06   \n",
       "\n",
       "              SCHID      COMBOKEY     TOT_ENR_M     TOT_ENR_F   TOT_GTENR_M  \\\n",
       "count  21867.000000  2.186700e+04  21866.000000  21866.000000  10924.000000   \n",
       "mean    2843.349248  2.781234e+11    360.312357    344.848349     53.040828   \n",
       "std     3524.581030  1.598186e+11    379.231611    371.949762     82.680920   \n",
       "min        1.000000  1.000050e+10      0.000000      0.000000      0.000000   \n",
       "25%      685.000000  1.300120e+11     85.000000     76.000000      7.000000   \n",
       "50%     1615.000000  2.718570e+11    218.000000    209.000000     23.000000   \n",
       "75%     3670.000000  4.101725e+11    534.000000    513.000000     64.000000   \n",
       "max    90469.000000  5.606240e+11   6713.000000   7733.000000   1008.000000   \n",
       "\n",
       "        TOT_GTENR_F         ...            sports_part   sports_rate  \\\n",
       "count  10924.000000         ...           15082.000000  15082.000000   \n",
       "mean      56.683449         ...             364.775759      0.460135   \n",
       "std       93.011643         ...             316.553964      0.254176   \n",
       "min        0.000000         ...               0.000000      0.000000   \n",
       "25%        7.000000         ...             121.000000      0.282259   \n",
       "50%       23.000000         ...             277.000000      0.423059   \n",
       "75%       66.000000         ...             535.000000      0.600897   \n",
       "max     1170.000000         ...            3700.000000      3.846154   \n",
       "\n",
       "       total_suspension_days  suspensed_day_rate      harassed  harassed_rate  \\\n",
       "count           21826.000000        21826.000000  21732.000000   21732.000000   \n",
       "mean              162.131953            0.260529      1.612875       0.003623   \n",
       "std               376.150184            0.761871      8.996756       0.029979   \n",
       "min                 0.000000            0.000000      0.000000       0.000000   \n",
       "25%                 0.000000            0.000000      0.000000       0.000000   \n",
       "50%                32.000000            0.069052      0.000000       0.000000   \n",
       "75%               156.000000            0.227467      1.000000       0.000970   \n",
       "max              9606.000000           34.444444    760.000000       2.473684   \n",
       "\n",
       "       activities_funds_rate  non_cert_rate  counselor_rate  \\\n",
       "count           2.082300e+04   21506.000000    21863.000000   \n",
       "mean            5.149183e+03       0.033132        0.005183   \n",
       "std             6.228301e+04       0.104288        0.053906   \n",
       "min             0.000000e+00       0.000000        0.000000   \n",
       "25%             5.709937e+02       0.000000        0.002135   \n",
       "50%             1.321879e+03       0.000000        0.003125   \n",
       "75%             3.482353e+03       0.012373        0.004587   \n",
       "max             5.882562e+06       1.000000        6.809524   \n",
       "\n",
       "       absent_teacher_rate  \n",
       "count         21506.000000  \n",
       "mean              0.243690  \n",
       "std               0.213044  \n",
       "min               0.000000  \n",
       "25%               0.064103  \n",
       "50%               0.216216  \n",
       "75%               0.361882  \n",
       "max               1.348315  \n",
       "\n",
       "[8 rows x 85 columns]"
      ]
     },
     "execution_count": 96,
     "metadata": {},
     "output_type": "execute_result"
    }
   ],
   "source": [
    "combo.describe()"
   ]
  },
  {
   "cell_type": "code",
   "execution_count": 97,
   "metadata": {},
   "outputs": [],
   "source": [
    "combo.to_csv('combo_cleaned.csv')"
   ]
  },
  {
   "cell_type": "code",
   "execution_count": null,
   "metadata": {},
   "outputs": [],
   "source": []
  }
 ],
 "metadata": {
  "kernelspec": {
   "display_name": "Python 3",
   "language": "python",
   "name": "python3"
  },
  "language_info": {
   "codemirror_mode": {
    "name": "ipython",
    "version": 3
   },
   "file_extension": ".py",
   "mimetype": "text/x-python",
   "name": "python",
   "nbconvert_exporter": "python",
   "pygments_lexer": "ipython3",
   "version": "3.6.6"
  }
 },
 "nbformat": 4,
 "nbformat_minor": 2
}
