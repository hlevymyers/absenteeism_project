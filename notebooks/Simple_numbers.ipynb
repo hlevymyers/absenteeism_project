{
 "cells": [
  {
   "cell_type": "code",
   "execution_count": 179,
   "metadata": {},
   "outputs": [],
   "source": [
    "import numpy as np\n",
    "import pandas as pd\n",
    "import matplotlib.pyplot as plt\n",
    "import seaborn as sns\n",
    "%matplotlib inline\n",
    "from sklearn.model_selection import train_test_split\n",
    "from sklearn.linear_model import LinearRegression\n",
    "from sklearn import metrics\n",
    "from sklearn.ensemble import RandomForestClassifier\n",
    "from sklearn.model_selection import cross_val_score\n",
    "from sklearn.model_selection import GridSearchCV\n",
    "from sklearn.metrics import confusion_matrix, classification_report\n",
    "from sklearn.model_selection import RandomizedSearchCV\n",
    "from sklearn.ensemble import RandomForestRegressor"
   ]
  },
  {
   "cell_type": "code",
   "execution_count": 180,
   "metadata": {},
   "outputs": [
    {
     "name": "stderr",
     "output_type": "stream",
     "text": [
      "/anaconda3/envs/absenteeism/lib/python3.6/site-packages/IPython/core/interactiveshell.py:2785: DtypeWarning: Columns (23) have mixed types. Specify dtype option on import or set low_memory=False.\n",
      "  interactivity=interactivity, compiler=compiler, result=result)\n"
     ]
    }
   ],
   "source": [
    "simple = pd.read_csv('/Users/flatironschool/Absenteeism_Project/data/processed/binned_wo_imputed.csv')"
   ]
  },
  {
   "cell_type": "code",
   "execution_count": 181,
   "metadata": {},
   "outputs": [
    {
     "data": {
      "text/html": [
       "<div>\n",
       "<style scoped>\n",
       "    .dataframe tbody tr th:only-of-type {\n",
       "        vertical-align: middle;\n",
       "    }\n",
       "\n",
       "    .dataframe tbody tr th {\n",
       "        vertical-align: top;\n",
       "    }\n",
       "\n",
       "    .dataframe thead th {\n",
       "        text-align: right;\n",
       "    }\n",
       "</style>\n",
       "<table border=\"1\" class=\"dataframe\">\n",
       "  <thead>\n",
       "    <tr style=\"text-align: right;\">\n",
       "      <th></th>\n",
       "      <th>Unnamed: 0</th>\n",
       "      <th>Unnamed: 0.1</th>\n",
       "      <th>index</th>\n",
       "      <th>Unnamed: 0.1.1</th>\n",
       "      <th>Unnamed: 0.1.1.1</th>\n",
       "      <th>STNAM</th>\n",
       "      <th>LEANM</th>\n",
       "      <th>NCESSCH</th>\n",
       "      <th>SCHNAM</th>\n",
       "      <th>ALL_COHORT_1516</th>\n",
       "      <th>...</th>\n",
       "      <th>suspensed_day_rate</th>\n",
       "      <th>harassed</th>\n",
       "      <th>harassed_rate</th>\n",
       "      <th>activities_funds_rate</th>\n",
       "      <th>non_cert_rate</th>\n",
       "      <th>counselor_rate</th>\n",
       "      <th>absent_teacher_rate</th>\n",
       "      <th>grad_slice</th>\n",
       "      <th>grad_rate_bin</th>\n",
       "      <th>four_rate_bins</th>\n",
       "    </tr>\n",
       "  </thead>\n",
       "  <tbody>\n",
       "    <tr>\n",
       "      <th>16568</th>\n",
       "      <td>16568</td>\n",
       "      <td>16568</td>\n",
       "      <td>21854</td>\n",
       "      <td>21854</td>\n",
       "      <td>21854</td>\n",
       "      <td>WYOMING</td>\n",
       "      <td>Sheridan County School District #1</td>\n",
       "      <td>560569000311</td>\n",
       "      <td>Big Horn High School</td>\n",
       "      <td>37</td>\n",
       "      <td>...</td>\n",
       "      <td>0.013245</td>\n",
       "      <td>4.0</td>\n",
       "      <td>0.026490</td>\n",
       "      <td>1738.913907</td>\n",
       "      <td>0.0</td>\n",
       "      <td>0.006623</td>\n",
       "      <td>0.846154</td>\n",
       "      <td>90</td>\n",
       "      <td>90%+</td>\n",
       "      <td>90%+</td>\n",
       "    </tr>\n",
       "    <tr>\n",
       "      <th>16569</th>\n",
       "      <td>16569</td>\n",
       "      <td>16569</td>\n",
       "      <td>21858</td>\n",
       "      <td>21858</td>\n",
       "      <td>21858</td>\n",
       "      <td>WYOMING</td>\n",
       "      <td>Sheridan County School District #2</td>\n",
       "      <td>560569500360</td>\n",
       "      <td>Sheridan High School</td>\n",
       "      <td>236</td>\n",
       "      <td>...</td>\n",
       "      <td>0.046796</td>\n",
       "      <td>0.0</td>\n",
       "      <td>0.000000</td>\n",
       "      <td>1694.559176</td>\n",
       "      <td>0.0</td>\n",
       "      <td>0.005086</td>\n",
       "      <td>0.198779</td>\n",
       "      <td>89</td>\n",
       "      <td>80-89%</td>\n",
       "      <td>80-89%</td>\n",
       "    </tr>\n",
       "    <tr>\n",
       "      <th>16570</th>\n",
       "      <td>16570</td>\n",
       "      <td>16570</td>\n",
       "      <td>21861</td>\n",
       "      <td>21861</td>\n",
       "      <td>21861</td>\n",
       "      <td>WYOMING</td>\n",
       "      <td>Sweetwater County School District #2</td>\n",
       "      <td>560576200324</td>\n",
       "      <td>Green River High School</td>\n",
       "      <td>176</td>\n",
       "      <td>...</td>\n",
       "      <td>0.141570</td>\n",
       "      <td>1.0</td>\n",
       "      <td>0.001287</td>\n",
       "      <td>1840.877490</td>\n",
       "      <td>0.0</td>\n",
       "      <td>0.003861</td>\n",
       "      <td>0.200000</td>\n",
       "      <td>85</td>\n",
       "      <td>80-89%</td>\n",
       "      <td>80-89%</td>\n",
       "    </tr>\n",
       "    <tr>\n",
       "      <th>16571</th>\n",
       "      <td>16571</td>\n",
       "      <td>16571</td>\n",
       "      <td>21863</td>\n",
       "      <td>21863</td>\n",
       "      <td>21863</td>\n",
       "      <td>WYOMING</td>\n",
       "      <td>Teton County School District #1</td>\n",
       "      <td>560583000335</td>\n",
       "      <td>Jackson Hole High School</td>\n",
       "      <td>127</td>\n",
       "      <td>...</td>\n",
       "      <td>0.040625</td>\n",
       "      <td>0.0</td>\n",
       "      <td>0.000000</td>\n",
       "      <td>4153.518984</td>\n",
       "      <td>0.0</td>\n",
       "      <td>0.004687</td>\n",
       "      <td>0.118939</td>\n",
       "      <td>95</td>\n",
       "      <td>90%+</td>\n",
       "      <td>90%+</td>\n",
       "    </tr>\n",
       "    <tr>\n",
       "      <th>16572</th>\n",
       "      <td>16572</td>\n",
       "      <td>16572</td>\n",
       "      <td>21866</td>\n",
       "      <td>21866</td>\n",
       "      <td>21866</td>\n",
       "      <td>WYOMING</td>\n",
       "      <td>Washakie County School District #1</td>\n",
       "      <td>560624000343</td>\n",
       "      <td>Worland High School</td>\n",
       "      <td>105</td>\n",
       "      <td>...</td>\n",
       "      <td>0.025000</td>\n",
       "      <td>0.0</td>\n",
       "      <td>0.000000</td>\n",
       "      <td>3015.755325</td>\n",
       "      <td>0.0</td>\n",
       "      <td>0.004275</td>\n",
       "      <td>0.331544</td>\n",
       "      <td>75</td>\n",
       "      <td>70-79%</td>\n",
       "      <td>60-79%</td>\n",
       "    </tr>\n",
       "  </tbody>\n",
       "</table>\n",
       "<p>5 rows × 107 columns</p>\n",
       "</div>"
      ],
      "text/plain": [
       "       Unnamed: 0  Unnamed: 0.1  index  Unnamed: 0.1.1  Unnamed: 0.1.1.1  \\\n",
       "16568       16568         16568  21854           21854             21854   \n",
       "16569       16569         16569  21858           21858             21858   \n",
       "16570       16570         16570  21861           21861             21861   \n",
       "16571       16571         16571  21863           21863             21863   \n",
       "16572       16572         16572  21866           21866             21866   \n",
       "\n",
       "         STNAM                                 LEANM       NCESSCH  \\\n",
       "16568  WYOMING    Sheridan County School District #1  560569000311   \n",
       "16569  WYOMING    Sheridan County School District #2  560569500360   \n",
       "16570  WYOMING  Sweetwater County School District #2  560576200324   \n",
       "16571  WYOMING       Teton County School District #1  560583000335   \n",
       "16572  WYOMING    Washakie County School District #1  560624000343   \n",
       "\n",
       "                         SCHNAM  ALL_COHORT_1516      ...        \\\n",
       "16568      Big Horn High School               37      ...         \n",
       "16569      Sheridan High School              236      ...         \n",
       "16570   Green River High School              176      ...         \n",
       "16571  Jackson Hole High School              127      ...         \n",
       "16572       Worland High School              105      ...         \n",
       "\n",
       "      suspensed_day_rate harassed harassed_rate  activities_funds_rate  \\\n",
       "16568           0.013245      4.0      0.026490            1738.913907   \n",
       "16569           0.046796      0.0      0.000000            1694.559176   \n",
       "16570           0.141570      1.0      0.001287            1840.877490   \n",
       "16571           0.040625      0.0      0.000000            4153.518984   \n",
       "16572           0.025000      0.0      0.000000            3015.755325   \n",
       "\n",
       "      non_cert_rate  counselor_rate absent_teacher_rate  grad_slice  \\\n",
       "16568           0.0        0.006623            0.846154          90   \n",
       "16569           0.0        0.005086            0.198779          89   \n",
       "16570           0.0        0.003861            0.200000          85   \n",
       "16571           0.0        0.004687            0.118939          95   \n",
       "16572           0.0        0.004275            0.331544          75   \n",
       "\n",
       "      grad_rate_bin four_rate_bins  \n",
       "16568          90%+           90%+  \n",
       "16569        80-89%         80-89%  \n",
       "16570        80-89%         80-89%  \n",
       "16571          90%+           90%+  \n",
       "16572        70-79%         60-79%  \n",
       "\n",
       "[5 rows x 107 columns]"
      ]
     },
     "execution_count": 181,
     "metadata": {},
     "output_type": "execute_result"
    }
   ],
   "source": [
    "simple.tail()"
   ]
  },
  {
   "cell_type": "code",
   "execution_count": 182,
   "metadata": {},
   "outputs": [
    {
     "data": {
      "text/plain": [
       "90%+      8712\n",
       "80-89%    4257\n",
       "60-79%    1993\n",
       "0-59%     1611\n",
       "Name: four_rate_bins, dtype: int64"
      ]
     },
     "execution_count": 182,
     "metadata": {},
     "output_type": "execute_result"
    }
   ],
   "source": [
    "simple['four_rate_bins'].value_counts()"
   ]
  },
  {
   "cell_type": "code",
   "execution_count": 114,
   "metadata": {},
   "outputs": [],
   "source": [
    "grad_100 = simple[simple['four_rate_bins'] == '100%']\n",
    "grad_90 = simple[simple['four_rate_bins'] == '90%-99%']\n",
    "grad_80 = simple[simple['four_rate_bins'] == '80-89%']\n",
    "grad_70 = simple[simple['four_rate_bins'] == '60-79%']\n",
    "grad_50 = simple[simple['four_rate_bins'] == '0-59%']"
   ]
  },
  {
   "cell_type": "code",
   "execution_count": 163,
   "metadata": {},
   "outputs": [],
   "source": [
    "quantile_df_25 = simple.groupby('four_rate_bins')['non_cert_rate', 'sports_rate', 'chronic_absent_rate', 'suspensed_day_rate'].quantile(.25).reset_index() \n"
   ]
  },
  {
   "cell_type": "code",
   "execution_count": 164,
   "metadata": {},
   "outputs": [],
   "source": [
    "quantile_df_75 = simple.groupby('four_rate_bins')['non_cert_rate', 'sports_rate', 'chronic_absent_rate', 'suspensed_day_rate'].quantile(.75).reset_index() "
   ]
  },
  {
   "cell_type": "code",
   "execution_count": 165,
   "metadata": {},
   "outputs": [
    {
     "data": {
      "text/html": [
       "<div>\n",
       "<style scoped>\n",
       "    .dataframe tbody tr th:only-of-type {\n",
       "        vertical-align: middle;\n",
       "    }\n",
       "\n",
       "    .dataframe tbody tr th {\n",
       "        vertical-align: top;\n",
       "    }\n",
       "\n",
       "    .dataframe thead th {\n",
       "        text-align: right;\n",
       "    }\n",
       "</style>\n",
       "<table border=\"1\" class=\"dataframe\">\n",
       "  <thead>\n",
       "    <tr style=\"text-align: right;\">\n",
       "      <th>0.25</th>\n",
       "      <th>four_rate_bins</th>\n",
       "      <th>non_cert_rate</th>\n",
       "      <th>sports_rate</th>\n",
       "      <th>chronic_absent_rate</th>\n",
       "      <th>suspensed_day_rate</th>\n",
       "    </tr>\n",
       "  </thead>\n",
       "  <tbody>\n",
       "    <tr>\n",
       "      <th>0</th>\n",
       "      <td>0-59%</td>\n",
       "      <td>0.0</td>\n",
       "      <td>0.124414</td>\n",
       "      <td>0.085595</td>\n",
       "      <td>0.000000</td>\n",
       "    </tr>\n",
       "    <tr>\n",
       "      <th>1</th>\n",
       "      <td>60-79%</td>\n",
       "      <td>0.0</td>\n",
       "      <td>0.220779</td>\n",
       "      <td>0.160080</td>\n",
       "      <td>0.060664</td>\n",
       "    </tr>\n",
       "    <tr>\n",
       "      <th>2</th>\n",
       "      <td>80-89%</td>\n",
       "      <td>0.0</td>\n",
       "      <td>0.275554</td>\n",
       "      <td>0.126976</td>\n",
       "      <td>0.052518</td>\n",
       "    </tr>\n",
       "    <tr>\n",
       "      <th>3</th>\n",
       "      <td>90%+</td>\n",
       "      <td>0.0</td>\n",
       "      <td>0.320988</td>\n",
       "      <td>0.083107</td>\n",
       "      <td>0.015659</td>\n",
       "    </tr>\n",
       "  </tbody>\n",
       "</table>\n",
       "</div>"
      ],
      "text/plain": [
       "0.25 four_rate_bins  non_cert_rate  sports_rate  chronic_absent_rate  \\\n",
       "0             0-59%            0.0     0.124414             0.085595   \n",
       "1            60-79%            0.0     0.220779             0.160080   \n",
       "2            80-89%            0.0     0.275554             0.126976   \n",
       "3              90%+            0.0     0.320988             0.083107   \n",
       "\n",
       "0.25  suspensed_day_rate  \n",
       "0               0.000000  \n",
       "1               0.060664  \n",
       "2               0.052518  \n",
       "3               0.015659  "
      ]
     },
     "execution_count": 165,
     "metadata": {},
     "output_type": "execute_result"
    }
   ],
   "source": [
    "quantile_df_25"
   ]
  },
  {
   "cell_type": "code",
   "execution_count": 166,
   "metadata": {},
   "outputs": [
    {
     "data": {
      "text/html": [
       "<div>\n",
       "<style scoped>\n",
       "    .dataframe tbody tr th:only-of-type {\n",
       "        vertical-align: middle;\n",
       "    }\n",
       "\n",
       "    .dataframe tbody tr th {\n",
       "        vertical-align: top;\n",
       "    }\n",
       "\n",
       "    .dataframe thead th {\n",
       "        text-align: right;\n",
       "    }\n",
       "</style>\n",
       "<table border=\"1\" class=\"dataframe\">\n",
       "  <thead>\n",
       "    <tr style=\"text-align: right;\">\n",
       "      <th>0.75</th>\n",
       "      <th>four_rate_bins</th>\n",
       "      <th>non_cert_rate</th>\n",
       "      <th>sports_rate</th>\n",
       "      <th>chronic_absent_rate</th>\n",
       "      <th>suspensed_day_rate</th>\n",
       "    </tr>\n",
       "  </thead>\n",
       "  <tbody>\n",
       "    <tr>\n",
       "      <th>0</th>\n",
       "      <td>0-59%</td>\n",
       "      <td>0.042020</td>\n",
       "      <td>0.406508</td>\n",
       "      <td>0.790489</td>\n",
       "      <td>0.503487</td>\n",
       "    </tr>\n",
       "    <tr>\n",
       "      <th>1</th>\n",
       "      <td>60-79%</td>\n",
       "      <td>0.052632</td>\n",
       "      <td>0.451950</td>\n",
       "      <td>0.437500</td>\n",
       "      <td>0.672138</td>\n",
       "    </tr>\n",
       "    <tr>\n",
       "      <th>2</th>\n",
       "      <td>80-89%</td>\n",
       "      <td>0.023318</td>\n",
       "      <td>0.536686</td>\n",
       "      <td>0.302113</td>\n",
       "      <td>0.351397</td>\n",
       "    </tr>\n",
       "    <tr>\n",
       "      <th>3</th>\n",
       "      <td>90%+</td>\n",
       "      <td>0.001256</td>\n",
       "      <td>0.649728</td>\n",
       "      <td>0.221578</td>\n",
       "      <td>0.145930</td>\n",
       "    </tr>\n",
       "  </tbody>\n",
       "</table>\n",
       "</div>"
      ],
      "text/plain": [
       "0.75 four_rate_bins  non_cert_rate  sports_rate  chronic_absent_rate  \\\n",
       "0             0-59%       0.042020     0.406508             0.790489   \n",
       "1            60-79%       0.052632     0.451950             0.437500   \n",
       "2            80-89%       0.023318     0.536686             0.302113   \n",
       "3              90%+       0.001256     0.649728             0.221578   \n",
       "\n",
       "0.75  suspensed_day_rate  \n",
       "0               0.503487  \n",
       "1               0.672138  \n",
       "2               0.351397  \n",
       "3               0.145930  "
      ]
     },
     "execution_count": 166,
     "metadata": {},
     "output_type": "execute_result"
    }
   ],
   "source": [
    "quantile_df_75"
   ]
  },
  {
   "cell_type": "code",
   "execution_count": 167,
   "metadata": {},
   "outputs": [],
   "source": [
    "simple = simple.merge(quantile_df_75, on='four_rate_bins', suffixes=('_x', '_75th') )"
   ]
  },
  {
   "cell_type": "code",
   "execution_count": 168,
   "metadata": {},
   "outputs": [],
   "source": [
    "simple = simple.merge(quantile_df_25, on='four_rate_bins', suffixes=('_x', '_25th') )"
   ]
  },
  {
   "cell_type": "code",
   "execution_count": 170,
   "metadata": {},
   "outputs": [
    {
     "data": {
      "text/html": [
       "<div>\n",
       "<style scoped>\n",
       "    .dataframe tbody tr th:only-of-type {\n",
       "        vertical-align: middle;\n",
       "    }\n",
       "\n",
       "    .dataframe tbody tr th {\n",
       "        vertical-align: top;\n",
       "    }\n",
       "\n",
       "    .dataframe thead th {\n",
       "        text-align: right;\n",
       "    }\n",
       "</style>\n",
       "<table border=\"1\" class=\"dataframe\">\n",
       "  <thead>\n",
       "    <tr style=\"text-align: right;\">\n",
       "      <th></th>\n",
       "      <th>Unnamed: 0</th>\n",
       "      <th>Unnamed: 0.1</th>\n",
       "      <th>index</th>\n",
       "      <th>Unnamed: 0.1.1</th>\n",
       "      <th>Unnamed: 0.1.1.1</th>\n",
       "      <th>STNAM</th>\n",
       "      <th>LEANM</th>\n",
       "      <th>NCESSCH</th>\n",
       "      <th>SCHNAM</th>\n",
       "      <th>ALL_COHORT_1516</th>\n",
       "      <th>...</th>\n",
       "      <th>level_up_sports_rate_a</th>\n",
       "      <th>level_up_sports_rate_b</th>\n",
       "      <th>non_cert_rate_75th</th>\n",
       "      <th>sports_rate_75th</th>\n",
       "      <th>chronic_absent_rate_75th</th>\n",
       "      <th>suspensed_day_rate_75th</th>\n",
       "      <th>non_cert_rate</th>\n",
       "      <th>sports_rate</th>\n",
       "      <th>chronic_absent_rate</th>\n",
       "      <th>suspensed_day_rate</th>\n",
       "    </tr>\n",
       "  </thead>\n",
       "  <tbody>\n",
       "    <tr>\n",
       "      <th>16568</th>\n",
       "      <td>16533</td>\n",
       "      <td>16533</td>\n",
       "      <td>21787</td>\n",
       "      <td>21787</td>\n",
       "      <td>21787</td>\n",
       "      <td>WYOMING</td>\n",
       "      <td>Big Horn County School District #1</td>\n",
       "      <td>560142000046</td>\n",
       "      <td>Rocky Mountain High School</td>\n",
       "      <td>133</td>\n",
       "      <td>...</td>\n",
       "      <td>0.124414</td>\n",
       "      <td>0.406508</td>\n",
       "      <td>0.04202</td>\n",
       "      <td>0.406508</td>\n",
       "      <td>0.790489</td>\n",
       "      <td>0.503487</td>\n",
       "      <td>0.0</td>\n",
       "      <td>0.124414</td>\n",
       "      <td>0.085595</td>\n",
       "      <td>0.0</td>\n",
       "    </tr>\n",
       "    <tr>\n",
       "      <th>16569</th>\n",
       "      <td>16540</td>\n",
       "      <td>16540</td>\n",
       "      <td>21800</td>\n",
       "      <td>21800</td>\n",
       "      <td>21800</td>\n",
       "      <td>WYOMING</td>\n",
       "      <td>Laramie County School District #1</td>\n",
       "      <td>560198000092</td>\n",
       "      <td>Triumph High School</td>\n",
       "      <td>106</td>\n",
       "      <td>...</td>\n",
       "      <td>0.124414</td>\n",
       "      <td>0.406508</td>\n",
       "      <td>0.04202</td>\n",
       "      <td>0.406508</td>\n",
       "      <td>0.790489</td>\n",
       "      <td>0.503487</td>\n",
       "      <td>0.0</td>\n",
       "      <td>0.124414</td>\n",
       "      <td>0.085595</td>\n",
       "      <td>0.0</td>\n",
       "    </tr>\n",
       "    <tr>\n",
       "      <th>16570</th>\n",
       "      <td>16555</td>\n",
       "      <td>16555</td>\n",
       "      <td>21832</td>\n",
       "      <td>21832</td>\n",
       "      <td>21832</td>\n",
       "      <td>WYOMING</td>\n",
       "      <td>Niobrara County School District #1</td>\n",
       "      <td>560423000214</td>\n",
       "      <td>Niobrara County High School</td>\n",
       "      <td>103</td>\n",
       "      <td>...</td>\n",
       "      <td>0.124414</td>\n",
       "      <td>0.406508</td>\n",
       "      <td>0.04202</td>\n",
       "      <td>0.406508</td>\n",
       "      <td>0.790489</td>\n",
       "      <td>0.503487</td>\n",
       "      <td>0.0</td>\n",
       "      <td>0.124414</td>\n",
       "      <td>0.085595</td>\n",
       "      <td>0.0</td>\n",
       "    </tr>\n",
       "    <tr>\n",
       "      <th>16571</th>\n",
       "      <td>16557</td>\n",
       "      <td>16557</td>\n",
       "      <td>21835</td>\n",
       "      <td>21835</td>\n",
       "      <td>21835</td>\n",
       "      <td>WYOMING</td>\n",
       "      <td>Fremont County School District #14</td>\n",
       "      <td>560445000441</td>\n",
       "      <td>Wyoming Indian High School</td>\n",
       "      <td>50</td>\n",
       "      <td>...</td>\n",
       "      <td>0.124414</td>\n",
       "      <td>0.406508</td>\n",
       "      <td>0.04202</td>\n",
       "      <td>0.406508</td>\n",
       "      <td>0.790489</td>\n",
       "      <td>0.503487</td>\n",
       "      <td>0.0</td>\n",
       "      <td>0.124414</td>\n",
       "      <td>0.085595</td>\n",
       "      <td>0.0</td>\n",
       "    </tr>\n",
       "    <tr>\n",
       "      <th>16572</th>\n",
       "      <td>16561</td>\n",
       "      <td>16561</td>\n",
       "      <td>21840</td>\n",
       "      <td>21840</td>\n",
       "      <td>21840</td>\n",
       "      <td>WYOMING</td>\n",
       "      <td>Natrona County School District #1</td>\n",
       "      <td>560451000256</td>\n",
       "      <td>Roosevelt High School</td>\n",
       "      <td>57</td>\n",
       "      <td>...</td>\n",
       "      <td>0.124414</td>\n",
       "      <td>0.406508</td>\n",
       "      <td>0.04202</td>\n",
       "      <td>0.406508</td>\n",
       "      <td>0.790489</td>\n",
       "      <td>0.503487</td>\n",
       "      <td>0.0</td>\n",
       "      <td>0.124414</td>\n",
       "      <td>0.085595</td>\n",
       "      <td>0.0</td>\n",
       "    </tr>\n",
       "  </tbody>\n",
       "</table>\n",
       "<p>5 rows × 117 columns</p>\n",
       "</div>"
      ],
      "text/plain": [
       "       Unnamed: 0  Unnamed: 0.1  index  Unnamed: 0.1.1  Unnamed: 0.1.1.1  \\\n",
       "16568       16533         16533  21787           21787             21787   \n",
       "16569       16540         16540  21800           21800             21800   \n",
       "16570       16555         16555  21832           21832             21832   \n",
       "16571       16557         16557  21835           21835             21835   \n",
       "16572       16561         16561  21840           21840             21840   \n",
       "\n",
       "         STNAM                               LEANM       NCESSCH  \\\n",
       "16568  WYOMING  Big Horn County School District #1  560142000046   \n",
       "16569  WYOMING   Laramie County School District #1  560198000092   \n",
       "16570  WYOMING  Niobrara County School District #1  560423000214   \n",
       "16571  WYOMING  Fremont County School District #14  560445000441   \n",
       "16572  WYOMING   Natrona County School District #1  560451000256   \n",
       "\n",
       "                            SCHNAM  ALL_COHORT_1516        ...          \\\n",
       "16568   Rocky Mountain High School              133        ...           \n",
       "16569          Triumph High School              106        ...           \n",
       "16570  Niobrara County High School              103        ...           \n",
       "16571   Wyoming Indian High School               50        ...           \n",
       "16572        Roosevelt High School               57        ...           \n",
       "\n",
       "      level_up_sports_rate_a level_up_sports_rate_b non_cert_rate_75th  \\\n",
       "16568               0.124414               0.406508            0.04202   \n",
       "16569               0.124414               0.406508            0.04202   \n",
       "16570               0.124414               0.406508            0.04202   \n",
       "16571               0.124414               0.406508            0.04202   \n",
       "16572               0.124414               0.406508            0.04202   \n",
       "\n",
       "       sports_rate_75th chronic_absent_rate_75th  suspensed_day_rate_75th  \\\n",
       "16568          0.406508                 0.790489                 0.503487   \n",
       "16569          0.406508                 0.790489                 0.503487   \n",
       "16570          0.406508                 0.790489                 0.503487   \n",
       "16571          0.406508                 0.790489                 0.503487   \n",
       "16572          0.406508                 0.790489                 0.503487   \n",
       "\n",
       "      non_cert_rate  sports_rate chronic_absent_rate suspensed_day_rate  \n",
       "16568           0.0     0.124414            0.085595                0.0  \n",
       "16569           0.0     0.124414            0.085595                0.0  \n",
       "16570           0.0     0.124414            0.085595                0.0  \n",
       "16571           0.0     0.124414            0.085595                0.0  \n",
       "16572           0.0     0.124414            0.085595                0.0  \n",
       "\n",
       "[5 rows x 117 columns]"
      ]
     },
     "execution_count": 170,
     "metadata": {},
     "output_type": "execute_result"
    }
   ],
   "source": [
    "simple.tail()"
   ]
  },
  {
   "cell_type": "code",
   "execution_count": 155,
   "metadata": {},
   "outputs": [
    {
     "data": {
      "text/plain": [
       "'non_cert_rate'"
      ]
     },
     "execution_count": 155,
     "metadata": {},
     "output_type": "execute_result"
    }
   ],
   "source": [
    "quantile_df.reset_index().columns[1]"
   ]
  },
  {
   "cell_type": "code",
   "execution_count": 22,
   "metadata": {},
   "outputs": [
    {
     "data": {
      "text/html": [
       "<div>\n",
       "<style scoped>\n",
       "    .dataframe tbody tr th:only-of-type {\n",
       "        vertical-align: middle;\n",
       "    }\n",
       "\n",
       "    .dataframe tbody tr th {\n",
       "        vertical-align: top;\n",
       "    }\n",
       "\n",
       "    .dataframe thead th {\n",
       "        text-align: right;\n",
       "    }\n",
       "</style>\n",
       "<table border=\"1\" class=\"dataframe\">\n",
       "  <thead>\n",
       "    <tr style=\"text-align: right;\">\n",
       "      <th></th>\n",
       "      <th>Unnamed: 0</th>\n",
       "      <th>Unnamed: 0.1</th>\n",
       "      <th>index</th>\n",
       "      <th>Unnamed: 0.1.1</th>\n",
       "      <th>Unnamed: 0.1.1.1</th>\n",
       "      <th>STNAM</th>\n",
       "      <th>LEANM</th>\n",
       "      <th>NCESSCH</th>\n",
       "      <th>SCHNAM</th>\n",
       "      <th>ALL_COHORT_1516</th>\n",
       "      <th>...</th>\n",
       "      <th>suspensed_day_rate</th>\n",
       "      <th>harassed</th>\n",
       "      <th>harassed_rate</th>\n",
       "      <th>activities_funds_rate</th>\n",
       "      <th>non_cert_rate</th>\n",
       "      <th>counselor_rate</th>\n",
       "      <th>absent_teacher_rate</th>\n",
       "      <th>grad_slice</th>\n",
       "      <th>grad_rate_bin</th>\n",
       "      <th>four_rate_bins</th>\n",
       "    </tr>\n",
       "  </thead>\n",
       "  <tbody>\n",
       "    <tr>\n",
       "      <th>0</th>\n",
       "      <td>0</td>\n",
       "      <td>0</td>\n",
       "      <td>0</td>\n",
       "      <td>0</td>\n",
       "      <td>0</td>\n",
       "      <td>ALABAMA</td>\n",
       "      <td>Albertville City</td>\n",
       "      <td>10000500871</td>\n",
       "      <td>Albertville High Sch</td>\n",
       "      <td>296</td>\n",
       "      <td>...</td>\n",
       "      <td>0.060232</td>\n",
       "      <td>0.0</td>\n",
       "      <td>0.000000</td>\n",
       "      <td>2811.937359</td>\n",
       "      <td>0.000000</td>\n",
       "      <td>0.003475</td>\n",
       "      <td>0.378788</td>\n",
       "      <td>92</td>\n",
       "      <td>90%+</td>\n",
       "      <td>90%+</td>\n",
       "    </tr>\n",
       "    <tr>\n",
       "      <th>1</th>\n",
       "      <td>1</td>\n",
       "      <td>1</td>\n",
       "      <td>1</td>\n",
       "      <td>1</td>\n",
       "      <td>1</td>\n",
       "      <td>ALABAMA</td>\n",
       "      <td>Marshall County</td>\n",
       "      <td>10000600872</td>\n",
       "      <td>Asbury Sch</td>\n",
       "      <td>67</td>\n",
       "      <td>...</td>\n",
       "      <td>0.018553</td>\n",
       "      <td>2.0</td>\n",
       "      <td>0.003711</td>\n",
       "      <td>4825.189777</td>\n",
       "      <td>0.000000</td>\n",
       "      <td>0.002783</td>\n",
       "      <td>0.100000</td>\n",
       "      <td>95</td>\n",
       "      <td>90%+</td>\n",
       "      <td>90%+</td>\n",
       "    </tr>\n",
       "    <tr>\n",
       "      <th>5</th>\n",
       "      <td>5</td>\n",
       "      <td>5</td>\n",
       "      <td>5</td>\n",
       "      <td>5</td>\n",
       "      <td>5</td>\n",
       "      <td>ALABAMA</td>\n",
       "      <td>Hoover City</td>\n",
       "      <td>10000700251</td>\n",
       "      <td>Hoover High Sch</td>\n",
       "      <td>714</td>\n",
       "      <td>...</td>\n",
       "      <td>0.053927</td>\n",
       "      <td>1.0</td>\n",
       "      <td>0.000337</td>\n",
       "      <td>434.833734</td>\n",
       "      <td>0.019066</td>\n",
       "      <td>0.001685</td>\n",
       "      <td>0.333651</td>\n",
       "      <td>92</td>\n",
       "      <td>90%+</td>\n",
       "      <td>90%+</td>\n",
       "    </tr>\n",
       "    <tr>\n",
       "      <th>6</th>\n",
       "      <td>6</td>\n",
       "      <td>6</td>\n",
       "      <td>7</td>\n",
       "      <td>7</td>\n",
       "      <td>7</td>\n",
       "      <td>ALABAMA</td>\n",
       "      <td>Hoover City</td>\n",
       "      <td>10000701456</td>\n",
       "      <td>Spain Park High Sch</td>\n",
       "      <td>412</td>\n",
       "      <td>...</td>\n",
       "      <td>0.138342</td>\n",
       "      <td>0.0</td>\n",
       "      <td>0.000000</td>\n",
       "      <td>511.925343</td>\n",
       "      <td>0.016920</td>\n",
       "      <td>0.001789</td>\n",
       "      <td>0.346870</td>\n",
       "      <td>94</td>\n",
       "      <td>90%+</td>\n",
       "      <td>90%+</td>\n",
       "    </tr>\n",
       "    <tr>\n",
       "      <th>7</th>\n",
       "      <td>7</td>\n",
       "      <td>7</td>\n",
       "      <td>8</td>\n",
       "      <td>8</td>\n",
       "      <td>8</td>\n",
       "      <td>ALABAMA</td>\n",
       "      <td>Madison City</td>\n",
       "      <td>10000800831</td>\n",
       "      <td>Bob Jones High Sch</td>\n",
       "      <td>451</td>\n",
       "      <td>...</td>\n",
       "      <td>0.041002</td>\n",
       "      <td>2.0</td>\n",
       "      <td>0.001139</td>\n",
       "      <td>72676.817158</td>\n",
       "      <td>0.000000</td>\n",
       "      <td>0.002278</td>\n",
       "      <td>0.019608</td>\n",
       "      <td>97</td>\n",
       "      <td>90%+</td>\n",
       "      <td>90%+</td>\n",
       "    </tr>\n",
       "  </tbody>\n",
       "</table>\n",
       "<p>5 rows × 107 columns</p>\n",
       "</div>"
      ],
      "text/plain": [
       "   Unnamed: 0  Unnamed: 0.1  index  Unnamed: 0.1.1  Unnamed: 0.1.1.1    STNAM  \\\n",
       "0           0             0      0               0                 0  ALABAMA   \n",
       "1           1             1      1               1                 1  ALABAMA   \n",
       "5           5             5      5               5                 5  ALABAMA   \n",
       "6           6             6      7               7                 7  ALABAMA   \n",
       "7           7             7      8               8                 8  ALABAMA   \n",
       "\n",
       "              LEANM      NCESSCH                SCHNAM  ALL_COHORT_1516  \\\n",
       "0  Albertville City  10000500871  Albertville High Sch              296   \n",
       "1   Marshall County  10000600872            Asbury Sch               67   \n",
       "5       Hoover City  10000700251       Hoover High Sch              714   \n",
       "6       Hoover City  10000701456   Spain Park High Sch              412   \n",
       "7      Madison City  10000800831    Bob Jones High Sch              451   \n",
       "\n",
       "       ...       suspensed_day_rate harassed harassed_rate  \\\n",
       "0      ...                 0.060232      0.0      0.000000   \n",
       "1      ...                 0.018553      2.0      0.003711   \n",
       "5      ...                 0.053927      1.0      0.000337   \n",
       "6      ...                 0.138342      0.0      0.000000   \n",
       "7      ...                 0.041002      2.0      0.001139   \n",
       "\n",
       "   activities_funds_rate non_cert_rate  counselor_rate absent_teacher_rate  \\\n",
       "0            2811.937359      0.000000        0.003475            0.378788   \n",
       "1            4825.189777      0.000000        0.002783            0.100000   \n",
       "5             434.833734      0.019066        0.001685            0.333651   \n",
       "6             511.925343      0.016920        0.001789            0.346870   \n",
       "7           72676.817158      0.000000        0.002278            0.019608   \n",
       "\n",
       "   grad_slice grad_rate_bin four_rate_bins  \n",
       "0          92          90%+           90%+  \n",
       "1          95          90%+           90%+  \n",
       "5          92          90%+           90%+  \n",
       "6          94          90%+           90%+  \n",
       "7          97          90%+           90%+  \n",
       "\n",
       "[5 rows x 107 columns]"
      ]
     },
     "execution_count": 22,
     "metadata": {},
     "output_type": "execute_result"
    }
   ],
   "source": [
    "grad_90.head()"
   ]
  },
  {
   "cell_type": "code",
   "execution_count": 171,
   "metadata": {
    "scrolled": false
   },
   "outputs": [
    {
     "name": "stderr",
     "output_type": "stream",
     "text": [
      "/anaconda3/envs/absenteeism/lib/python3.6/site-packages/numpy/lib/histograms.py:824: RuntimeWarning: invalid value encountered in greater_equal\n",
      "  keep = (tmp_a >= first_edge)\n",
      "/anaconda3/envs/absenteeism/lib/python3.6/site-packages/numpy/lib/histograms.py:825: RuntimeWarning: invalid value encountered in less_equal\n",
      "  keep &= (tmp_a <= last_edge)\n"
     ]
    },
    {
     "data": {
      "text/plain": [
       "<matplotlib.legend.Legend at 0x1a5212af28>"
      ]
     },
     "execution_count": 171,
     "metadata": {},
     "output_type": "execute_result"
    },
    {
     "data": {
      "image/png": "[encoded data removed]",
      "text/plain": [
       "<Figure size 1080x576 with 1 Axes>"
      ]
     },
     "metadata": {
      "needs_background": "light"
     },
     "output_type": "display_data"
    }
   ],
   "source": [
    "plt.figure(figsize=(15,8))\n",
    "plt.hist(grad_90['chronic_absent_rate'], color = 'blue', label = '90%+ Graduation Rate')\n",
    "plt.hist(grad_80['chronic_absent_rate'], color = 'red', label = '80-89% Graduation Rate')\n",
    "plt.hist(grad_70['chronic_absent_rate'], color = 'purple', label = '60-79% Graduation Rate')\n",
    "plt.title('Chronic Absenteeism Rate')\n",
    "plt.legend()"
   ]
  },
  {
   "cell_type": "code",
   "execution_count": 26,
   "metadata": {},
   "outputs": [
    {
     "name": "stderr",
     "output_type": "stream",
     "text": [
      "/anaconda3/envs/absenteeism/lib/python3.6/site-packages/numpy/lib/histograms.py:824: RuntimeWarning: invalid value encountered in greater_equal\n",
      "  keep = (tmp_a >= first_edge)\n",
      "/anaconda3/envs/absenteeism/lib/python3.6/site-packages/numpy/lib/histograms.py:825: RuntimeWarning: invalid value encountered in less_equal\n",
      "  keep &= (tmp_a <= last_edge)\n"
     ]
    },
    {
     "data": {
      "text/plain": [
       "<matplotlib.legend.Legend at 0x1a28ce08d0>"
      ]
     },
     "execution_count": 26,
     "metadata": {},
     "output_type": "execute_result"
    },
    {
     "data": {
      "image/png": "[encoded data removed]",
      "text/plain": [
       "<Figure size 1080x576 with 1 Axes>"
      ]
     },
     "metadata": {
      "needs_background": "light"
     },
     "output_type": "display_data"
    }
   ],
   "source": [
    "plt.figure(figsize=(15,8))\n",
    "plt.hist(grad_90['ap_ib_de_rate'], color = 'blue', label = '90%+ Graduation Rate')\n",
    "plt.hist(grad_80['ap_ib_de_rate'], color = 'red', label = '80-89% Graduation Rate')\n",
    "plt.hist(grad_70['ap_ib_de_rate'], color = 'purple', label = '60-79% Graduation Rate')\n",
    "plt.legend()"
   ]
  },
  {
   "cell_type": "code",
   "execution_count": 27,
   "metadata": {},
   "outputs": [
    {
     "name": "stderr",
     "output_type": "stream",
     "text": [
      "/anaconda3/envs/absenteeism/lib/python3.6/site-packages/numpy/lib/histograms.py:824: RuntimeWarning: invalid value encountered in greater_equal\n",
      "  keep = (tmp_a >= first_edge)\n",
      "/anaconda3/envs/absenteeism/lib/python3.6/site-packages/numpy/lib/histograms.py:825: RuntimeWarning: invalid value encountered in less_equal\n",
      "  keep &= (tmp_a <= last_edge)\n"
     ]
    },
    {
     "data": {
      "text/plain": [
       "<matplotlib.legend.Legend at 0x1a28f2d748>"
      ]
     },
     "execution_count": 27,
     "metadata": {},
     "output_type": "execute_result"
    },
    {
     "data": {
      "image/png": "[encoded data removed]",
      "text/plain": [
       "<Figure size 1080x576 with 1 Axes>"
      ]
     },
     "metadata": {
      "needs_background": "light"
     },
     "output_type": "display_data"
    }
   ],
   "source": [
    "plt.figure(figsize=(15,8))\n",
    "plt.hist(grad_90['sat_act_rate'], color = 'blue', label = '90%+ Graduation Rate')\n",
    "plt.hist(grad_80['sat_act_rate'], color = 'red', label = '80-89% Graduation Rate')\n",
    "plt.hist(grad_70['sat_act_rate'], color = 'purple', label = '60-79% Graduation Rate')\n",
    "plt.legend()"
   ]
  },
  {
   "cell_type": "code",
   "execution_count": 28,
   "metadata": {},
   "outputs": [
    {
     "name": "stderr",
     "output_type": "stream",
     "text": [
      "/anaconda3/envs/absenteeism/lib/python3.6/site-packages/numpy/lib/histograms.py:824: RuntimeWarning: invalid value encountered in greater_equal\n",
      "  keep = (tmp_a >= first_edge)\n",
      "/anaconda3/envs/absenteeism/lib/python3.6/site-packages/numpy/lib/histograms.py:825: RuntimeWarning: invalid value encountered in less_equal\n",
      "  keep &= (tmp_a <= last_edge)\n"
     ]
    },
    {
     "data": {
      "text/plain": [
       "<matplotlib.legend.Legend at 0x1a28fda710>"
      ]
     },
     "execution_count": 28,
     "metadata": {},
     "output_type": "execute_result"
    },
    {
     "data": {
      "image/png": "[encoded data removed]",
      "text/plain": [
       "<Figure size 1080x576 with 1 Axes>"
      ]
     },
     "metadata": {
      "needs_background": "light"
     },
     "output_type": "display_data"
    }
   ],
   "source": [
    "plt.figure(figsize=(15,8))\n",
    "plt.hist(grad_90['pass_algebra_rate'], color = 'blue', label = '90%+ Graduation Rate')\n",
    "plt.hist(grad_80['pass_algebra_rate'], color = 'red', label = '80-89% Graduation Rate')\n",
    "plt.hist(grad_70['pass_algebra_rate'], color = 'purple', label = '60-79% Graduation Rate')\n",
    "plt.legend()"
   ]
  },
  {
   "cell_type": "code",
   "execution_count": 29,
   "metadata": {},
   "outputs": [
    {
     "name": "stderr",
     "output_type": "stream",
     "text": [
      "/anaconda3/envs/absenteeism/lib/python3.6/site-packages/numpy/lib/histograms.py:824: RuntimeWarning: invalid value encountered in greater_equal\n",
      "  keep = (tmp_a >= first_edge)\n",
      "/anaconda3/envs/absenteeism/lib/python3.6/site-packages/numpy/lib/histograms.py:825: RuntimeWarning: invalid value encountered in less_equal\n",
      "  keep &= (tmp_a <= last_edge)\n"
     ]
    },
    {
     "data": {
      "text/plain": [
       "<matplotlib.legend.Legend at 0x1a2922c588>"
      ]
     },
     "execution_count": 29,
     "metadata": {},
     "output_type": "execute_result"
    },
    {
     "data": {
      "image/png": "[encoded data removed]",
      "text/plain": [
       "<Figure size 1080x576 with 1 Axes>"
      ]
     },
     "metadata": {
      "needs_background": "light"
     },
     "output_type": "display_data"
    }
   ],
   "source": [
    "plt.figure(figsize=(15,8))\n",
    "plt.hist(grad_90['geometry_rate'], color = 'blue', label = '90%+ Graduation Rate')\n",
    "plt.hist(grad_80['geometry_rate'], color = 'red', label = '80-89% Graduation Rate')\n",
    "plt.hist(grad_70['geometry_rate'], color = 'purple', label = '60-79% Graduation Rate')\n",
    "plt.legend()"
   ]
  },
  {
   "cell_type": "code",
   "execution_count": 30,
   "metadata": {},
   "outputs": [
    {
     "name": "stderr",
     "output_type": "stream",
     "text": [
      "/anaconda3/envs/absenteeism/lib/python3.6/site-packages/numpy/lib/histograms.py:824: RuntimeWarning: invalid value encountered in greater_equal\n",
      "  keep = (tmp_a >= first_edge)\n",
      "/anaconda3/envs/absenteeism/lib/python3.6/site-packages/numpy/lib/histograms.py:825: RuntimeWarning: invalid value encountered in less_equal\n",
      "  keep &= (tmp_a <= last_edge)\n"
     ]
    },
    {
     "data": {
      "text/plain": [
       "<matplotlib.legend.Legend at 0x1a295fec18>"
      ]
     },
     "execution_count": 30,
     "metadata": {},
     "output_type": "execute_result"
    },
    {
     "data": {
      "image/png": "[encoded data removed]",
      "text/plain": [
       "<Figure size 1080x576 with 1 Axes>"
      ]
     },
     "metadata": {
      "needs_background": "light"
     },
     "output_type": "display_data"
    }
   ],
   "source": [
    "plt.figure(figsize=(15,8))\n",
    "plt.hist(grad_90['algebra2_rate'], color = 'blue', label = '90%+ Graduation Rate')\n",
    "plt.hist(grad_80['algebra2_rate'], color = 'red', label = '80-89% Graduation Rate')\n",
    "plt.hist(grad_70['algebra2_rate'], color = 'purple', label = '60-79% Graduation Rate')\n",
    "plt.legend()"
   ]
  },
  {
   "cell_type": "code",
   "execution_count": 31,
   "metadata": {},
   "outputs": [
    {
     "name": "stderr",
     "output_type": "stream",
     "text": [
      "/anaconda3/envs/absenteeism/lib/python3.6/site-packages/numpy/lib/histograms.py:824: RuntimeWarning: invalid value encountered in greater_equal\n",
      "  keep = (tmp_a >= first_edge)\n",
      "/anaconda3/envs/absenteeism/lib/python3.6/site-packages/numpy/lib/histograms.py:825: RuntimeWarning: invalid value encountered in less_equal\n",
      "  keep &= (tmp_a <= last_edge)\n"
     ]
    },
    {
     "data": {
      "text/plain": [
       "<matplotlib.legend.Legend at 0x1a29843f98>"
      ]
     },
     "execution_count": 31,
     "metadata": {},
     "output_type": "execute_result"
    },
    {
     "data": {
      "image/png": "[encoded data removed]",
      "text/plain": [
       "<Figure size 1080x576 with 1 Axes>"
      ]
     },
     "metadata": {
      "needs_background": "light"
     },
     "output_type": "display_data"
    }
   ],
   "source": [
    "plt.figure(figsize=(15,8))\n",
    "plt.hist(grad_90['calc_rate'], color = 'blue', label = '90%+ Graduation Rate')\n",
    "plt.hist(grad_80['calc_rate'], color = 'red', label = '80-89% Graduation Rate')\n",
    "plt.hist(grad_70['calc_rate'], color = 'purple', label = '60-79% Graduation Rate')\n",
    "plt.legend()"
   ]
  },
  {
   "cell_type": "code",
   "execution_count": 172,
   "metadata": {},
   "outputs": [
    {
     "name": "stderr",
     "output_type": "stream",
     "text": [
      "/anaconda3/envs/absenteeism/lib/python3.6/site-packages/numpy/lib/histograms.py:824: RuntimeWarning: invalid value encountered in greater_equal\n",
      "  keep = (tmp_a >= first_edge)\n",
      "/anaconda3/envs/absenteeism/lib/python3.6/site-packages/numpy/lib/histograms.py:825: RuntimeWarning: invalid value encountered in less_equal\n",
      "  keep &= (tmp_a <= last_edge)\n"
     ]
    },
    {
     "data": {
      "text/plain": [
       "<matplotlib.legend.Legend at 0x1a5596e7b8>"
      ]
     },
     "execution_count": 172,
     "metadata": {},
     "output_type": "execute_result"
    },
    {
     "data": {
      "image/png": "[encoded data removed]",
      "text/plain": [
       "<Figure size 1080x576 with 1 Axes>"
      ]
     },
     "metadata": {
      "needs_background": "light"
     },
     "output_type": "display_data"
    }
   ],
   "source": [
    "plt.figure(figsize=(15,8))\n",
    "plt.hist(grad_90['sports_rate'], color = 'blue', label = '90%+ Graduation Rate')\n",
    "plt.hist(grad_80['sports_rate'], color = 'red', label = '80-89% Graduation Rate')\n",
    "plt.hist(grad_70['sports_rate'], color = 'purple', label = '60-79% Graduation Rate')\n",
    "plt.title('Sports Participation Rate')\n",
    "plt.legend()"
   ]
  },
  {
   "cell_type": "code",
   "execution_count": 173,
   "metadata": {},
   "outputs": [
    {
     "name": "stderr",
     "output_type": "stream",
     "text": [
      "/anaconda3/envs/absenteeism/lib/python3.6/site-packages/numpy/lib/histograms.py:824: RuntimeWarning: invalid value encountered in greater_equal\n",
      "  keep = (tmp_a >= first_edge)\n",
      "/anaconda3/envs/absenteeism/lib/python3.6/site-packages/numpy/lib/histograms.py:825: RuntimeWarning: invalid value encountered in less_equal\n",
      "  keep &= (tmp_a <= last_edge)\n"
     ]
    },
    {
     "data": {
      "text/plain": [
       "<matplotlib.legend.Legend at 0x1a57be8d68>"
      ]
     },
     "execution_count": 173,
     "metadata": {},
     "output_type": "execute_result"
    },
    {
     "data": {
      "image/png": "[encoded data removed]",
      "text/plain": [
       "<Figure size 1080x576 with 1 Axes>"
      ]
     },
     "metadata": {
      "needs_background": "light"
     },
     "output_type": "display_data"
    }
   ],
   "source": [
    "plt.figure(figsize=(15,8))\n",
    "plt.hist(grad_90['suspensed_day_rate'], color = 'blue', label = '90%+ Graduation Rate')\n",
    "plt.hist(grad_80['suspensed_day_rate'], color = 'red', label = '80-89% Graduation Rate')\n",
    "plt.hist(grad_70['suspensed_day_rate'], color = 'purple', label = '60-79% Graduation Rate')\n",
    "plt.title('Days Missed to Suspensions')\n",
    "plt.legend()"
   ]
  },
  {
   "cell_type": "code",
   "execution_count": 34,
   "metadata": {},
   "outputs": [
    {
     "name": "stderr",
     "output_type": "stream",
     "text": [
      "/anaconda3/envs/absenteeism/lib/python3.6/site-packages/numpy/lib/histograms.py:824: RuntimeWarning: invalid value encountered in greater_equal\n",
      "  keep = (tmp_a >= first_edge)\n",
      "/anaconda3/envs/absenteeism/lib/python3.6/site-packages/numpy/lib/histograms.py:825: RuntimeWarning: invalid value encountered in less_equal\n",
      "  keep &= (tmp_a <= last_edge)\n"
     ]
    },
    {
     "data": {
      "text/plain": [
       "<matplotlib.legend.Legend at 0x1a29d72f28>"
      ]
     },
     "execution_count": 34,
     "metadata": {},
     "output_type": "execute_result"
    },
    {
     "data": {
      "image/png": "[encoded data removed]",
      "text/plain": [
       "<Figure size 1080x576 with 1 Axes>"
      ]
     },
     "metadata": {
      "needs_background": "light"
     },
     "output_type": "display_data"
    }
   ],
   "source": [
    "plt.figure(figsize=(15,8))\n",
    "plt.hist(grad_90['harassed_rate'], color = 'blue', label = '90%+ Graduation Rate')\n",
    "plt.hist(grad_80['harassed_rate'], color = 'red', label = '80-89% Graduation Rate')\n",
    "plt.hist(grad_70['harassed_rate'], color = 'purple', label = '60-79% Graduation Rate')\n",
    "plt.legend()"
   ]
  },
  {
   "cell_type": "code",
   "execution_count": 174,
   "metadata": {},
   "outputs": [
    {
     "name": "stderr",
     "output_type": "stream",
     "text": [
      "/anaconda3/envs/absenteeism/lib/python3.6/site-packages/numpy/lib/histograms.py:824: RuntimeWarning: invalid value encountered in greater_equal\n",
      "  keep = (tmp_a >= first_edge)\n",
      "/anaconda3/envs/absenteeism/lib/python3.6/site-packages/numpy/lib/histograms.py:825: RuntimeWarning: invalid value encountered in less_equal\n",
      "  keep &= (tmp_a <= last_edge)\n"
     ]
    },
    {
     "data": {
      "text/plain": [
       "<matplotlib.legend.Legend at 0x1a58616ac8>"
      ]
     },
     "execution_count": 174,
     "metadata": {},
     "output_type": "execute_result"
    },
    {
     "data": {
      "image/png": "[encoded data removed]",
      "text/plain": [
       "<Figure size 1080x576 with 1 Axes>"
      ]
     },
     "metadata": {
      "needs_background": "light"
     },
     "output_type": "display_data"
    }
   ],
   "source": [
    "plt.figure(figsize=(15,8))\n",
    "plt.hist(grad_90['non_cert_rate'], color = 'blue', label = '90%+ Graduation Rate')\n",
    "plt.hist(grad_80['non_cert_rate'], color = 'red', label = '80-89% Graduation Rate')\n",
    "plt.hist(grad_70['non_cert_rate'], color = 'purple', label = '60-79% Graduation Rate')\n",
    "plt.title('Number of Not Certified Teachers')\n",
    "plt.legend()"
   ]
  },
  {
   "cell_type": "code",
   "execution_count": 36,
   "metadata": {},
   "outputs": [
    {
     "name": "stderr",
     "output_type": "stream",
     "text": [
      "/anaconda3/envs/absenteeism/lib/python3.6/site-packages/numpy/lib/histograms.py:824: RuntimeWarning: invalid value encountered in greater_equal\n",
      "  keep = (tmp_a >= first_edge)\n",
      "/anaconda3/envs/absenteeism/lib/python3.6/site-packages/numpy/lib/histograms.py:825: RuntimeWarning: invalid value encountered in less_equal\n",
      "  keep &= (tmp_a <= last_edge)\n"
     ]
    },
    {
     "data": {
      "text/plain": [
       "<matplotlib.legend.Legend at 0x1a2af92ef0>"
      ]
     },
     "execution_count": 36,
     "metadata": {},
     "output_type": "execute_result"
    },
    {
     "data": {
      "image/png": "[encoded data removed]",
      "text/plain": [
       "<Figure size 1080x576 with 1 Axes>"
      ]
     },
     "metadata": {
      "needs_background": "light"
     },
     "output_type": "display_data"
    }
   ],
   "source": [
    "plt.figure(figsize=(15,8))\n",
    "plt.hist(grad_90['counselor_rate'], color = 'blue', label = '90%+ Graduation Rate')\n",
    "plt.hist(grad_80['counselor_rate'], color = 'red', label = '80-89% Graduation Rate')\n",
    "plt.hist(grad_70['counselor_rate'], color = 'purple', label = '60-79% Graduation Rate')\n",
    "plt.legend()"
   ]
  },
  {
   "cell_type": "code",
   "execution_count": 41,
   "metadata": {},
   "outputs": [
    {
     "name": "stderr",
     "output_type": "stream",
     "text": [
      "/anaconda3/envs/absenteeism/lib/python3.6/site-packages/numpy/lib/histograms.py:824: RuntimeWarning: invalid value encountered in greater_equal\n",
      "  keep = (tmp_a >= first_edge)\n",
      "/anaconda3/envs/absenteeism/lib/python3.6/site-packages/numpy/lib/histograms.py:825: RuntimeWarning: invalid value encountered in less_equal\n",
      "  keep &= (tmp_a <= last_edge)\n"
     ]
    },
    {
     "data": {
      "text/plain": [
       "<matplotlib.legend.Legend at 0x1a4c68f4a8>"
      ]
     },
     "execution_count": 41,
     "metadata": {},
     "output_type": "execute_result"
    },
    {
     "data": {
      "image/png": "[encoded data removed]",
      "text/plain": [
       "<Figure size 1080x576 with 1 Axes>"
      ]
     },
     "metadata": {
      "needs_background": "light"
     },
     "output_type": "display_data"
    }
   ],
   "source": [
    "plt.figure(figsize=(15,8))\n",
    "plt.hist(grad_90['absent_teacher_rate'], color = 'blue', label = '90%+ Graduation Rate')\n",
    "plt.hist(grad_80['absent_teacher_rate'], color = 'red', label = '80-89% Graduation Rate')\n",
    "plt.hist(grad_70['absent_teacher_rate'], color = 'purple', label = '60-79% Graduation Rate')\n",
    "plt.legend()"
   ]
  },
  {
   "cell_type": "code",
   "execution_count": 186,
   "metadata": {},
   "outputs": [
    {
     "data": {
      "text/plain": [
       "Text(0.5, 1.0, 'More Absenteeism at Low Performing Schools')"
      ]
     },
     "execution_count": 186,
     "metadata": {},
     "output_type": "execute_result"
    },
    {
     "data": {
      "image/png": "[encoded data removed]",
      "text/plain": [
       "<Figure size 360x360 with 1 Axes>"
      ]
     },
     "metadata": {
      "needs_background": "light"
     },
     "output_type": "display_data"
    }
   ],
   "source": [
    "sns.catplot(x=\"four_rate_bins\", y=\"chronic_absent_rate\", kind=\"box\", data=simple)\n",
    "plt.ylabel('Chronic Absenteeism Rate - missing more than 15 days')\n",
    "plt.xlabel('High School Graduation Rates')\n",
    "plt.title('More Absenteeism at Low Performing Schools')"
   ]
  },
  {
   "cell_type": "code",
   "execution_count": 49,
   "metadata": {},
   "outputs": [
    {
     "data": {
      "text/plain": [
       "<matplotlib.axes._subplots.AxesSubplot at 0x1a4c49c0b8>"
      ]
     },
     "execution_count": 49,
     "metadata": {},
     "output_type": "execute_result"
    },
    {
     "data": {
      "image/png": "[encoded data removed]",
      "text/plain": [
       "<Figure size 432x288 with 1 Axes>"
      ]
     },
     "metadata": {
      "needs_background": "light"
     },
     "output_type": "display_data"
    }
   ],
   "source": [
    "sns.boxplot(x=grad_50['chronic_absent_rate'],palette=\"Set3\")\n",
    "sns.boxplot(x=grad_70['chronic_absent_rate'],palette=\"Set3\")\n",
    "sns.boxplot(x=grad_80['chronic_absent_rate'],palette=\"Set3\")\n",
    "sns.boxplot(x=grad_90['chronic_absent_rate'],palette=\"Set3\")"
   ]
  },
  {
   "cell_type": "code",
   "execution_count": 50,
   "metadata": {},
   "outputs": [
    {
     "data": {
      "text/plain": [
       "0.25    0.096657\n",
       "0.50    0.180701\n",
       "0.75    0.294678\n",
       "Name: chronic_absent_rate, dtype: float64"
      ]
     },
     "execution_count": 50,
     "metadata": {},
     "output_type": "execute_result"
    }
   ],
   "source": [
    "simple.chronic_absent_rate.quantile([0.25,0.5,0.75])\n"
   ]
  },
  {
   "cell_type": "code",
   "execution_count": 72,
   "metadata": {},
   "outputs": [
    {
     "data": {
      "text/plain": [
       "array([0.08310689, 0.14583333, 0.22157849])"
      ]
     },
     "execution_count": 72,
     "metadata": {},
     "output_type": "execute_result"
    }
   ],
   "source": [
    "np.nanpercentile(grad_90.chronic_absent_rate, (25, 50, 75), axis=0)"
   ]
  },
  {
   "cell_type": "code",
   "execution_count": 127,
   "metadata": {
    "scrolled": true
   },
   "outputs": [
    {
     "name": "stdout",
     "output_type": "stream",
     "text": [
      "90%+ Graduate Chronic Absenteeism Rate (25th, 50th, 75th percentile):\n",
      " 0.25    0.083107\n",
      "0.50    0.145833\n",
      "0.75    0.221578\n",
      "Name: chronic_absent_rate, dtype: float64\n",
      "80%+ Graduate Chronic Absenteeism Rate (25th, 50th, 75th percentile):\n",
      " 0.25    0.126976\n",
      "0.50    0.209524\n",
      "0.75    0.302113\n",
      "Name: chronic_absent_rate, dtype: float64\n",
      "60%+ Graduate Chronic Absenteeism Rate (25th, 50th, 75th percentile):\n",
      " 0.25    0.160080\n",
      "0.50    0.283876\n",
      "0.75    0.437500\n",
      "Name: chronic_absent_rate, dtype: float64\n",
      "50%+ Graduate Chronic Absenteeism Rate (25th, 50th, 75th percentile):\n",
      " 0.25    0.085595\n",
      "0.50    0.475865\n",
      "0.75    0.790489\n",
      "Name: chronic_absent_rate, dtype: float64\n"
     ]
    }
   ],
   "source": [
    "#great metric showing steady change with graduation rates\n",
    "print('90%+ Graduate Chronic Absenteeism Rate (25th, 50th, 75th percentile):\\n',grad_90.chronic_absent_rate.quantile([.25, .50, .75]))\n",
    "print('80%+ Graduate Chronic Absenteeism Rate (25th, 50th, 75th percentile):\\n',grad_80.chronic_absent_rate.quantile([0.25,0.5,0.75]))\n",
    "print('60%+ Graduate Chronic Absenteeism Rate (25th, 50th, 75th percentile):\\n',grad_70.chronic_absent_rate.quantile([0.25,0.5,0.75]))\n",
    "print('50%+ Graduate Chronic Absenteeism Rate (25th, 50th, 75th percentile):\\n',grad_50.chronic_absent_rate.quantile([0.25,0.5,0.75]))"
   ]
  },
  {
   "cell_type": "code",
   "execution_count": 76,
   "metadata": {
    "scrolled": false
   },
   "outputs": [
    {
     "name": "stdout",
     "output_type": "stream",
     "text": [
      "90%+ Graduate Sports Participation Rate (25th, 50th, 75th percentile):\n",
      " 0.25    0.320988\n",
      "0.50    0.467752\n",
      "0.75    0.649728\n",
      "Name: sports_rate, dtype: float64\n",
      "80%+ Graduate Sports Participation Rate (25th, 50th, 75th percentile):\n",
      " 0.25    0.275554\n",
      "0.50    0.388697\n",
      "0.75    0.536686\n",
      "Name: sports_rate, dtype: float64\n",
      "60%+ Graduate Sports Participation Rate (25th, 50th, 75th percentile):\n",
      " 0.25    0.220779\n",
      "0.50    0.322964\n",
      "0.75    0.451950\n",
      "Name: sports_rate, dtype: float64\n",
      "50%+ Graduate Sports Participation Rate (25th, 50th, 75th percentile):\n",
      " 0.25    0.124414\n",
      "0.50    0.242395\n",
      "0.75    0.406508\n",
      "Name: sports_rate, dtype: float64\n"
     ]
    }
   ],
   "source": [
    "#great metric as it shows steady change with graduation rate\n",
    "print('90%+ Graduate Sports Participation Rate (25th, 50th, 75th percentile):\\n',grad_90.sports_rate.quantile([.25, .50, .75]))\n",
    "print('80%+ Graduate Sports Participation Rate (25th, 50th, 75th percentile):\\n',grad_80.sports_rate.quantile([.25, .50, .75]))\n",
    "print('60%+ Graduate Sports Participation Rate (25th, 50th, 75th percentile):\\n',grad_70.sports_rate.quantile([.25, .50, .75]))\n",
    "print('50%+ Graduate Sports Participation Rate (25th, 50th, 75th percentile):\\n',grad_50.sports_rate.quantile([.25, .50, .75]))"
   ]
  },
  {
   "cell_type": "code",
   "execution_count": 134,
   "metadata": {},
   "outputs": [],
   "source": [
    "percentile_list25 = []\n",
    "percentile_list75 = []"
   ]
  },
  {
   "cell_type": "code",
   "execution_count": 141,
   "metadata": {},
   "outputs": [],
   "source": [
    "for i in range(0,len(simple['non_cert_rate'])):\n",
    "   percentile_list25.append(simple.non_cert_rate.quantile([.25]))\n",
    "   percentile_list75.append(simple.non_cert_rate.quantile([.75]))"
   ]
  },
  {
   "cell_type": "code",
   "execution_count": null,
   "metadata": {},
   "outputs": [],
   "source": []
  },
  {
   "cell_type": "code",
   "execution_count": null,
   "metadata": {},
   "outputs": [],
   "source": []
  },
  {
   "cell_type": "code",
   "execution_count": 133,
   "metadata": {},
   "outputs": [
    {
     "name": "stdout",
     "output_type": "stream",
     "text": [
      "90%+ Graduate Sports Participation Rate (25th, 50th, 75th percentile):\n",
      " 0.25    0.320988\n",
      "0.75    0.649728\n",
      "Name: sports_rate, dtype: float64\n",
      "80%+ Graduate Sports Participation Rate (25th, 50th, 75th percentile):\n",
      " 0.25    0.275554\n",
      "0.75    0.536686\n",
      "Name: sports_rate, dtype: float64\n",
      "60%+ Graduate Sports Participation Rate (25th, 50th, 75th percentile):\n",
      " 0.25    0.220779\n",
      "0.75    0.451950\n",
      "Name: sports_rate, dtype: float64\n",
      "50%+ Graduate Sports Participation Rate (25th, 50th, 75th percentile):\n",
      " 0.25    0.124414\n",
      "0.75    0.406508\n",
      "Name: sports_rate, dtype: float64\n"
     ]
    }
   ],
   "source": [
    "#great metric as it shows steady change with graduation rate\n",
    "print('90%+ Graduate Sports Participation Rate (25th, 50th, 75th percentile):\\n',grad_90.sports_rate.quantile([.25, .75]))\n",
    "print('80%+ Graduate Sports Participation Rate (25th, 50th, 75th percentile):\\n',grad_80.sports_rate.quantile([.25, .75]))\n",
    "print('60%+ Graduate Sports Participation Rate (25th, 50th, 75th percentile):\\n',grad_70.sports_rate.quantile([.25, .75]))\n",
    "print('50%+ Graduate Sports Participation Rate (25th, 50th, 75th percentile):\\n',grad_50.sports_rate.quantile([.25, .75]))"
   ]
  },
  {
   "cell_type": "code",
   "execution_count": 131,
   "metadata": {},
   "outputs": [],
   "source": [
    "for each_rate in grads    \n",
    "    for i in grad_90.sports_rate:\n",
    "        simple['level_up_sports_rate_a'] = grad_90.sports_rate.quantile(.25)\n",
    "        simple['level_up_sports_rate_b'] = grad_90.sports_rate.quantile(.75)\n",
    "    for i in grad_80.sports_rate:\n",
    "        simple['level_up_sports_rate_a'] = grad_80.sports_rate.quantile(.25)\n",
    "        simple['level_up_sports_rate_b'] = grad_80.sports_rate.quantile(.75)\n",
    "    for i in grad_70.sports_rate:\n",
    "        simple['level_up_sports_rate_a'] = grad_70.sports_rate.quantile(.25)\n",
    "        simple['level_up_sports_rate_b'] = grad_70.sports_rate.quantile(.75)\n",
    "    for i in grad_50.sports_rate:\n",
    "        simple['level_up_sports_rate_a'] = grad_50.sports_rate.quantile(.25)\n",
    "        simple['level_up_sports_rate_b'] = grad_50.sports_rate.quantile(.75)"
   ]
  },
  {
   "cell_type": "code",
   "execution_count": null,
   "metadata": {},
   "outputs": [],
   "source": []
  },
  {
   "cell_type": "code",
   "execution_count": 189,
   "metadata": {},
   "outputs": [
    {
     "data": {
      "text/plain": [
       "Text(0.5, 1.0, 'More Sports Participation at Schools with Higher Graduation Rates')"
      ]
     },
     "execution_count": 189,
     "metadata": {},
     "output_type": "execute_result"
    },
    {
     "data": {
      "image/png": "[encoded data removed]",
      "text/plain": [
       "<Figure size 360x360 with 1 Axes>"
      ]
     },
     "metadata": {
      "needs_background": "light"
     },
     "output_type": "display_data"
    }
   ],
   "source": [
    "sns.catplot(x=\"four_rate_bins\", y=\"sports_rate\", kind=\"box\", data=simple)\n",
    "plt.ylabel('Sport Participation Rate')\n",
    "plt.xlabel('High School Graduation Rates')\n",
    "plt.title('More Sports Participation at Schools with Higher Graduation Rates')"
   ]
  },
  {
   "cell_type": "code",
   "execution_count": 77,
   "metadata": {},
   "outputs": [
    {
     "name": "stdout",
     "output_type": "stream",
     "text": [
      "90%+ Graduate AP/IB/DE Rate (25th, 50th, 75th percentile):\n",
      " 0.25    0.293801\n",
      "0.50    0.406880\n",
      "0.75    0.550028\n",
      "Name: ap_ib_de_rate, dtype: float64\n",
      "80%+ Graduate AP/IB/DE Rate (25th, 50th, 75th percentile):\n",
      " 0.25    0.243018\n",
      "0.50    0.335142\n",
      "0.75    0.430713\n",
      "Name: ap_ib_de_rate, dtype: float64\n",
      "60%+ Graduate AP/IB/DE Rate (25th, 50th, 75th percentile):\n",
      " 0.25    0.147051\n",
      "0.50    0.237410\n",
      "0.75    0.309102\n",
      "Name: ap_ib_de_rate, dtype: float64\n",
      "50%+ Graduate AP/IB/DE Rate (25th, 50th, 75th percentile):\n",
      " 0.25    0.221582\n",
      "0.50    0.279730\n",
      "0.75    0.419434\n",
      "Name: ap_ib_de_rate, dtype: float64\n"
     ]
    }
   ],
   "source": [
    "#Useful metric\n",
    "print('90%+ Graduate AP/IB/DE Rate (25th, 50th, 75th percentile):\\n',grad_90.ap_ib_de_rate.quantile([.25, .50, .75]))\n",
    "print('80%+ Graduate AP/IB/DE Rate (25th, 50th, 75th percentile):\\n',grad_80.ap_ib_de_rate.quantile([.25, .50, .75]))\n",
    "print('60%+ Graduate AP/IB/DE Rate (25th, 50th, 75th percentile):\\n',grad_70.ap_ib_de_rate.quantile([.25, .50, .75]))\n",
    "print('50%+ Graduate AP/IB/DE Rate (25th, 50th, 75th percentile):\\n',grad_50.ap_ib_de_rate.quantile([.25, .50, .75]))"
   ]
  },
  {
   "cell_type": "code",
   "execution_count": 99,
   "metadata": {},
   "outputs": [
    {
     "data": {
      "image/png": "[encoded data removed]",
      "text/plain": [
       "<Figure size 360x360 with 1 Axes>"
      ]
     },
     "metadata": {
      "needs_background": "light"
     },
     "output_type": "display_data"
    }
   ],
   "source": [
    "sns.catplot(x=\"four_rate_bins\", y=\"ap_ib_de_rate\", kind=\"box\", data=simple);"
   ]
  },
  {
   "cell_type": "code",
   "execution_count": 78,
   "metadata": {},
   "outputs": [
    {
     "name": "stdout",
     "output_type": "stream",
     "text": [
      "90%+ Graduate Teacher Absenteeism Rate (25th, 50th, 75th percentile):\n",
      " 0.25    0.119789\n",
      "0.50    0.232558\n",
      "0.75    0.352941\n",
      "Name: absent_teacher_rate, dtype: float64\n",
      "80%+ Graduate Teacher Absenteeism Rate (25th, 50th, 75th percentile):\n",
      " 0.25    0.131069\n",
      "0.50    0.258065\n",
      "0.75    0.388283\n",
      "Name: absent_teacher_rate, dtype: float64\n",
      "60%+ Graduate Teacher Absenteeism Rate (25th, 50th, 75th percentile):\n",
      " 0.25    0.099162\n",
      "0.50    0.264151\n",
      "0.75    0.412043\n",
      "Name: absent_teacher_rate, dtype: float64\n",
      "50%+ Graduate Teacher Absenteeism Rate (25th, 50th, 75th percentile):\n",
      " 0.25    0.000000\n",
      "0.50    0.181818\n",
      "0.75    0.400000\n",
      "Name: absent_teacher_rate, dtype: float64\n"
     ]
    }
   ],
   "source": [
    "#useful metric for most categories\n",
    "print('90%+ Graduate Teacher Absenteeism Rate (25th, 50th, 75th percentile):\\n',grad_90.absent_teacher_rate.quantile([.25, .50, .75]))\n",
    "print('80%+ Graduate Teacher Absenteeism Rate (25th, 50th, 75th percentile):\\n',grad_80.absent_teacher_rate.quantile([.25, .50, .75]))\n",
    "print('60%+ Graduate Teacher Absenteeism Rate (25th, 50th, 75th percentile):\\n',grad_70.absent_teacher_rate.quantile([.25, .50, .75]))\n",
    "print('50%+ Graduate Teacher Absenteeism Rate (25th, 50th, 75th percentile):\\n',grad_50.absent_teacher_rate.quantile([.25, .50, .75]))"
   ]
  },
  {
   "cell_type": "code",
   "execution_count": 100,
   "metadata": {},
   "outputs": [
    {
     "data": {
      "image/png": "[encoded data removed]",
      "text/plain": [
       "<Figure size 360x360 with 1 Axes>"
      ]
     },
     "metadata": {
      "needs_background": "light"
     },
     "output_type": "display_data"
    }
   ],
   "source": [
    "sns.catplot(x=\"four_rate_bins\", y=\"absent_teacher_rate\", kind=\"box\", data=simple);"
   ]
  },
  {
   "cell_type": "code",
   "execution_count": 79,
   "metadata": {},
   "outputs": [
    {
     "name": "stdout",
     "output_type": "stream",
     "text": [
      "90%+ Graduate Counselor Rate (25th, 50th, 75th percentile):\n",
      " 0.25    0.002451\n",
      "0.50    0.003125\n",
      "0.75    0.004143\n",
      "Name: counselor_rate, dtype: float64\n",
      "80%+ Graduate Counselor Rate (25th, 50th, 75th percentile):\n",
      " 0.25    0.002469\n",
      "0.50    0.003155\n",
      "0.75    0.004107\n",
      "Name: counselor_rate, dtype: float64\n",
      "60%+ Graduate counselor Rate (25th, 50th, 75th percentile):\n",
      " 0.25    0.002381\n",
      "0.50    0.003238\n",
      "0.75    0.004539\n",
      "Name: counselor_rate, dtype: float64\n",
      "50%+ Graduate Counselor Rate (25th, 50th, 75th percentile):\n",
      " 0.25    0.000000\n",
      "0.50    0.003702\n",
      "0.75    0.007194\n",
      "Name: counselor_rate, dtype: float64\n"
     ]
    }
   ],
   "source": [
    "#No real difference for three categories.\n",
    "print('90%+ Graduate Counselor Rate (25th, 50th, 75th percentile):\\n',grad_90.counselor_rate.quantile([.25, .50, .75]))\n",
    "print('80%+ Graduate Counselor Rate (25th, 50th, 75th percentile):\\n',grad_80.counselor_rate.quantile([.25, .50, .75]))\n",
    "print('60%+ Graduate counselor Rate (25th, 50th, 75th percentile):\\n',grad_70.counselor_rate.quantile([.25, .50, .75]))\n",
    "print('50%+ Graduate Counselor Rate (25th, 50th, 75th percentile):\\n',grad_50.counselor_rate.quantile([.25, .50, .75]))"
   ]
  },
  {
   "cell_type": "code",
   "execution_count": 187,
   "metadata": {},
   "outputs": [
    {
     "name": "stdout",
     "output_type": "stream",
     "text": [
      "90%+ Graduate Non-Certified Teacher Rate (25th, 50th, 75th percentile):\n",
      " 0.021344872634142035\n",
      "80%+ Graduate Non-Certified Teacher Rate (25th, 50th, 75th percentile):\n",
      " 0.02709974567512341\n",
      "60%+ Graduate Non-Certified Teacher Rate (25th, 50th, 75th percentile):\n",
      " 0.04965256166578464\n",
      "50%+ Graduate Non-Certified Teacher Rate (25th, 50th, 75th percentile):\n",
      " 0.06926008054957584\n"
     ]
    }
   ],
   "source": [
    "#Useful metric for 60, 80 and 90 categories\n",
    "print('90%+ Graduate Non-Certified Teacher Rate (25th, 50th, 75th percentile):\\n',grad_90.non_cert_rate.mean())\n",
    "print('80%+ Graduate Non-Certified Teacher Rate (25th, 50th, 75th percentile):\\n',grad_80.non_cert_rate.mean())\n",
    "print('60%+ Graduate Non-Certified Teacher Rate (25th, 50th, 75th percentile):\\n',grad_70.non_cert_rate.mean())\n",
    "print('50%+ Graduate Non-Certified Teacher Rate (25th, 50th, 75th percentile):\\n',grad_50.non_cert_rate.mean())"
   ]
  },
  {
   "cell_type": "code",
   "execution_count": 80,
   "metadata": {
    "scrolled": true
   },
   "outputs": [
    {
     "name": "stdout",
     "output_type": "stream",
     "text": [
      "90%+ Graduate Non-Certified Teacher Rate (25th, 50th, 75th percentile):\n",
      " 0.25    0.000000\n",
      "0.50    0.000000\n",
      "0.75    0.001256\n",
      "Name: non_cert_rate, dtype: float64\n",
      "80%+ Graduate Non-Certified Teacher Rate (25th, 50th, 75th percentile):\n",
      " 0.25    0.000000\n",
      "0.50    0.000000\n",
      "0.75    0.023318\n",
      "Name: non_cert_rate, dtype: float64\n",
      "60%+ Graduate Non-Certified Teacher Rate (25th, 50th, 75th percentile):\n",
      " 0.25    0.000000\n",
      "0.50    0.000000\n",
      "0.75    0.052632\n",
      "Name: non_cert_rate, dtype: float64\n",
      "50%+ Graduate Non-Certified Teacher Rate (25th, 50th, 75th percentile):\n",
      " 0.25    0.00000\n",
      "0.50    0.00000\n",
      "0.75    0.04202\n",
      "Name: non_cert_rate, dtype: float64\n"
     ]
    }
   ],
   "source": [
    "#Useful metric for 60, 80 and 90 categories\n",
    "print('90%+ Graduate Non-Certified Teacher Rate (25th, 50th, 75th percentile):\\n',grad_90.non_cert_rate.quantile([.25, .50, .75]))\n",
    "print('80%+ Graduate Non-Certified Teacher Rate (25th, 50th, 75th percentile):\\n',grad_80.non_cert_rate.quantile([.25, .50, .75]))\n",
    "print('60%+ Graduate Non-Certified Teacher Rate (25th, 50th, 75th percentile):\\n',grad_70.non_cert_rate.quantile([.25, .50, .75]))\n",
    "print('50%+ Graduate Non-Certified Teacher Rate (25th, 50th, 75th percentile):\\n',grad_50.non_cert_rate.quantile([.25, .50, .75]))"
   ]
  },
  {
   "cell_type": "code",
   "execution_count": 175,
   "metadata": {},
   "outputs": [
    {
     "data": {
      "image/png": "[encoded data removed]",
      "text/plain": [
       "<Figure size 360x360 with 1 Axes>"
      ]
     },
     "metadata": {
      "needs_background": "light"
     },
     "output_type": "display_data"
    }
   ],
   "source": [
    "sns.catplot(x=\"four_rate_bins\", y=\"suspensed_day_rate\", kind=\"box\", data=simple);"
   ]
  },
  {
   "cell_type": "code",
   "execution_count": 143,
   "metadata": {},
   "outputs": [
    {
     "data": {
      "text/plain": [
       "0.25    0.167045\n",
       "0.50    0.221357\n",
       "0.75    0.257932\n",
       "Name: geometry_rate, dtype: float64"
      ]
     },
     "execution_count": 143,
     "metadata": {},
     "output_type": "execute_result"
    }
   ],
   "source": [
    "grad_90.geometry_rate.quantile([.25, .50, .75])"
   ]
  },
  {
   "cell_type": "code",
   "execution_count": 83,
   "metadata": {},
   "outputs": [
    {
     "name": "stdout",
     "output_type": "stream",
     "text": [
      "90%+ Graduate Geometry Rate (25th, 50th, 75th percentile):\n",
      " 0.25    0.167045\n",
      "0.50    0.221357\n",
      "0.75    0.257932\n",
      "Name: geometry_rate, dtype: float64\n",
      "80%+ Graduate Geometry Rate (25th, 50th, 75th percentile):\n",
      " 0.25    0.171419\n",
      "0.50    0.225275\n",
      "0.75    0.264151\n",
      "Name: geometry_rate, dtype: float64\n",
      "60%+ Graduate Geometry Rate (25th, 50th, 75th percentile):\n",
      " 0.25    0.171026\n",
      "0.50    0.234081\n",
      "0.75    0.280000\n",
      "Name: geometry_rate, dtype: float64\n",
      "50%+ Graduate Geometry Rate (25th, 50th, 75th percentile):\n",
      " 0.25    0.124335\n",
      "0.50    0.205479\n",
      "0.75    0.292152\n",
      "Name: geometry_rate, dtype: float64\n"
     ]
    }
   ],
   "source": [
    "#similar rates for all categories\n",
    "print('90%+ Graduate Geometry Rate (25th, 50th, 75th percentile):\\n',grad_90.geometry_rate.quantile([.25, .50, .75]))\n",
    "print('80%+ Graduate Geometry Rate (25th, 50th, 75th percentile):\\n',grad_80.geometry_rate.quantile([.25, .50, .75]))\n",
    "print('60%+ Graduate Geometry Rate (25th, 50th, 75th percentile):\\n',grad_70.geometry_rate.quantile([.25, .50, .75]))\n",
    "print('50%+ Graduate Geometry Rate (25th, 50th, 75th percentile):\\n',grad_50.geometry_rate.quantile([.25, .50, .75]))"
   ]
  },
  {
   "cell_type": "code",
   "execution_count": 84,
   "metadata": {},
   "outputs": [
    {
     "name": "stdout",
     "output_type": "stream",
     "text": [
      "90%+ Graduate Harassment & Bullying Rate (25th, 50th, 75th percentile):\n",
      " 0.25    0.000000\n",
      "0.50    0.000000\n",
      "0.75    0.001945\n",
      "Name: harassed_rate, dtype: float64\n",
      "80%+ Graduate Harassment & Bullying Rate (25th, 50th, 75th percentile):\n",
      " 0.25    0.000000\n",
      "0.50    0.000000\n",
      "0.75    0.002052\n",
      "Name: harassed_rate, dtype: float64\n",
      "60%+ Graduate Harassment & Bullying Rate (25th, 50th, 75th percentile):\n",
      " 0.25    0.000000\n",
      "0.50    0.000000\n",
      "0.75    0.001416\n",
      "Name: harassed_rate, dtype: float64\n",
      "50%+ Graduate Harassment & Bullying Rate (25th, 50th, 75th percentile):\n",
      " 0.25    0.0\n",
      "0.50    0.0\n",
      "0.75    0.0\n",
      "Name: harassed_rate, dtype: float64\n"
     ]
    }
   ],
   "source": [
    "#nothing\n",
    "print('90%+ Graduate Harassment & Bullying Rate (25th, 50th, 75th percentile):\\n',grad_90.harassed_rate.quantile([.25, .50, .75]))\n",
    "print('80%+ Graduate Harassment & Bullying Rate (25th, 50th, 75th percentile):\\n',grad_80.harassed_rate.quantile([.25, .50, .75]))\n",
    "print('60%+ Graduate Harassment & Bullying Rate (25th, 50th, 75th percentile):\\n',grad_70.harassed_rate.quantile([.25, .50, .75]))\n",
    "print('50%+ Graduate Harassment & Bullying Rate (25th, 50th, 75th percentile):\\n',grad_50.harassed_rate.quantile([.25, .50, .75]))"
   ]
  },
  {
   "cell_type": "code",
   "execution_count": 188,
   "metadata": {},
   "outputs": [
    {
     "name": "stdout",
     "output_type": "stream",
     "text": [
      "90%+ Graduate Suspension Day Rate (25th, 50th, 75th percentile):\n",
      " 0.12148023932258317\n",
      "80%+ Graduate Suspension Day Rate (25th, 50th, 75th percentile):\n",
      " 0.2843053118996941\n",
      "60%+ Graduate Suspension Day Rate (25th, 50th, 75th percentile):\n",
      " 0.5438027350729959\n",
      "50%+ Graduate Suspension Day Rate (25th, 50th, 75th percentile):\n",
      " 0.5089552025171067\n"
     ]
    }
   ],
   "source": [
    "#Could be a good metric. \n",
    "print('90%+ Graduate Suspension Day Rate (25th, 50th, 75th percentile):\\n',grad_90.suspensed_day_rate.mean())\n",
    "print('80%+ Graduate Suspension Day Rate (25th, 50th, 75th percentile):\\n',grad_80.suspensed_day_rate.mean())\n",
    "print('60%+ Graduate Suspension Day Rate (25th, 50th, 75th percentile):\\n',grad_70.suspensed_day_rate.mean())\n",
    "print('50%+ Graduate Suspension Day Rate (25th, 50th, 75th percentile):\\n',grad_50.suspensed_day_rate.mean())"
   ]
  },
  {
   "cell_type": "code",
   "execution_count": 85,
   "metadata": {
    "scrolled": true
   },
   "outputs": [
    {
     "name": "stdout",
     "output_type": "stream",
     "text": [
      "90%+ Graduate Suspension Day Rate (25th, 50th, 75th percentile):\n",
      " 0.25    0.015659\n",
      "0.50    0.059701\n",
      "0.75    0.145930\n",
      "Name: suspensed_day_rate, dtype: float64\n",
      "80%+ Graduate Suspension Day Rate (25th, 50th, 75th percentile):\n",
      " 0.25    0.052518\n",
      "0.50    0.149297\n",
      "0.75    0.351397\n",
      "Name: suspensed_day_rate, dtype: float64\n",
      "60%+ Graduate Suspension Day Rate (25th, 50th, 75th percentile):\n",
      " 0.25    0.060664\n",
      "0.50    0.262857\n",
      "0.75    0.672138\n",
      "Name: suspensed_day_rate, dtype: float64\n",
      "50%+ Graduate Suspension Day Rate (25th, 50th, 75th percentile):\n",
      " 0.25    0.000000\n",
      "0.50    0.098246\n",
      "0.75    0.503487\n",
      "Name: suspensed_day_rate, dtype: float64\n"
     ]
    }
   ],
   "source": [
    "#Could be a good metric. \n",
    "print('90%+ Graduate Suspension Day Rate (25th, 50th, 75th percentile):\\n',grad_90.suspensed_day_rate.quantile([.25, .50, .75]))\n",
    "print('80%+ Graduate Suspension Day Rate (25th, 50th, 75th percentile):\\n',grad_80.suspensed_day_rate.quantile([.25, .50, .75]))\n",
    "print('60%+ Graduate Suspension Day Rate (25th, 50th, 75th percentile):\\n',grad_70.suspensed_day_rate.quantile([.25, .50, .75]))\n",
    "print('50%+ Graduate Suspension Day Rate (25th, 50th, 75th percentile):\\n',grad_50.suspensed_day_rate.quantile([.25, .50, .75]))"
   ]
  },
  {
   "cell_type": "code",
   "execution_count": 102,
   "metadata": {},
   "outputs": [
    {
     "data": {
      "image/png": "[encoded data removed]",
      "text/plain": [
       "<Figure size 360x360 with 1 Axes>"
      ]
     },
     "metadata": {
      "needs_background": "light"
     },
     "output_type": "display_data"
    }
   ],
   "source": [
    "sns.catplot(x=\"four_rate_bins\", y=\"suspensed_day_rate\", kind=\"box\", data=simple);\n"
   ]
  },
  {
   "cell_type": "code",
   "execution_count": 86,
   "metadata": {},
   "outputs": [
    {
     "name": "stdout",
     "output_type": "stream",
     "text": [
      "90%+ Graduate Calculus Rate (25th, 50th, 75th percentile):\n",
      " 0.25    0.024622\n",
      "0.50    0.042122\n",
      "0.75    0.073845\n",
      "Name: calc_rate, dtype: float64\n",
      "80%+ Graduate Calculus Rate (25th, 50th, 75th percentile):\n",
      " 0.25    0.018066\n",
      "0.50    0.030563\n",
      "0.75    0.052014\n",
      "Name: calc_rate, dtype: float64\n",
      "60%+ Graduate Calculus Rate (25th, 50th, 75th percentile):\n",
      " 0.25    0.014412\n",
      "0.50    0.024904\n",
      "0.75    0.044580\n",
      "Name: calc_rate, dtype: float64\n",
      "50%+ Graduate Calculus Rate (25th, 50th, 75th percentile):\n",
      " 0.25    0.009524\n",
      "0.50    0.022088\n",
      "0.75    0.044647\n",
      "Name: calc_rate, dtype: float64\n"
     ]
    }
   ],
   "source": [
    "#another good metric\n",
    "print('90%+ Graduate Calculus Rate (25th, 50th, 75th percentile):\\n',grad_90.calc_rate.quantile([.25, .50, .75]))\n",
    "print('80%+ Graduate Calculus Rate (25th, 50th, 75th percentile):\\n',grad_80.calc_rate.quantile([.25, .50, .75]))\n",
    "print('60%+ Graduate Calculus Rate (25th, 50th, 75th percentile):\\n',grad_70.calc_rate.quantile([.25, .50, .75]))\n",
    "print('50%+ Graduate Calculus Rate (25th, 50th, 75th percentile):\\n',grad_50.calc_rate.quantile([.25, .50, .75]))"
   ]
  },
  {
   "cell_type": "code",
   "execution_count": 103,
   "metadata": {},
   "outputs": [
    {
     "data": {
      "image/png": "[encoded data removed]",
      "text/plain": [
       "<Figure size 360x360 with 1 Axes>"
      ]
     },
     "metadata": {
      "needs_background": "light"
     },
     "output_type": "display_data"
    }
   ],
   "source": [
    "sns.catplot(x=\"four_rate_bins\", y=\"calc_rate\", kind=\"box\", data=simple);"
   ]
  },
  {
   "cell_type": "code",
   "execution_count": 87,
   "metadata": {},
   "outputs": [
    {
     "name": "stdout",
     "output_type": "stream",
     "text": [
      "90%+ Graduate Algebra II Rate (25th, 50th, 75th percentile):\n",
      " 0.25    0.145094\n",
      "0.50    0.200665\n",
      "0.75    0.240635\n",
      "Name: algebra2_rate, dtype: float64\n",
      "80%+ Graduate Algebra II Rate (25th, 50th, 75th percentile):\n",
      " 0.25    0.137637\n",
      "0.50    0.190202\n",
      "0.75    0.232334\n",
      "Name: algebra2_rate, dtype: float64\n",
      "60%+ Graduate Algebra II Rate (25th, 50th, 75th percentile):\n",
      " 0.25    0.128352\n",
      "0.50    0.186484\n",
      "0.75    0.233993\n",
      "Name: algebra2_rate, dtype: float64\n",
      "50%+ Graduate Algebra II Rate (25th, 50th, 75th percentile):\n",
      " 0.25    0.074367\n",
      "0.50    0.145299\n",
      "0.75    0.234043\n",
      "Name: algebra2_rate, dtype: float64\n"
     ]
    }
   ],
   "source": [
    "#no much here\n",
    "print('90%+ Graduate Algebra II Rate (25th, 50th, 75th percentile):\\n',grad_90.algebra2_rate.quantile([.25, .50, .75]))\n",
    "print('80%+ Graduate Algebra II Rate (25th, 50th, 75th percentile):\\n',grad_80.algebra2_rate.quantile([.25, .50, .75]))\n",
    "print('60%+ Graduate Algebra II Rate (25th, 50th, 75th percentile):\\n',grad_70.algebra2_rate.quantile([.25, .50, .75]))\n",
    "print('50%+ Graduate Algebra II Rate (25th, 50th, 75th percentile):\\n',grad_50.algebra2_rate.quantile([.25, .50, .75]))"
   ]
  },
  {
   "cell_type": "code",
   "execution_count": 88,
   "metadata": {},
   "outputs": [
    {
     "name": "stdout",
     "output_type": "stream",
     "text": [
      "90%+ Graduate Pass Algebra I Rate (25th, 50th, 75th percentile):\n",
      " 0.25    0.157080\n",
      "0.50    0.195435\n",
      "0.75    0.244874\n",
      "Name: pass_algebra_rate, dtype: float64\n",
      "80%+ Graduate Pass Algebra I Rate (25th, 50th, 75th percentile):\n",
      " 0.25    0.154331\n",
      "0.50    0.191648\n",
      "0.75    0.232295\n",
      "Name: pass_algebra_rate, dtype: float64\n",
      "60%+ Graduate Pass Algebra I Rate (25th, 50th, 75th percentile):\n",
      " 0.25    0.147175\n",
      "0.50    0.192512\n",
      "0.75    0.239561\n",
      "Name: pass_algebra_rate, dtype: float64\n",
      "50%+ Graduate Pass Algebra I Rate (25th, 50th, 75th percentile):\n",
      " 0.25    0.116150\n",
      "0.50    0.171919\n",
      "0.75    0.261735\n",
      "Name: pass_algebra_rate, dtype: float64\n"
     ]
    }
   ],
   "source": [
    "#not much here\n",
    "print('90%+ Graduate Pass Algebra I Rate (25th, 50th, 75th percentile):\\n',grad_90.pass_algebra_rate.quantile([.25, .50, .75]))\n",
    "print('80%+ Graduate Pass Algebra I Rate (25th, 50th, 75th percentile):\\n',grad_80.pass_algebra_rate.quantile([.25, .50, .75]))\n",
    "print('60%+ Graduate Pass Algebra I Rate (25th, 50th, 75th percentile):\\n',grad_70.pass_algebra_rate.quantile([.25, .50, .75]))\n",
    "print('50%+ Graduate Pass Algebra I Rate (25th, 50th, 75th percentile):\\n',grad_50.pass_algebra_rate.quantile([.25, .50, .75]))"
   ]
  },
  {
   "cell_type": "code",
   "execution_count": 89,
   "metadata": {},
   "outputs": [
    {
     "name": "stdout",
     "output_type": "stream",
     "text": [
      "90%+ Graduate SAT/ACT Rate (25th, 50th, 75th percentile):\n",
      " 0.25    0.137159\n",
      "0.50    0.219551\n",
      "0.75    0.295834\n",
      "Name: sat_act_rate, dtype: float64\n",
      "80%+ Graduate SAT/ACT Rate (25th, 50th, 75th percentile):\n",
      " 0.25    0.118482\n",
      "0.50    0.195906\n",
      "0.75    0.257885\n",
      "Name: sat_act_rate, dtype: float64\n",
      "60%+ Graduate SAT/ACT Rate (25th, 50th, 75th percentile):\n",
      " 0.25    0.067729\n",
      "0.50    0.156729\n",
      "0.75    0.235448\n",
      "Name: sat_act_rate, dtype: float64\n",
      "50%+ Graduate SAT/ACT Rate (25th, 50th, 75th percentile):\n",
      " 0.25    0.000000\n",
      "0.50    0.036036\n",
      "0.75    0.150875\n",
      "Name: sat_act_rate, dtype: float64\n"
     ]
    }
   ],
   "source": [
    "#useful metric\n",
    "print('90%+ Graduate SAT/ACT Rate (25th, 50th, 75th percentile):\\n',grad_90.sat_act_rate.quantile([.25, .50, .75]))\n",
    "print('80%+ Graduate SAT/ACT Rate (25th, 50th, 75th percentile):\\n',grad_80.sat_act_rate.quantile([.25, .50, .75]))\n",
    "print('60%+ Graduate SAT/ACT Rate (25th, 50th, 75th percentile):\\n',grad_70.sat_act_rate.quantile([.25, .50, .75]))\n",
    "print('50%+ Graduate SAT/ACT Rate (25th, 50th, 75th percentile):\\n',grad_50.sat_act_rate.quantile([.25, .50, .75]))"
   ]
  },
  {
   "cell_type": "code",
   "execution_count": 104,
   "metadata": {},
   "outputs": [
    {
     "data": {
      "image/png": "[encoded data removed]",
      "text/plain": [
       "<Figure size 360x360 with 1 Axes>"
      ]
     },
     "metadata": {
      "needs_background": "light"
     },
     "output_type": "display_data"
    }
   ],
   "source": [
    "sns.catplot(x=\"four_rate_bins\", y=\"sat_act_rate\", kind=\"box\", data=simple);"
   ]
  },
  {
   "cell_type": "code",
   "execution_count": 95,
   "metadata": {},
   "outputs": [],
   "source": [
    "#level up bins\n",
    "#create the binned categories\n",
    "simple['level_up_bins'] = pd.cut(simple['grad_slice'].astype(int), \n",
    "    [0, 59, 79, 89, 100], labels = ['60-79% Level Up Rate', '80-89% Level Up Rate', '90%+ Level Up Rate', '100% Level Up Rate'])"
   ]
  },
  {
   "cell_type": "code",
   "execution_count": 142,
   "metadata": {
    "scrolled": true
   },
   "outputs": [
    {
     "data": {
      "text/html": [
       "<div>\n",
       "<style scoped>\n",
       "    .dataframe tbody tr th:only-of-type {\n",
       "        vertical-align: middle;\n",
       "    }\n",
       "\n",
       "    .dataframe tbody tr th {\n",
       "        vertical-align: top;\n",
       "    }\n",
       "\n",
       "    .dataframe thead th {\n",
       "        text-align: right;\n",
       "    }\n",
       "</style>\n",
       "<table border=\"1\" class=\"dataframe\">\n",
       "  <thead>\n",
       "    <tr style=\"text-align: right;\">\n",
       "      <th></th>\n",
       "      <th>Unnamed: 0</th>\n",
       "      <th>Unnamed: 0.1</th>\n",
       "      <th>index</th>\n",
       "      <th>Unnamed: 0.1.1</th>\n",
       "      <th>Unnamed: 0.1.1.1</th>\n",
       "      <th>STNAM</th>\n",
       "      <th>LEANM</th>\n",
       "      <th>NCESSCH</th>\n",
       "      <th>SCHNAM</th>\n",
       "      <th>ALL_COHORT_1516</th>\n",
       "      <th>...</th>\n",
       "      <th>harassed_rate</th>\n",
       "      <th>activities_funds_rate</th>\n",
       "      <th>non_cert_rate</th>\n",
       "      <th>counselor_rate</th>\n",
       "      <th>absent_teacher_rate</th>\n",
       "      <th>grad_slice</th>\n",
       "      <th>grad_rate_bin</th>\n",
       "      <th>four_rate_bins</th>\n",
       "      <th>level_up_sports_rate_a</th>\n",
       "      <th>level_up_sports_rate_b</th>\n",
       "    </tr>\n",
       "  </thead>\n",
       "  <tbody>\n",
       "    <tr>\n",
       "      <th>0</th>\n",
       "      <td>0</td>\n",
       "      <td>0</td>\n",
       "      <td>0</td>\n",
       "      <td>0</td>\n",
       "      <td>0</td>\n",
       "      <td>ALABAMA</td>\n",
       "      <td>Albertville City</td>\n",
       "      <td>10000500871</td>\n",
       "      <td>Albertville High Sch</td>\n",
       "      <td>296</td>\n",
       "      <td>...</td>\n",
       "      <td>0.000000</td>\n",
       "      <td>2811.937359</td>\n",
       "      <td>0.0</td>\n",
       "      <td>0.003475</td>\n",
       "      <td>0.378788</td>\n",
       "      <td>92</td>\n",
       "      <td>90%+</td>\n",
       "      <td>90%+</td>\n",
       "      <td>0.124414</td>\n",
       "      <td>0.406508</td>\n",
       "    </tr>\n",
       "    <tr>\n",
       "      <th>1</th>\n",
       "      <td>1</td>\n",
       "      <td>1</td>\n",
       "      <td>1</td>\n",
       "      <td>1</td>\n",
       "      <td>1</td>\n",
       "      <td>ALABAMA</td>\n",
       "      <td>Marshall County</td>\n",
       "      <td>10000600872</td>\n",
       "      <td>Asbury Sch</td>\n",
       "      <td>67</td>\n",
       "      <td>...</td>\n",
       "      <td>0.003711</td>\n",
       "      <td>4825.189777</td>\n",
       "      <td>0.0</td>\n",
       "      <td>0.002783</td>\n",
       "      <td>0.100000</td>\n",
       "      <td>95</td>\n",
       "      <td>90%+</td>\n",
       "      <td>90%+</td>\n",
       "      <td>0.124414</td>\n",
       "      <td>0.406508</td>\n",
       "    </tr>\n",
       "    <tr>\n",
       "      <th>2</th>\n",
       "      <td>2</td>\n",
       "      <td>2</td>\n",
       "      <td>2</td>\n",
       "      <td>2</td>\n",
       "      <td>2</td>\n",
       "      <td>ALABAMA</td>\n",
       "      <td>Marshall County</td>\n",
       "      <td>10000600878</td>\n",
       "      <td>Douglas High Sch</td>\n",
       "      <td>153</td>\n",
       "      <td>...</td>\n",
       "      <td>0.008418</td>\n",
       "      <td>5317.932795</td>\n",
       "      <td>0.0</td>\n",
       "      <td>0.001684</td>\n",
       "      <td>0.105263</td>\n",
       "      <td>85</td>\n",
       "      <td>80-89%</td>\n",
       "      <td>80-89%</td>\n",
       "      <td>0.124414</td>\n",
       "      <td>0.406508</td>\n",
       "    </tr>\n",
       "    <tr>\n",
       "      <th>3</th>\n",
       "      <td>3</td>\n",
       "      <td>3</td>\n",
       "      <td>3</td>\n",
       "      <td>3</td>\n",
       "      <td>3</td>\n",
       "      <td>ALABAMA</td>\n",
       "      <td>Marshall County</td>\n",
       "      <td>10000600883</td>\n",
       "      <td>Kate D Smith DAR High Sch</td>\n",
       "      <td>120</td>\n",
       "      <td>...</td>\n",
       "      <td>0.000000</td>\n",
       "      <td>5909.375686</td>\n",
       "      <td>0.0</td>\n",
       "      <td>0.002179</td>\n",
       "      <td>0.068966</td>\n",
       "      <td>80</td>\n",
       "      <td>80-89%</td>\n",
       "      <td>80-89%</td>\n",
       "      <td>0.124414</td>\n",
       "      <td>0.406508</td>\n",
       "    </tr>\n",
       "    <tr>\n",
       "      <th>4</th>\n",
       "      <td>4</td>\n",
       "      <td>4</td>\n",
       "      <td>4</td>\n",
       "      <td>4</td>\n",
       "      <td>4</td>\n",
       "      <td>ALABAMA</td>\n",
       "      <td>Marshall County</td>\n",
       "      <td>10000601585</td>\n",
       "      <td>Brindlee Mt High Sch</td>\n",
       "      <td>94</td>\n",
       "      <td>...</td>\n",
       "      <td>0.000000</td>\n",
       "      <td>3962.305785</td>\n",
       "      <td>0.0</td>\n",
       "      <td>0.002755</td>\n",
       "      <td>0.101010</td>\n",
       "      <td>85</td>\n",
       "      <td>80-89%</td>\n",
       "      <td>80-89%</td>\n",
       "      <td>0.124414</td>\n",
       "      <td>0.406508</td>\n",
       "    </tr>\n",
       "  </tbody>\n",
       "</table>\n",
       "<p>5 rows × 109 columns</p>\n",
       "</div>"
      ],
      "text/plain": [
       "   Unnamed: 0  Unnamed: 0.1  index  Unnamed: 0.1.1  Unnamed: 0.1.1.1    STNAM  \\\n",
       "0           0             0      0               0                 0  ALABAMA   \n",
       "1           1             1      1               1                 1  ALABAMA   \n",
       "2           2             2      2               2                 2  ALABAMA   \n",
       "3           3             3      3               3                 3  ALABAMA   \n",
       "4           4             4      4               4                 4  ALABAMA   \n",
       "\n",
       "              LEANM      NCESSCH                     SCHNAM  ALL_COHORT_1516  \\\n",
       "0  Albertville City  10000500871       Albertville High Sch              296   \n",
       "1   Marshall County  10000600872                 Asbury Sch               67   \n",
       "2   Marshall County  10000600878           Douglas High Sch              153   \n",
       "3   Marshall County  10000600883  Kate D Smith DAR High Sch              120   \n",
       "4   Marshall County  10000601585       Brindlee Mt High Sch               94   \n",
       "\n",
       "           ...           harassed_rate activities_funds_rate non_cert_rate  \\\n",
       "0          ...                0.000000           2811.937359           0.0   \n",
       "1          ...                0.003711           4825.189777           0.0   \n",
       "2          ...                0.008418           5317.932795           0.0   \n",
       "3          ...                0.000000           5909.375686           0.0   \n",
       "4          ...                0.000000           3962.305785           0.0   \n",
       "\n",
       "   counselor_rate absent_teacher_rate  grad_slice grad_rate_bin  \\\n",
       "0        0.003475            0.378788          92          90%+   \n",
       "1        0.002783            0.100000          95          90%+   \n",
       "2        0.001684            0.105263          85        80-89%   \n",
       "3        0.002179            0.068966          80        80-89%   \n",
       "4        0.002755            0.101010          85        80-89%   \n",
       "\n",
       "   four_rate_bins level_up_sports_rate_a level_up_sports_rate_b  \n",
       "0            90%+               0.124414               0.406508  \n",
       "1            90%+               0.124414               0.406508  \n",
       "2          80-89%               0.124414               0.406508  \n",
       "3          80-89%               0.124414               0.406508  \n",
       "4          80-89%               0.124414               0.406508  \n",
       "\n",
       "[5 rows x 109 columns]"
      ]
     },
     "execution_count": 142,
     "metadata": {},
     "output_type": "execute_result"
    }
   ],
   "source": [
    "simple.head()"
   ]
  },
  {
   "cell_type": "code",
   "execution_count": null,
   "metadata": {},
   "outputs": [],
   "source": [
    "#code from greg to make loop to go through variables to choose most important \n",
    "#one for each school\n",
    "var_sweep = {}\n",
    "for col in cols:\n",
    "  delta = np.stdev(data[col])\n",
    "  tmp = data.copy()\n",
    "  tmp[col] = tmp[col] + delta\n",
    "  var_sweep[col] = model.predict(tmp.values)\n"
   ]
  }
 ],
 "metadata": {
  "kernelspec": {
   "display_name": "Python 3",
   "language": "python",
   "name": "python3"
  },
  "language_info": {
   "codemirror_mode": {
    "name": "ipython",
    "version": 3
   },
   "file_extension": ".py",
   "mimetype": "text/x-python",
   "name": "python",
   "nbconvert_exporter": "python",
   "pygments_lexer": "ipython3",
   "version": "3.6.6"
  }
 },
 "nbformat": 4,
 "nbformat_minor": 2
}
