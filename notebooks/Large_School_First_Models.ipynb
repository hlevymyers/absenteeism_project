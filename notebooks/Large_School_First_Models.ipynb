{
 "cells": [
  {
   "cell_type": "markdown",
   "metadata": {},
   "source": [
    "## Building Prediction Models Using Statsmodels and Sklearn\n",
    "\n",
    "Using only the large schools which have a graduation rate and not a range, prediction modeling was begun. There were about 4,100 schools that fit into this category. There were many missing values which were imputed using the mean. Linear regression was the choosen model to start with and several variations were tried to get better results, including ordinary least squares with statsmodel, Principal Component Analysis (PCA), linear regression with sklearn, linear regression on all variables, linear regression on four key variables, linear regression with multiple lasso penalties, and elastic net. "
   ]
  },
  {
   "cell_type": "code",
   "execution_count": 1,
   "metadata": {},
   "outputs": [],
   "source": [
    "import numpy as np\n",
    "import pandas as pd\n",
    "import matplotlib.pyplot as plt\n",
    "import seaborn as sns\n",
    "%matplotlib inline\n",
    "from sklearn.model_selection import train_test_split\n",
    "from sklearn.linear_model import LinearRegression\n",
    "from sklearn import metrics"
   ]
  },
  {
   "cell_type": "code",
   "execution_count": 126,
   "metadata": {},
   "outputs": [],
   "source": [
    "sqrt_y = y[np.sqrt(y) > 8]"
   ]
  },
  {
   "cell_type": "code",
   "execution_count": 133,
   "metadata": {},
   "outputs": [
    {
     "name": "stderr",
     "output_type": "stream",
     "text": [
      "/anaconda3/envs/absenteeism/lib/python3.6/site-packages/scipy/stats/stats.py:1713: FutureWarning: Using a non-tuple sequence for multidimensional indexing is deprecated; use `arr[tuple(seq)]` instead of `arr[seq]`. In the future this will be interpreted as an array index, `arr[np.array(seq)]`, which will result either in an error or a different result.\n",
      "  return np.add.reduce(sorted[indexer] * weights, axis=axis) / sumval\n"
     ]
    },
    {
     "data": {
      "text/plain": [
       "<matplotlib.axes._subplots.AxesSubplot at 0x1c24f86f60>"
      ]
     },
     "execution_count": 133,
     "metadata": {},
     "output_type": "execute_result"
    },
    {
     "data": {
      "image/png": "[encoded data removed]",
      "text/plain": [
       "<Figure size 432x288 with 1 Axes>"
      ]
     },
     "metadata": {
      "needs_background": "light"
     },
     "output_type": "display_data"
    }
   ],
   "source": [
    "sns.distplot(np.log(np.log(sqrt_y)))"
   ]
  },
  {
   "cell_type": "code",
   "execution_count": 2,
   "metadata": {},
   "outputs": [],
   "source": [
    "large = pd.read_csv('/Users/flatironschool/Absenteeism_Project/data/processed/large_schools.csv')"
   ]
  },
  {
   "cell_type": "code",
   "execution_count": 3,
   "metadata": {},
   "outputs": [
    {
     "data": {
      "text/html": [
       "<div>\n",
       "<style scoped>\n",
       "    .dataframe tbody tr th:only-of-type {\n",
       "        vertical-align: middle;\n",
       "    }\n",
       "\n",
       "    .dataframe tbody tr th {\n",
       "        vertical-align: top;\n",
       "    }\n",
       "\n",
       "    .dataframe thead th {\n",
       "        text-align: right;\n",
       "    }\n",
       "</style>\n",
       "<table border=\"1\" class=\"dataframe\">\n",
       "  <thead>\n",
       "    <tr style=\"text-align: right;\">\n",
       "      <th></th>\n",
       "      <th>Unnamed: 0</th>\n",
       "      <th>Unnamed: 0.1</th>\n",
       "      <th>Unnamed: 0.1.1</th>\n",
       "      <th>STNAM</th>\n",
       "      <th>LEANM</th>\n",
       "      <th>NCESSCH</th>\n",
       "      <th>SCHNAM</th>\n",
       "      <th>ALL_COHORT_1516</th>\n",
       "      <th>ALL_RATE_1516</th>\n",
       "      <th>LEA_STATE</th>\n",
       "      <th>...</th>\n",
       "      <th>sports_part</th>\n",
       "      <th>sports_rate</th>\n",
       "      <th>total_suspension_days</th>\n",
       "      <th>suspensed_day_rate</th>\n",
       "      <th>harassed</th>\n",
       "      <th>harassed_rate</th>\n",
       "      <th>activities_funds_rate</th>\n",
       "      <th>non_cert_rate</th>\n",
       "      <th>counselor_rate</th>\n",
       "      <th>absent_teacher_rate</th>\n",
       "    </tr>\n",
       "  </thead>\n",
       "  <tbody>\n",
       "    <tr>\n",
       "      <th>0</th>\n",
       "      <td>5</td>\n",
       "      <td>5</td>\n",
       "      <td>5</td>\n",
       "      <td>ALABAMA</td>\n",
       "      <td>Hoover City</td>\n",
       "      <td>10000700251</td>\n",
       "      <td>Hoover High Sch</td>\n",
       "      <td>714</td>\n",
       "      <td>92</td>\n",
       "      <td>AL</td>\n",
       "      <td>...</td>\n",
       "      <td>898.0</td>\n",
       "      <td>0.302663</td>\n",
       "      <td>160.0</td>\n",
       "      <td>0.053927</td>\n",
       "      <td>1.0</td>\n",
       "      <td>0.000337</td>\n",
       "      <td>434.833734</td>\n",
       "      <td>0.019066</td>\n",
       "      <td>0.001685</td>\n",
       "      <td>0.333651</td>\n",
       "    </tr>\n",
       "    <tr>\n",
       "      <th>1</th>\n",
       "      <td>7</td>\n",
       "      <td>7</td>\n",
       "      <td>7</td>\n",
       "      <td>ALABAMA</td>\n",
       "      <td>Hoover City</td>\n",
       "      <td>10000701456</td>\n",
       "      <td>Spain Park High Sch</td>\n",
       "      <td>412</td>\n",
       "      <td>94</td>\n",
       "      <td>AL</td>\n",
       "      <td>...</td>\n",
       "      <td>526.0</td>\n",
       "      <td>0.313655</td>\n",
       "      <td>232.0</td>\n",
       "      <td>0.138342</td>\n",
       "      <td>0.0</td>\n",
       "      <td>0.000000</td>\n",
       "      <td>511.925343</td>\n",
       "      <td>0.016920</td>\n",
       "      <td>0.001789</td>\n",
       "      <td>0.346870</td>\n",
       "    </tr>\n",
       "    <tr>\n",
       "      <th>2</th>\n",
       "      <td>8</td>\n",
       "      <td>8</td>\n",
       "      <td>8</td>\n",
       "      <td>ALABAMA</td>\n",
       "      <td>Madison City</td>\n",
       "      <td>10000800831</td>\n",
       "      <td>Bob Jones High Sch</td>\n",
       "      <td>451</td>\n",
       "      <td>97</td>\n",
       "      <td>AL</td>\n",
       "      <td>...</td>\n",
       "      <td>565.0</td>\n",
       "      <td>0.321754</td>\n",
       "      <td>72.0</td>\n",
       "      <td>0.041002</td>\n",
       "      <td>2.0</td>\n",
       "      <td>0.001139</td>\n",
       "      <td>72676.817158</td>\n",
       "      <td>0.000000</td>\n",
       "      <td>0.002278</td>\n",
       "      <td>0.019608</td>\n",
       "    </tr>\n",
       "    <tr>\n",
       "      <th>3</th>\n",
       "      <td>9</td>\n",
       "      <td>9</td>\n",
       "      <td>9</td>\n",
       "      <td>ALABAMA</td>\n",
       "      <td>Madison City</td>\n",
       "      <td>10000802198</td>\n",
       "      <td>James Clemens High School</td>\n",
       "      <td>404</td>\n",
       "      <td>96</td>\n",
       "      <td>AL</td>\n",
       "      <td>...</td>\n",
       "      <td>280.0</td>\n",
       "      <td>0.163934</td>\n",
       "      <td>134.0</td>\n",
       "      <td>0.078454</td>\n",
       "      <td>0.0</td>\n",
       "      <td>0.000000</td>\n",
       "      <td>3478.029292</td>\n",
       "      <td>0.000000</td>\n",
       "      <td>0.002635</td>\n",
       "      <td>0.232804</td>\n",
       "    </tr>\n",
       "    <tr>\n",
       "      <th>4</th>\n",
       "      <td>12</td>\n",
       "      <td>12</td>\n",
       "      <td>12</td>\n",
       "      <td>ALABAMA</td>\n",
       "      <td>Trussville City</td>\n",
       "      <td>10001301682</td>\n",
       "      <td>Hewitt-Trussville High Sch</td>\n",
       "      <td>381</td>\n",
       "      <td>96</td>\n",
       "      <td>AL</td>\n",
       "      <td>...</td>\n",
       "      <td>799.0</td>\n",
       "      <td>0.554476</td>\n",
       "      <td>28.0</td>\n",
       "      <td>0.019431</td>\n",
       "      <td>2.0</td>\n",
       "      <td>0.001388</td>\n",
       "      <td>3970.929743</td>\n",
       "      <td>0.000000</td>\n",
       "      <td>0.002082</td>\n",
       "      <td>0.231027</td>\n",
       "    </tr>\n",
       "  </tbody>\n",
       "</table>\n",
       "<p>5 rows × 102 columns</p>\n",
       "</div>"
      ],
      "text/plain": [
       "   Unnamed: 0  Unnamed: 0.1  Unnamed: 0.1.1    STNAM            LEANM  \\\n",
       "0           5             5               5  ALABAMA      Hoover City   \n",
       "1           7             7               7  ALABAMA      Hoover City   \n",
       "2           8             8               8  ALABAMA     Madison City   \n",
       "3           9             9               9  ALABAMA     Madison City   \n",
       "4          12            12              12  ALABAMA  Trussville City   \n",
       "\n",
       "       NCESSCH                      SCHNAM  ALL_COHORT_1516  ALL_RATE_1516  \\\n",
       "0  10000700251             Hoover High Sch              714             92   \n",
       "1  10000701456         Spain Park High Sch              412             94   \n",
       "2  10000800831          Bob Jones High Sch              451             97   \n",
       "3  10000802198   James Clemens High School              404             96   \n",
       "4  10001301682  Hewitt-Trussville High Sch              381             96   \n",
       "\n",
       "  LEA_STATE         ...         sports_part  sports_rate  \\\n",
       "0        AL         ...               898.0     0.302663   \n",
       "1        AL         ...               526.0     0.313655   \n",
       "2        AL         ...               565.0     0.321754   \n",
       "3        AL         ...               280.0     0.163934   \n",
       "4        AL         ...               799.0     0.554476   \n",
       "\n",
       "  total_suspension_days  suspensed_day_rate harassed  harassed_rate  \\\n",
       "0                 160.0            0.053927      1.0       0.000337   \n",
       "1                 232.0            0.138342      0.0       0.000000   \n",
       "2                  72.0            0.041002      2.0       0.001139   \n",
       "3                 134.0            0.078454      0.0       0.000000   \n",
       "4                  28.0            0.019431      2.0       0.001388   \n",
       "\n",
       "  activities_funds_rate non_cert_rate counselor_rate absent_teacher_rate  \n",
       "0            434.833734      0.019066       0.001685            0.333651  \n",
       "1            511.925343      0.016920       0.001789            0.346870  \n",
       "2          72676.817158      0.000000       0.002278            0.019608  \n",
       "3           3478.029292      0.000000       0.002635            0.232804  \n",
       "4           3970.929743      0.000000       0.002082            0.231027  \n",
       "\n",
       "[5 rows x 102 columns]"
      ]
     },
     "execution_count": 3,
     "metadata": {},
     "output_type": "execute_result"
    }
   ],
   "source": [
    "large.head()"
   ]
  },
  {
   "cell_type": "markdown",
   "metadata": {},
   "source": [
    "## Imputing Mean for Missing Values"
   ]
  },
  {
   "cell_type": "code",
   "execution_count": 4,
   "metadata": {},
   "outputs": [],
   "source": [
    "#impute mean for numerical vars\n",
    "large_feat = large[['ALL_RATE_1516', 'total_enrollment', 'ap_ib_de_rate', 'sat_act_rate', 'pass_algebra_rate',\n",
    "      'geometry_rate', 'algebra2_rate', 'calc_rate', 'chronic_absent_rate', 'activities_funds_rate',\n",
    "      'sports_rate', 'suspensed_day_rate', 'harassed_rate',\n",
    "      'non_cert_rate','counselor_rate','absent_teacher_rate']]"
   ]
  },
  {
   "cell_type": "code",
   "execution_count": 5,
   "metadata": {},
   "outputs": [
    {
     "name": "stdout",
     "output_type": "stream",
     "text": [
      "im here: ALL_RATE_1516\n",
      "im here: total_enrollment\n",
      "im here: ap_ib_de_rate\n",
      "im here: sat_act_rate\n",
      "im here: pass_algebra_rate\n",
      "im here: geometry_rate\n",
      "im here: algebra2_rate\n",
      "im here: calc_rate\n",
      "im here: chronic_absent_rate\n",
      "im here: activities_funds_rate\n",
      "im here: sports_rate\n",
      "im here: suspensed_day_rate\n",
      "im here: harassed_rate\n",
      "im here: non_cert_rate\n",
      "im here: counselor_rate\n",
      "im here: absent_teacher_rate\n"
     ]
    }
   ],
   "source": [
    "imputed_numeric_df = large_feat\n",
    "for i in range(0, len(large_feat.columns)):\n",
    "    print('im here:', large_feat.columns[i])\n",
    "    imputed_numeric_df.iloc[:,i].replace(np.NaN, imputed_numeric_df.iloc[:,i].mean(), inplace=True)"
   ]
  },
  {
   "cell_type": "code",
   "execution_count": 6,
   "metadata": {},
   "outputs": [
    {
     "data": {
      "text/plain": [
       "ALL_RATE_1516            0\n",
       "total_enrollment         0\n",
       "ap_ib_de_rate            0\n",
       "sat_act_rate             0\n",
       "pass_algebra_rate        0\n",
       "geometry_rate            0\n",
       "algebra2_rate            0\n",
       "calc_rate                0\n",
       "chronic_absent_rate      0\n",
       "activities_funds_rate    0\n",
       "sports_rate              0\n",
       "suspensed_day_rate       0\n",
       "harassed_rate            0\n",
       "non_cert_rate            0\n",
       "counselor_rate           0\n",
       "absent_teacher_rate      0\n",
       "dtype: int64"
      ]
     },
     "execution_count": 6,
     "metadata": {},
     "output_type": "execute_result"
    }
   ],
   "source": [
    "#No missing values\n",
    "imputed_numeric_df.isna().sum()"
   ]
  },
  {
   "cell_type": "code",
   "execution_count": 7,
   "metadata": {},
   "outputs": [
    {
     "data": {
      "text/html": [
       "<div>\n",
       "<style scoped>\n",
       "    .dataframe tbody tr th:only-of-type {\n",
       "        vertical-align: middle;\n",
       "    }\n",
       "\n",
       "    .dataframe tbody tr th {\n",
       "        vertical-align: top;\n",
       "    }\n",
       "\n",
       "    .dataframe thead th {\n",
       "        text-align: right;\n",
       "    }\n",
       "</style>\n",
       "<table border=\"1\" class=\"dataframe\">\n",
       "  <thead>\n",
       "    <tr style=\"text-align: right;\">\n",
       "      <th></th>\n",
       "      <th>ALL_RATE_1516</th>\n",
       "      <th>total_enrollment</th>\n",
       "      <th>ap_ib_de_rate</th>\n",
       "      <th>sat_act_rate</th>\n",
       "      <th>pass_algebra_rate</th>\n",
       "      <th>geometry_rate</th>\n",
       "      <th>algebra2_rate</th>\n",
       "      <th>calc_rate</th>\n",
       "      <th>chronic_absent_rate</th>\n",
       "      <th>activities_funds_rate</th>\n",
       "      <th>sports_rate</th>\n",
       "      <th>suspensed_day_rate</th>\n",
       "      <th>harassed_rate</th>\n",
       "      <th>non_cert_rate</th>\n",
       "      <th>counselor_rate</th>\n",
       "      <th>absent_teacher_rate</th>\n",
       "    </tr>\n",
       "  </thead>\n",
       "  <tbody>\n",
       "    <tr>\n",
       "      <th>0</th>\n",
       "      <td>92</td>\n",
       "      <td>2967.0</td>\n",
       "      <td>0.228851</td>\n",
       "      <td>0.416245</td>\n",
       "      <td>0.1866</td>\n",
       "      <td>0.242332</td>\n",
       "      <td>0.056623</td>\n",
       "      <td>0.065723</td>\n",
       "      <td>0.144253</td>\n",
       "      <td>434.833734</td>\n",
       "      <td>0.302663</td>\n",
       "      <td>0.053927</td>\n",
       "      <td>0.000337</td>\n",
       "      <td>0.019066</td>\n",
       "      <td>0.001685</td>\n",
       "      <td>0.333651</td>\n",
       "    </tr>\n",
       "    <tr>\n",
       "      <th>1</th>\n",
       "      <td>94</td>\n",
       "      <td>1677.0</td>\n",
       "      <td>0.409884</td>\n",
       "      <td>0.288014</td>\n",
       "      <td>0.1866</td>\n",
       "      <td>0.269529</td>\n",
       "      <td>0.045915</td>\n",
       "      <td>0.064997</td>\n",
       "      <td>0.171139</td>\n",
       "      <td>511.925343</td>\n",
       "      <td>0.313655</td>\n",
       "      <td>0.138342</td>\n",
       "      <td>0.000000</td>\n",
       "      <td>0.016920</td>\n",
       "      <td>0.001789</td>\n",
       "      <td>0.346870</td>\n",
       "    </tr>\n",
       "    <tr>\n",
       "      <th>2</th>\n",
       "      <td>97</td>\n",
       "      <td>1756.0</td>\n",
       "      <td>0.409884</td>\n",
       "      <td>0.396925</td>\n",
       "      <td>0.1866</td>\n",
       "      <td>0.126424</td>\n",
       "      <td>0.034169</td>\n",
       "      <td>0.068337</td>\n",
       "      <td>0.009112</td>\n",
       "      <td>72676.817158</td>\n",
       "      <td>0.321754</td>\n",
       "      <td>0.041002</td>\n",
       "      <td>0.001139</td>\n",
       "      <td>0.000000</td>\n",
       "      <td>0.002278</td>\n",
       "      <td>0.019608</td>\n",
       "    </tr>\n",
       "    <tr>\n",
       "      <th>3</th>\n",
       "      <td>96</td>\n",
       "      <td>1708.0</td>\n",
       "      <td>0.409884</td>\n",
       "      <td>0.340749</td>\n",
       "      <td>0.1866</td>\n",
       "      <td>0.108314</td>\n",
       "      <td>0.014637</td>\n",
       "      <td>0.045667</td>\n",
       "      <td>0.103630</td>\n",
       "      <td>3478.029292</td>\n",
       "      <td>0.163934</td>\n",
       "      <td>0.078454</td>\n",
       "      <td>0.000000</td>\n",
       "      <td>0.000000</td>\n",
       "      <td>0.002635</td>\n",
       "      <td>0.232804</td>\n",
       "    </tr>\n",
       "    <tr>\n",
       "      <th>4</th>\n",
       "      <td>96</td>\n",
       "      <td>1441.0</td>\n",
       "      <td>0.409884</td>\n",
       "      <td>0.084663</td>\n",
       "      <td>0.1866</td>\n",
       "      <td>0.203331</td>\n",
       "      <td>0.160305</td>\n",
       "      <td>0.045802</td>\n",
       "      <td>0.104788</td>\n",
       "      <td>3970.929743</td>\n",
       "      <td>0.554476</td>\n",
       "      <td>0.019431</td>\n",
       "      <td>0.001388</td>\n",
       "      <td>0.000000</td>\n",
       "      <td>0.002082</td>\n",
       "      <td>0.231027</td>\n",
       "    </tr>\n",
       "  </tbody>\n",
       "</table>\n",
       "</div>"
      ],
      "text/plain": [
       "   ALL_RATE_1516  total_enrollment  ap_ib_de_rate  sat_act_rate  \\\n",
       "0             92            2967.0       0.228851      0.416245   \n",
       "1             94            1677.0       0.409884      0.288014   \n",
       "2             97            1756.0       0.409884      0.396925   \n",
       "3             96            1708.0       0.409884      0.340749   \n",
       "4             96            1441.0       0.409884      0.084663   \n",
       "\n",
       "   pass_algebra_rate  geometry_rate  algebra2_rate  calc_rate  \\\n",
       "0             0.1866       0.242332       0.056623   0.065723   \n",
       "1             0.1866       0.269529       0.045915   0.064997   \n",
       "2             0.1866       0.126424       0.034169   0.068337   \n",
       "3             0.1866       0.108314       0.014637   0.045667   \n",
       "4             0.1866       0.203331       0.160305   0.045802   \n",
       "\n",
       "   chronic_absent_rate  activities_funds_rate  sports_rate  \\\n",
       "0             0.144253             434.833734     0.302663   \n",
       "1             0.171139             511.925343     0.313655   \n",
       "2             0.009112           72676.817158     0.321754   \n",
       "3             0.103630            3478.029292     0.163934   \n",
       "4             0.104788            3970.929743     0.554476   \n",
       "\n",
       "   suspensed_day_rate  harassed_rate  non_cert_rate  counselor_rate  \\\n",
       "0            0.053927       0.000337       0.019066        0.001685   \n",
       "1            0.138342       0.000000       0.016920        0.001789   \n",
       "2            0.041002       0.001139       0.000000        0.002278   \n",
       "3            0.078454       0.000000       0.000000        0.002635   \n",
       "4            0.019431       0.001388       0.000000        0.002082   \n",
       "\n",
       "   absent_teacher_rate  \n",
       "0             0.333651  \n",
       "1             0.346870  \n",
       "2             0.019608  \n",
       "3             0.232804  \n",
       "4             0.231027  "
      ]
     },
     "execution_count": 7,
     "metadata": {},
     "output_type": "execute_result"
    }
   ],
   "source": [
    "imputed_numeric_df.head()"
   ]
  },
  {
   "cell_type": "markdown",
   "metadata": {},
   "source": [
    "## Model 1 - Using statsmodel"
   ]
  },
  {
   "cell_type": "code",
   "execution_count": 8,
   "metadata": {},
   "outputs": [],
   "source": [
    "y = large['ALL_RATE_1516']"
   ]
  },
  {
   "cell_type": "code",
   "execution_count": 9,
   "metadata": {},
   "outputs": [],
   "source": [
    "#features to use for prediction came from \n",
    "X = imputed_numeric_df"
   ]
  },
  {
   "cell_type": "code",
   "execution_count": 83,
   "metadata": {},
   "outputs": [
    {
     "data": {
      "text/html": [
       "<table class=\"simpletable\">\n",
       "<caption>OLS Regression Results</caption>\n",
       "<tr>\n",
       "  <th>Dep. Variable:</th>      <td>ALL_RATE_1516</td>  <th>  R-squared:         </th> <td>   0.271</td> \n",
       "</tr>\n",
       "<tr>\n",
       "  <th>Model:</th>                   <td>OLS</td>       <th>  Adj. R-squared:    </th> <td>   0.268</td> \n",
       "</tr>\n",
       "<tr>\n",
       "  <th>Method:</th>             <td>Least Squares</td>  <th>  F-statistic:       </th> <td>   105.7</td> \n",
       "</tr>\n",
       "<tr>\n",
       "  <th>Date:</th>             <td>Mon, 22 Jul 2019</td> <th>  Prob (F-statistic):</th> <td>7.89e-279</td>\n",
       "</tr>\n",
       "<tr>\n",
       "  <th>Time:</th>                 <td>18:08:44</td>     <th>  Log-Likelihood:    </th> <td> -15661.</td> \n",
       "</tr>\n",
       "<tr>\n",
       "  <th>No. Observations:</th>      <td>  4285</td>      <th>  AIC:               </th> <td>3.135e+04</td>\n",
       "</tr>\n",
       "<tr>\n",
       "  <th>Df Residuals:</th>          <td>  4269</td>      <th>  BIC:               </th> <td>3.146e+04</td>\n",
       "</tr>\n",
       "<tr>\n",
       "  <th>Df Model:</th>              <td>    15</td>      <th>                     </th>     <td> </td>    \n",
       "</tr>\n",
       "<tr>\n",
       "  <th>Covariance Type:</th>      <td>nonrobust</td>    <th>                     </th>     <td> </td>    \n",
       "</tr>\n",
       "</table>\n",
       "<table class=\"simpletable\">\n",
       "<tr>\n",
       "            <td></td>               <th>coef</th>     <th>std err</th>      <th>t</th>      <th>P>|t|</th>  <th>[0.025</th>    <th>0.975]</th>  \n",
       "</tr>\n",
       "<tr>\n",
       "  <th>const</th>                 <td>   82.0185</td> <td>    1.465</td> <td>   55.975</td> <td> 0.000</td> <td>   79.146</td> <td>   84.891</td>\n",
       "</tr>\n",
       "<tr>\n",
       "  <th>total_enrollment</th>      <td>    0.0007</td> <td>    0.000</td> <td>    3.393</td> <td> 0.001</td> <td>    0.000</td> <td>    0.001</td>\n",
       "</tr>\n",
       "<tr>\n",
       "  <th>ap_ib_de_rate</th>         <td>    3.4016</td> <td>    2.262</td> <td>    1.504</td> <td> 0.133</td> <td>   -1.033</td> <td>    7.836</td>\n",
       "</tr>\n",
       "<tr>\n",
       "  <th>sat_act_rate</th>          <td>   10.1936</td> <td>    1.168</td> <td>    8.729</td> <td> 0.000</td> <td>    7.904</td> <td>   12.483</td>\n",
       "</tr>\n",
       "<tr>\n",
       "  <th>pass_algebra_rate</th>     <td>   10.5882</td> <td>    3.160</td> <td>    3.351</td> <td> 0.001</td> <td>    4.394</td> <td>   16.783</td>\n",
       "</tr>\n",
       "<tr>\n",
       "  <th>geometry_rate</th>         <td>   -3.2995</td> <td>    2.212</td> <td>   -1.492</td> <td> 0.136</td> <td>   -7.636</td> <td>    1.036</td>\n",
       "</tr>\n",
       "<tr>\n",
       "  <th>algebra2_rate</th>         <td>    9.5683</td> <td>    2.135</td> <td>    4.481</td> <td> 0.000</td> <td>    5.382</td> <td>   13.754</td>\n",
       "</tr>\n",
       "<tr>\n",
       "  <th>calc_rate</th>             <td>   16.0698</td> <td>    3.228</td> <td>    4.979</td> <td> 0.000</td> <td>    9.742</td> <td>   22.398</td>\n",
       "</tr>\n",
       "<tr>\n",
       "  <th>chronic_absent_rate</th>   <td>  -23.6375</td> <td>    0.999</td> <td>  -23.661</td> <td> 0.000</td> <td>  -25.596</td> <td>  -21.679</td>\n",
       "</tr>\n",
       "<tr>\n",
       "  <th>activities_funds_rate</th> <td>-7.727e-05</td> <td> 2.25e-05</td> <td>   -3.435</td> <td> 0.001</td> <td>   -0.000</td> <td>-3.32e-05</td>\n",
       "</tr>\n",
       "<tr>\n",
       "  <th>sports_rate</th>           <td>    6.7720</td> <td>    0.890</td> <td>    7.613</td> <td> 0.000</td> <td>    5.028</td> <td>    8.516</td>\n",
       "</tr>\n",
       "<tr>\n",
       "  <th>suspensed_day_rate</th>    <td>   -4.4062</td> <td>    0.477</td> <td>   -9.230</td> <td> 0.000</td> <td>   -5.342</td> <td>   -3.470</td>\n",
       "</tr>\n",
       "<tr>\n",
       "  <th>harassed_rate</th>         <td>    8.5940</td> <td>   27.178</td> <td>    0.316</td> <td> 0.752</td> <td>  -44.688</td> <td>   61.876</td>\n",
       "</tr>\n",
       "<tr>\n",
       "  <th>non_cert_rate</th>         <td>  -18.2247</td> <td>    2.142</td> <td>   -8.510</td> <td> 0.000</td> <td>  -22.423</td> <td>  -14.026</td>\n",
       "</tr>\n",
       "<tr>\n",
       "  <th>counselor_rate</th>        <td>  181.0383</td> <td>   76.361</td> <td>    2.371</td> <td> 0.018</td> <td>   31.332</td> <td>  330.745</td>\n",
       "</tr>\n",
       "<tr>\n",
       "  <th>absent_teacher_rate</th>   <td>    1.2855</td> <td>    0.830</td> <td>    1.550</td> <td> 0.121</td> <td>   -0.341</td> <td>    2.912</td>\n",
       "</tr>\n",
       "</table>\n",
       "<table class=\"simpletable\">\n",
       "<tr>\n",
       "  <th>Omnibus:</th>       <td>3081.221</td> <th>  Durbin-Watson:     </th> <td>   1.284</td> \n",
       "</tr>\n",
       "<tr>\n",
       "  <th>Prob(Omnibus):</th>  <td> 0.000</td>  <th>  Jarque-Bera (JB):  </th> <td>67449.695</td>\n",
       "</tr>\n",
       "<tr>\n",
       "  <th>Skew:</th>           <td>-3.197</td>  <th>  Prob(JB):          </th> <td>    0.00</td> \n",
       "</tr>\n",
       "<tr>\n",
       "  <th>Kurtosis:</th>       <td>21.355</td>  <th>  Cond. No.          </th> <td>3.54e+06</td> \n",
       "</tr>\n",
       "</table><br/><br/>Warnings:<br/>[1] Standard Errors assume that the covariance matrix of the errors is correctly specified.<br/>[2] The condition number is large, 3.54e+06. This might indicate that there are<br/>strong multicollinearity or other numerical problems."
      ],
      "text/plain": [
       "<class 'statsmodels.iolib.summary.Summary'>\n",
       "\"\"\"\n",
       "                            OLS Regression Results                            \n",
       "==============================================================================\n",
       "Dep. Variable:          ALL_RATE_1516   R-squared:                       0.271\n",
       "Model:                            OLS   Adj. R-squared:                  0.268\n",
       "Method:                 Least Squares   F-statistic:                     105.7\n",
       "Date:                Mon, 22 Jul 2019   Prob (F-statistic):          7.89e-279\n",
       "Time:                        18:08:44   Log-Likelihood:                -15661.\n",
       "No. Observations:                4285   AIC:                         3.135e+04\n",
       "Df Residuals:                    4269   BIC:                         3.146e+04\n",
       "Df Model:                          15                                         \n",
       "Covariance Type:            nonrobust                                         \n",
       "=========================================================================================\n",
       "                            coef    std err          t      P>|t|      [0.025      0.975]\n",
       "-----------------------------------------------------------------------------------------\n",
       "const                    82.0185      1.465     55.975      0.000      79.146      84.891\n",
       "total_enrollment          0.0007      0.000      3.393      0.001       0.000       0.001\n",
       "ap_ib_de_rate             3.4016      2.262      1.504      0.133      -1.033       7.836\n",
       "sat_act_rate             10.1936      1.168      8.729      0.000       7.904      12.483\n",
       "pass_algebra_rate        10.5882      3.160      3.351      0.001       4.394      16.783\n",
       "geometry_rate            -3.2995      2.212     -1.492      0.136      -7.636       1.036\n",
       "algebra2_rate             9.5683      2.135      4.481      0.000       5.382      13.754\n",
       "calc_rate                16.0698      3.228      4.979      0.000       9.742      22.398\n",
       "chronic_absent_rate     -23.6375      0.999    -23.661      0.000     -25.596     -21.679\n",
       "activities_funds_rate -7.727e-05   2.25e-05     -3.435      0.001      -0.000   -3.32e-05\n",
       "sports_rate               6.7720      0.890      7.613      0.000       5.028       8.516\n",
       "suspensed_day_rate       -4.4062      0.477     -9.230      0.000      -5.342      -3.470\n",
       "harassed_rate             8.5940     27.178      0.316      0.752     -44.688      61.876\n",
       "non_cert_rate           -18.2247      2.142     -8.510      0.000     -22.423     -14.026\n",
       "counselor_rate          181.0383     76.361      2.371      0.018      31.332     330.745\n",
       "absent_teacher_rate       1.2855      0.830      1.550      0.121      -0.341       2.912\n",
       "==============================================================================\n",
       "Omnibus:                     3081.221   Durbin-Watson:                   1.284\n",
       "Prob(Omnibus):                  0.000   Jarque-Bera (JB):            67449.695\n",
       "Skew:                          -3.197   Prob(JB):                         0.00\n",
       "Kurtosis:                      21.355   Cond. No.                     3.54e+06\n",
       "==============================================================================\n",
       "\n",
       "Warnings:\n",
       "[1] Standard Errors assume that the covariance matrix of the errors is correctly specified.\n",
       "[2] The condition number is large, 3.54e+06. This might indicate that there are\n",
       "strong multicollinearity or other numerical problems.\n",
       "\"\"\""
      ]
     },
     "execution_count": 83,
     "metadata": {},
     "output_type": "execute_result"
    }
   ],
   "source": [
    "import statsmodels.api as sm\n",
    "\n",
    "#Regression Model\n",
    "X = sm.add_constant(X)# adding a constant\n",
    "model=sm.OLS(y, X).fit()\n",
    "model.summary()"
   ]
  },
  {
   "cell_type": "code",
   "execution_count": 15,
   "metadata": {},
   "outputs": [
    {
     "name": "stderr",
     "output_type": "stream",
     "text": [
      "/anaconda3/envs/absenteeism/lib/python3.6/site-packages/ipykernel_launcher.py:5: DataConversionWarning: Data with input dtype int64, float64 were all converted to float64 by the scale function.\n",
      "  \"\"\"\n"
     ]
    },
    {
     "data": {
      "text/plain": [
       "array([[-0.03903799, -1.58891607, -0.6670932 , ..., -1.23167973,\n",
       "         0.99505364,  0.83678548],\n",
       "       [-0.02438154, -0.85155998, -0.00907328, ..., -0.38135053,\n",
       "         0.99525648, -0.44185932],\n",
       "       [-1.56638967, -1.9211816 ,  2.66888978, ..., -0.60145007,\n",
       "         2.19555251, -1.97325135],\n",
       "       ...,\n",
       "       [ 1.7590179 , -0.13590437, -0.25277698, ...,  0.44250431,\n",
       "         0.0829477 , -0.0550687 ],\n",
       "       [ 1.75537394,  0.03900465, -0.34180382, ..., -0.48154742,\n",
       "        -0.12888693,  1.0312433 ],\n",
       "       [ 0.76627668, -0.11448163,  1.14393986, ..., -0.19116985,\n",
       "        -0.70380415, -0.03946169]])"
      ]
     },
     "execution_count": 15,
     "metadata": {},
     "output_type": "execute_result"
    }
   ],
   "source": [
    "from sklearn.decomposition import PCA\n",
    "from sklearn import preprocessing\n",
    "\n",
    "#normalize the imputed data\n",
    "large_scaled = pd.DataFrame(preprocessing.scale(imputed_numeric_df),columns = imputed_numeric_df.columns) \n",
    "\n",
    "# PCA\n",
    "pca = PCA(n_components=12)\n",
    "pca.fit_transform(large_scaled)"
   ]
  },
  {
   "cell_type": "code",
   "execution_count": 16,
   "metadata": {},
   "outputs": [
    {
     "name": "stdout",
     "output_type": "stream",
     "text": [
      "0.8387412393516933\n"
     ]
    }
   ],
   "source": [
    "print(sum(pca.explained_variance_ratio_[0:12]))"
   ]
  },
  {
   "cell_type": "markdown",
   "metadata": {},
   "source": [
    "## Model 2 - Using sklearn linear regression on all variables"
   ]
  },
  {
   "cell_type": "code",
   "execution_count": 84,
   "metadata": {},
   "outputs": [],
   "source": [
    "X_train, X_test, y_train, y_test = train_test_split(X, y, test_size=0.3, random_state=102)"
   ]
  },
  {
   "cell_type": "code",
   "execution_count": 85,
   "metadata": {},
   "outputs": [],
   "source": [
    "lm = LinearRegression()"
   ]
  },
  {
   "cell_type": "code",
   "execution_count": 86,
   "metadata": {},
   "outputs": [
    {
     "data": {
      "text/plain": [
       "LinearRegression(copy_X=True, fit_intercept=True, n_jobs=None,\n",
       "         normalize=False)"
      ]
     },
     "execution_count": 86,
     "metadata": {},
     "output_type": "execute_result"
    }
   ],
   "source": [
    "lm.fit(X_train, y_train)"
   ]
  },
  {
   "cell_type": "code",
   "execution_count": 87,
   "metadata": {},
   "outputs": [
    {
     "data": {
      "text/plain": [
       "array([ 0.00000000e+00,  4.44326196e-04,  4.92053401e+00,  9.45664412e+00,\n",
       "        1.25851150e+01, -6.62340733e+00,  7.91342596e+00,  1.44544682e+01,\n",
       "       -2.53526939e+01, -6.84785231e-05,  6.48445597e+00, -4.29581612e+00,\n",
       "       -1.47335198e+00, -1.96945075e+01,  2.08726828e+02,  1.39571328e+00])"
      ]
     },
     "execution_count": 87,
     "metadata": {},
     "output_type": "execute_result"
    }
   ],
   "source": [
    "lm.coef_"
   ]
  },
  {
   "cell_type": "code",
   "execution_count": 88,
   "metadata": {},
   "outputs": [],
   "source": [
    "cdf = pd.DataFrame(lm.coef_, X.columns, columns=['Coeff'])"
   ]
  },
  {
   "cell_type": "code",
   "execution_count": 89,
   "metadata": {},
   "outputs": [],
   "source": [
    "predictions = lm.predict(X_test)"
   ]
  },
  {
   "cell_type": "code",
   "execution_count": 90,
   "metadata": {},
   "outputs": [
    {
     "name": "stderr",
     "output_type": "stream",
     "text": [
      "/anaconda3/envs/absenteeism/lib/python3.6/site-packages/scipy/stats/stats.py:1713: FutureWarning: Using a non-tuple sequence for multidimensional indexing is deprecated; use `arr[tuple(seq)]` instead of `arr[seq]`. In the future this will be interpreted as an array index, `arr[np.array(seq)]`, which will result either in an error or a different result.\n",
      "  return np.add.reduce(sorted[indexer] * weights, axis=axis) / sumval\n"
     ]
    },
    {
     "data": {
      "text/plain": [
       "<matplotlib.axes._subplots.AxesSubplot at 0x1c22e0a588>"
      ]
     },
     "execution_count": 90,
     "metadata": {},
     "output_type": "execute_result"
    },
    {
     "data": {
      "image/png": "[encoded data removed]",
      "text/plain": [
       "<Figure size 432x288 with 1 Axes>"
      ]
     },
     "metadata": {
      "needs_background": "light"
     },
     "output_type": "display_data"
    }
   ],
   "source": [
    "sns.distplot((y_test - predictions))\n",
    "#the problem with the data is the long left tail. Making the data very unbalanced."
   ]
  },
  {
   "cell_type": "code",
   "execution_count": 91,
   "metadata": {},
   "outputs": [
    {
     "name": "stdout",
     "output_type": "stream",
     "text": [
      "MAE:  5.779507625301263\n",
      "MSE:  91.97289114843554\n",
      "RMSE:  9.59024979593522\n",
      "R-squared:  0.22096327553107054\n"
     ]
    }
   ],
   "source": [
    "#most likely overfit with all variables\n",
    "print('MAE: ', metrics.mean_absolute_error(y_test, predictions))\n",
    "print('MSE: ', metrics.mean_squared_error(y_test, predictions))\n",
    "print('RMSE: ', np.sqrt(metrics.mean_squared_error(y_test, predictions)))\n",
    "print('R-squared: ', metrics.r2_score(y_test, predictions))"
   ]
  },
  {
   "cell_type": "markdown",
   "metadata": {},
   "source": [
    "## Model 3 - Using sklearn, reduced to four key variables"
   ]
  },
  {
   "cell_type": "code",
   "execution_count": 25,
   "metadata": {},
   "outputs": [],
   "source": [
    "large_scaled_reduced = large_scaled[['non_cert_rate','sports_rate','ap_ib_de_rate', 'chronic_absent_rate']]"
   ]
  },
  {
   "cell_type": "code",
   "execution_count": 26,
   "metadata": {},
   "outputs": [],
   "source": [
    "y = large['ALL_RATE_1516']\n",
    "X = large_scaled_reduced"
   ]
  },
  {
   "cell_type": "code",
   "execution_count": 27,
   "metadata": {},
   "outputs": [],
   "source": [
    "X_train_reduce, X_test_reduce, y_train_reduce, y_test_reduce = train_test_split(X, y, test_size=0.3, random_state=102)"
   ]
  },
  {
   "cell_type": "code",
   "execution_count": 28,
   "metadata": {},
   "outputs": [],
   "source": [
    "lm = LinearRegression()"
   ]
  },
  {
   "cell_type": "code",
   "execution_count": 29,
   "metadata": {},
   "outputs": [
    {
     "data": {
      "text/plain": [
       "LinearRegression(copy_X=True, fit_intercept=True, n_jobs=None,\n",
       "         normalize=False)"
      ]
     },
     "execution_count": 29,
     "metadata": {},
     "output_type": "execute_result"
    }
   ],
   "source": [
    "lm.fit(X_train_reduce, y_train_reduce)"
   ]
  },
  {
   "cell_type": "code",
   "execution_count": 30,
   "metadata": {},
   "outputs": [
    {
     "data": {
      "text/plain": [
       "array([-1.46178488,  1.70833397,  0.54506327, -4.37713071])"
      ]
     },
     "execution_count": 30,
     "metadata": {},
     "output_type": "execute_result"
    }
   ],
   "source": [
    "lm.coef_"
   ]
  },
  {
   "cell_type": "code",
   "execution_count": 31,
   "metadata": {},
   "outputs": [],
   "source": [
    "cdf_reduce = pd.DataFrame(lm.coef_, X_train_reduce.columns, columns=['Coeff'])"
   ]
  },
  {
   "cell_type": "code",
   "execution_count": 32,
   "metadata": {},
   "outputs": [],
   "source": [
    "predictions_reduce = lm.predict(X_test_reduce)"
   ]
  },
  {
   "cell_type": "code",
   "execution_count": 33,
   "metadata": {},
   "outputs": [
    {
     "name": "stderr",
     "output_type": "stream",
     "text": [
      "/anaconda3/envs/absenteeism/lib/python3.6/site-packages/scipy/stats/stats.py:1713: FutureWarning: Using a non-tuple sequence for multidimensional indexing is deprecated; use `arr[tuple(seq)]` instead of `arr[seq]`. In the future this will be interpreted as an array index, `arr[np.array(seq)]`, which will result either in an error or a different result.\n",
      "  return np.add.reduce(sorted[indexer] * weights, axis=axis) / sumval\n"
     ]
    },
    {
     "data": {
      "text/plain": [
       "<matplotlib.axes._subplots.AxesSubplot at 0x1c1cc2ec50>"
      ]
     },
     "execution_count": 33,
     "metadata": {},
     "output_type": "execute_result"
    },
    {
     "data": {
      "image/png": "[encoded data removed]",
      "text/plain": [
       "<Figure size 432x288 with 1 Axes>"
      ]
     },
     "metadata": {
      "needs_background": "light"
     },
     "output_type": "display_data"
    }
   ],
   "source": [
    "sns.distplot((y_test_reduce - predictions_reduce))"
   ]
  },
  {
   "cell_type": "code",
   "execution_count": 34,
   "metadata": {},
   "outputs": [
    {
     "name": "stdout",
     "output_type": "stream",
     "text": [
      "MAE:  6.0751544704567095\n",
      "MSE:  99.39505075903959\n",
      "RMSE:  9.969706653610205\n",
      "R-squared:  0.15809545829350258\n"
     ]
    }
   ],
   "source": [
    "#needs more\n",
    "print('MAE: ', metrics.mean_absolute_error(y_test_reduce, predictions_reduce))\n",
    "print('MSE: ', metrics.mean_squared_error(y_test_reduce, predictions_reduce))\n",
    "print('RMSE: ', np.sqrt(metrics.mean_squared_error(y_test_reduce, predictions_reduce)))\n",
    "print('R-squared: ', metrics.r2_score(y_test_reduce, predictions_reduce))"
   ]
  },
  {
   "cell_type": "markdown",
   "metadata": {},
   "source": [
    "## Model 4 - Using sklearn on all variables with lasso"
   ]
  },
  {
   "cell_type": "code",
   "execution_count": 137,
   "metadata": {},
   "outputs": [],
   "source": [
    "from sklearn.linear_model import Lasso\n",
    "from sklearn.preprocessing import StandardScaler"
   ]
  },
  {
   "cell_type": "code",
   "execution_count": 138,
   "metadata": {},
   "outputs": [],
   "source": [
    "X_train_lasso, X_test_lasso, y_train_lasso, y_test_lasso = train_test_split(X, y, test_size=0.3, random_state=102)"
   ]
  },
  {
   "cell_type": "code",
   "execution_count": 139,
   "metadata": {},
   "outputs": [],
   "source": [
    "scaler = StandardScaler()"
   ]
  },
  {
   "cell_type": "code",
   "execution_count": 140,
   "metadata": {},
   "outputs": [],
   "source": [
    "X_train_lasso = scaler.fit_transform(X_train_lasso)"
   ]
  },
  {
   "cell_type": "code",
   "execution_count": 141,
   "metadata": {},
   "outputs": [],
   "source": [
    "X_test_lasso = scaler.transform(X_test_lasso)"
   ]
  },
  {
   "cell_type": "code",
   "execution_count": 33,
   "metadata": {},
   "outputs": [],
   "source": [
    "# y = large['ALL_RATE_1516']\n",
    "# X = imputed_numeric_df.drop(['ALL_RATE_1516'], axis=1)"
   ]
  },
  {
   "cell_type": "code",
   "execution_count": 142,
   "metadata": {},
   "outputs": [],
   "source": [
    "lasso = Lasso()"
   ]
  },
  {
   "cell_type": "code",
   "execution_count": 143,
   "metadata": {},
   "outputs": [
    {
     "data": {
      "text/plain": [
       "Lasso(alpha=1.0, copy_X=True, fit_intercept=True, max_iter=1000,\n",
       "   normalize=False, positive=False, precompute=False, random_state=None,\n",
       "   selection='cyclic', tol=0.0001, warm_start=False)"
      ]
     },
     "execution_count": 143,
     "metadata": {},
     "output_type": "execute_result"
    }
   ],
   "source": [
    "#default\n",
    "lasso.fit(X_train_lasso, y_train_lasso)"
   ]
  },
  {
   "cell_type": "code",
   "execution_count": 144,
   "metadata": {},
   "outputs": [],
   "source": [
    "#default alpha = 1\n",
    "train_score=lasso.score(X_train_lasso,y_train_lasso)\n",
    "test_score=lasso.score(X_test_lasso,y_test_lasso)\n",
    "coeff_used = np.sum(lasso.coef_!=0)\n",
    "predictions_lasso = lasso.predict(X_train_lasso)"
   ]
  },
  {
   "cell_type": "code",
   "execution_count": 145,
   "metadata": {},
   "outputs": [
    {
     "name": "stdout",
     "output_type": "stream",
     "text": [
      "training score:  0.24796506971236532\n",
      "test score:  0.1922547107643683\n",
      "number of features used:  6\n"
     ]
    }
   ],
   "source": [
    "print('training score: ', train_score) \n",
    "#Returns the coefficient of determination R^2 of the prediction.\n",
    "print('test score: ', test_score)\n",
    "print('number of features used: ', coeff_used)"
   ]
  },
  {
   "cell_type": "code",
   "execution_count": 146,
   "metadata": {},
   "outputs": [
    {
     "data": {
      "text/plain": [
       "Lasso(alpha=0.1, copy_X=True, fit_intercept=True, max_iter=1000000.0,\n",
       "   normalize=False, positive=False, precompute=False, random_state=None,\n",
       "   selection='cyclic', tol=0.0001, warm_start=False)"
      ]
     },
     "execution_count": 146,
     "metadata": {},
     "output_type": "execute_result"
    }
   ],
   "source": [
    "#change alpha to .1\n",
    "lasso1 = Lasso(alpha=0.1, max_iter=10e5)\n",
    "lasso1.fit(X_train_lasso,y_train_lasso)"
   ]
  },
  {
   "cell_type": "code",
   "execution_count": 147,
   "metadata": {},
   "outputs": [],
   "source": [
    "train_score1=lasso1.score(X_train_lasso,y_train_lasso)\n",
    "test_score1=lasso1.score(X_test_lasso,y_test_lasso)\n",
    "coeff_used1 = np.sum(lasso1.coef_!=0)"
   ]
  },
  {
   "cell_type": "code",
   "execution_count": 148,
   "metadata": {},
   "outputs": [
    {
     "name": "stdout",
     "output_type": "stream",
     "text": [
      "training score for alpha=0.1: 0.2881196400810735\n",
      "test score for alpha =0.1:  0.22139506942881093\n",
      "number of features used: for alpha =0.1: 14\n"
     ]
    }
   ],
   "source": [
    "print('training score for alpha=0.1:', train_score1) \n",
    "print('test score for alpha =0.1: ', test_score1)\n",
    "print('number of features used: for alpha =0.1:', coeff_used1)"
   ]
  },
  {
   "cell_type": "code",
   "execution_count": 101,
   "metadata": {},
   "outputs": [
    {
     "data": {
      "text/plain": [
       "Lasso(alpha=0.01, copy_X=True, fit_intercept=True, max_iter=1000000.0,\n",
       "   normalize=False, positive=False, precompute=False, random_state=None,\n",
       "   selection='cyclic', tol=0.0001, warm_start=False)"
      ]
     },
     "execution_count": 101,
     "metadata": {},
     "output_type": "execute_result"
    }
   ],
   "source": [
    "#change alpha to .01\n",
    "lasso01 = Lasso(alpha=0.01, max_iter=10e5)\n",
    "lasso01.fit(X_train_lasso,y_train_lasso)"
   ]
  },
  {
   "cell_type": "code",
   "execution_count": 102,
   "metadata": {},
   "outputs": [],
   "source": [
    "train_score01=lasso01.score(X_train_lasso,y_train_lasso)\n",
    "test_score01=lasso01.score(X_test_lasso,y_test_lasso)\n",
    "coeff_used01 = np.sum(lasso01.coef_!=0)"
   ]
  },
  {
   "cell_type": "code",
   "execution_count": 103,
   "metadata": {},
   "outputs": [
    {
     "name": "stdout",
     "output_type": "stream",
     "text": [
      "training score for alpha=0.01: 0.289105706864765\n",
      "test score for alpha =0.01:  0.22110287742550105\n",
      "number of features used: for alpha =0.01: 14\n"
     ]
    }
   ],
   "source": [
    "print('training score for alpha=0.01:', train_score01) \n",
    "print('test score for alpha =0.01: ', test_score01)\n",
    "print('number of features used: for alpha =0.01:', coeff_used01)"
   ]
  },
  {
   "cell_type": "code",
   "execution_count": 104,
   "metadata": {},
   "outputs": [
    {
     "data": {
      "text/plain": [
       "Lasso(alpha=0.001, copy_X=True, fit_intercept=True, max_iter=1000000.0,\n",
       "   normalize=False, positive=False, precompute=False, random_state=None,\n",
       "   selection='cyclic', tol=0.0001, warm_start=False)"
      ]
     },
     "execution_count": 104,
     "metadata": {},
     "output_type": "execute_result"
    }
   ],
   "source": [
    "#change alpha to .001\n",
    "lasso001 = Lasso(alpha=0.001, max_iter=10e5)\n",
    "lasso001.fit(X_train_lasso,y_train_lasso)"
   ]
  },
  {
   "cell_type": "code",
   "execution_count": 105,
   "metadata": {},
   "outputs": [],
   "source": [
    "train_score001=lasso001.score(X_train_lasso,y_train_lasso)\n",
    "test_score001=lasso001.score(X_test_lasso,y_test_lasso)\n",
    "coeff_used001 = np.sum(lasso001.coef_!=0)"
   ]
  },
  {
   "cell_type": "code",
   "execution_count": 106,
   "metadata": {},
   "outputs": [
    {
     "name": "stdout",
     "output_type": "stream",
     "text": [
      "training score for alpha=0.001: 0.2891161665325982\n",
      "test score for alpha =0.001:  0.22097776995493149\n",
      "number of features used: for alpha =0.001: 15\n"
     ]
    }
   ],
   "source": [
    "print('training score for alpha=0.001:', train_score001) \n",
    "print('test score for alpha =0.001: ', test_score001)\n",
    "print('number of features used: for alpha =0.001:', coeff_used001)"
   ]
  },
  {
   "cell_type": "code",
   "execution_count": 107,
   "metadata": {},
   "outputs": [
    {
     "data": {
      "text/plain": [
       "Lasso(alpha=0.0001, copy_X=True, fit_intercept=True, max_iter=1000000.0,\n",
       "   normalize=False, positive=False, precompute=False, random_state=None,\n",
       "   selection='cyclic', tol=0.0001, warm_start=False)"
      ]
     },
     "execution_count": 107,
     "metadata": {},
     "output_type": "execute_result"
    }
   ],
   "source": [
    "#change alpha to .0001\n",
    "lasso0001 = Lasso(alpha=0.0001, max_iter=10e5)\n",
    "lasso0001.fit(X_train_lasso,y_train_lasso)"
   ]
  },
  {
   "cell_type": "code",
   "execution_count": 108,
   "metadata": {},
   "outputs": [],
   "source": [
    "train_score0001=lasso0001.score(X_train_lasso,y_train_lasso)\n",
    "test_score0001=lasso0001.score(X_test_lasso,y_test_lasso)\n",
    "coeff_used0001 = np.sum(lasso0001.coef_!=0)"
   ]
  },
  {
   "cell_type": "code",
   "execution_count": 109,
   "metadata": {},
   "outputs": [
    {
     "name": "stdout",
     "output_type": "stream",
     "text": [
      "training score for alpha=0.0001: 0.2891162716401945\n",
      "test score for alpha =0.0001:  0.2209648092975115\n",
      "number of features used: for alpha =0.0001: 15\n"
     ]
    }
   ],
   "source": [
    "print('training score for alpha=0.0001:', train_score0001) \n",
    "print('test score for alpha =0.0001: ', test_score0001)\n",
    "print('number of features used: for alpha =0.0001:', coeff_used0001)"
   ]
  },
  {
   "cell_type": "code",
   "execution_count": 110,
   "metadata": {},
   "outputs": [
    {
     "data": {
      "text/plain": [
       "Lasso(alpha=1e-05, copy_X=True, fit_intercept=True, max_iter=1000000.0,\n",
       "   normalize=False, positive=False, precompute=False, random_state=None,\n",
       "   selection='cyclic', tol=0.0001, warm_start=False)"
      ]
     },
     "execution_count": 110,
     "metadata": {},
     "output_type": "execute_result"
    }
   ],
   "source": [
    "#change alpha to .00001\n",
    "lasso00001 = Lasso(alpha=0.00001, max_iter=10e5)\n",
    "lasso00001.fit(X_train_lasso,y_train_lasso)"
   ]
  },
  {
   "cell_type": "code",
   "execution_count": 111,
   "metadata": {},
   "outputs": [],
   "source": [
    "train_score00001=lasso00001.score(X_train_lasso,y_train_lasso)\n",
    "test_score00001=lasso00001.score(X_test_lasso,y_test_lasso)\n",
    "coeff_used00001 = np.sum(lasso00001.coef_!=0)"
   ]
  },
  {
   "cell_type": "code",
   "execution_count": 112,
   "metadata": {},
   "outputs": [
    {
     "name": "stdout",
     "output_type": "stream",
     "text": [
      "training score for alpha=0.00001: 0.28911627271619156\n",
      "test score for alpha =0.00001:  0.22096342863795193\n",
      "number of features used: for alpha =0.00001: 15\n"
     ]
    }
   ],
   "source": [
    "print('training score for alpha=0.00001:', train_score00001) \n",
    "print('test score for alpha =0.00001: ', test_score00001)\n",
    "print('number of features used: for alpha =0.00001:', coeff_used00001)"
   ]
  },
  {
   "cell_type": "code",
   "execution_count": 113,
   "metadata": {},
   "outputs": [
    {
     "data": {
      "text/plain": [
       "Lasso(alpha=5, copy_X=True, fit_intercept=True, max_iter=1000000.0,\n",
       "   normalize=False, positive=False, precompute=False, random_state=None,\n",
       "   selection='cyclic', tol=0.0001, warm_start=False)"
      ]
     },
     "execution_count": 113,
     "metadata": {},
     "output_type": "execute_result"
    }
   ],
   "source": [
    "#change alpha to 5, try a different direction\n",
    "lasso5 = Lasso(alpha=5, max_iter=10e5)\n",
    "lasso5.fit(X_train_lasso,y_train_lasso)"
   ]
  },
  {
   "cell_type": "code",
   "execution_count": 114,
   "metadata": {},
   "outputs": [],
   "source": [
    "train_score5=lasso5.score(X_train_lasso,y_train_lasso)\n",
    "test_score5=lasso5.score(X_test_lasso,y_test_lasso)\n",
    "coeff_used5 = np.sum(lasso5.coef_!=0)"
   ]
  },
  {
   "cell_type": "code",
   "execution_count": 115,
   "metadata": {},
   "outputs": [
    {
     "name": "stdout",
     "output_type": "stream",
     "text": [
      "training score for alpha=5: 0.0\n",
      "test score for alpha =5:  -0.0001803857670559239\n",
      "number of features used: for alpha =5: 0\n"
     ]
    }
   ],
   "source": [
    "print('training score for alpha=5:', train_score5) \n",
    "print('test score for alpha =5: ', test_score5)\n",
    "print('number of features used: for alpha =5:', coeff_used5)"
   ]
  },
  {
   "cell_type": "code",
   "execution_count": 116,
   "metadata": {
    "collapsed": true
   },
   "outputs": [
    {
     "ename": "NameError",
     "evalue": "name 'train_score000001' is not defined",
     "output_type": "error",
     "traceback": [
      "\u001b[0;31m---------------------------------------------------------------------------\u001b[0m",
      "\u001b[0;31mNameError\u001b[0m                                 Traceback (most recent call last)",
      "\u001b[0;32m<ipython-input-116-0cf63e77c391>\u001b[0m in \u001b[0;36m<module>\u001b[0;34m()\u001b[0m\n\u001b[0;32m----> 1\u001b[0;31m \u001b[0mprint\u001b[0m\u001b[0;34m(\u001b[0m\u001b[0;34m'training score for alpha=0.00001:'\u001b[0m\u001b[0;34m,\u001b[0m \u001b[0mtrain_score000001\u001b[0m\u001b[0;34m)\u001b[0m\u001b[0;34m\u001b[0m\u001b[0m\n\u001b[0m\u001b[1;32m      2\u001b[0m \u001b[0mprint\u001b[0m\u001b[0;34m(\u001b[0m\u001b[0;34m'test score for alpha =0.00001: '\u001b[0m\u001b[0;34m,\u001b[0m \u001b[0mtest_score000001\u001b[0m\u001b[0;34m)\u001b[0m\u001b[0;34m\u001b[0m\u001b[0m\n\u001b[1;32m      3\u001b[0m \u001b[0mprint\u001b[0m\u001b[0;34m(\u001b[0m\u001b[0;34m'number of features used: for alpha =0.00001:'\u001b[0m\u001b[0;34m,\u001b[0m \u001b[0mcoeff_used000001\u001b[0m\u001b[0;34m)\u001b[0m\u001b[0;34m\u001b[0m\u001b[0m\n",
      "\u001b[0;31mNameError\u001b[0m: name 'train_score000001' is not defined"
     ]
    }
   ],
   "source": [
    "print('training score for alpha=0.00001:', train_score000001) \n",
    "print('test score for alpha =0.00001: ', test_score000001)\n",
    "print('number of features used: for alpha =0.00001:', coeff_used000001)"
   ]
  },
  {
   "cell_type": "code",
   "execution_count": 134,
   "metadata": {},
   "outputs": [
    {
     "data": {
      "text/plain": [
       "Lasso(alpha=500, copy_X=True, fit_intercept=True, max_iter=1000000.0,\n",
       "   normalize=False, positive=False, precompute=False, random_state=None,\n",
       "   selection='cyclic', tol=0.0001, warm_start=False)"
      ]
     },
     "execution_count": 134,
     "metadata": {},
     "output_type": "execute_result"
    }
   ],
   "source": [
    "#change alpha to 500, try a different direction\n",
    "lasso500 = Lasso(alpha=500, max_iter=10e5)\n",
    "lasso500.fit(X_train_lasso,y_train_lasso)"
   ]
  },
  {
   "cell_type": "code",
   "execution_count": 135,
   "metadata": {},
   "outputs": [],
   "source": [
    "train_score500=lasso500.score(X_train_lasso,y_train_lasso)\n",
    "test_score500=lasso500.score(X_test_lasso,y_test_lasso)\n",
    "coeff_used500 = np.sum(lasso500.coef_!=0)"
   ]
  },
  {
   "cell_type": "code",
   "execution_count": 136,
   "metadata": {},
   "outputs": [
    {
     "name": "stdout",
     "output_type": "stream",
     "text": [
      "training score for alpha=2: 0.0\n",
      "test score for alpha =2:  -0.0001803857670559239\n",
      "number of features used: for alpha =2: 0\n"
     ]
    }
   ],
   "source": [
    "print('training score for alpha=2:', train_score500) \n",
    "print('test score for alpha =2: ', test_score500)\n",
    "print('number of features used: for alpha =2:', coeff_used500)"
   ]
  },
  {
   "cell_type": "code",
   "execution_count": 53,
   "metadata": {},
   "outputs": [
    {
     "data": {
      "text/plain": [
       "[257692.09799599473,\n",
       " 83.33668587610629,\n",
       " 0.00044432619638044374,\n",
       " 4.920534005219606,\n",
       " 9.45664412148977,\n",
       " 12.585114956254163,\n",
       " -6.6234073334721915,\n",
       " 7.913425961272134,\n",
       " 14.454468160901644,\n",
       " -25.352693943733907,\n",
       " -6.847852313140583e-05,\n",
       " 6.484455971118854,\n",
       " -4.295816122030515,\n",
       " -1.473351976491266,\n",
       " -19.694507467777292,\n",
       " 208.7268284201262,\n",
       " 1.3957132801476824]"
      ]
     },
     "execution_count": 53,
     "metadata": {},
     "output_type": "execute_result"
    }
   ],
   "source": [
    "lasso_regression(imputed_numeric_df, X_train_lasso, alpha_lasso[i], models_to_plot)"
   ]
  },
  {
   "cell_type": "markdown",
   "metadata": {},
   "source": [
    "## Model 5 - Using Elastic Net with sklearn"
   ]
  },
  {
   "cell_type": "code",
   "execution_count": 55,
   "metadata": {},
   "outputs": [],
   "source": [
    "from sklearn.linear_model import ElasticNet"
   ]
  },
  {
   "cell_type": "code",
   "execution_count": 56,
   "metadata": {},
   "outputs": [],
   "source": [
    "#target and features to use in prediction\n",
    "y = large['ALL_RATE_1516']\n",
    "X = imputed_numeric_df.drop(['ALL_RATE_1516'], axis=1)"
   ]
  },
  {
   "cell_type": "code",
   "execution_count": 57,
   "metadata": {},
   "outputs": [],
   "source": [
    "X_train_elnet, X_test_elnet, y_train_elnet, y_test_elnet = train_test_split(X, y, test_size=0.3, random_state=102)"
   ]
  },
  {
   "cell_type": "code",
   "execution_count": 70,
   "metadata": {},
   "outputs": [],
   "source": [
    "regr = ElasticNet(random_state=2)"
   ]
  },
  {
   "cell_type": "code",
   "execution_count": 71,
   "metadata": {},
   "outputs": [
    {
     "data": {
      "text/plain": [
       "ElasticNet(alpha=1.0, copy_X=True, fit_intercept=True, l1_ratio=0.5,\n",
       "      max_iter=1000, normalize=False, positive=False, precompute=False,\n",
       "      random_state=2, selection='cyclic', tol=0.0001, warm_start=False)"
      ]
     },
     "execution_count": 71,
     "metadata": {},
     "output_type": "execute_result"
    }
   ],
   "source": [
    "regr.fit(X_train_elnet, y_train_elnet)"
   ]
  },
  {
   "cell_type": "code",
   "execution_count": 72,
   "metadata": {},
   "outputs": [
    {
     "name": "stdout",
     "output_type": "stream",
     "text": [
      "[ 5.75735744e-04  0.00000000e+00  0.00000000e+00  0.00000000e+00\n",
      " -0.00000000e+00  0.00000000e+00  0.00000000e+00 -4.36838298e-01\n",
      " -5.87480674e-05  0.00000000e+00 -6.85483060e-01 -0.00000000e+00\n",
      " -0.00000000e+00  0.00000000e+00 -0.00000000e+00]\n"
     ]
    }
   ],
   "source": [
    "print(regr.coef_)"
   ]
  },
  {
   "cell_type": "code",
   "execution_count": 73,
   "metadata": {},
   "outputs": [
    {
     "name": "stdout",
     "output_type": "stream",
     "text": [
      "87.50288924828584\n"
     ]
    }
   ],
   "source": [
    "print(regr.intercept_) # doctest: +ELLIPSIS"
   ]
  },
  {
   "cell_type": "code",
   "execution_count": 74,
   "metadata": {},
   "outputs": [],
   "source": [
    "predictions_elnet = regr.predict(X_test_elnet)"
   ]
  },
  {
   "cell_type": "code",
   "execution_count": 69,
   "metadata": {},
   "outputs": [
    {
     "name": "stdout",
     "output_type": "stream",
     "text": [
      "MAE:  7.008318505866813\n",
      "MSE:  115.65862965358102\n",
      "RMSE:  10.754470217243666\n",
      "R-squared:  0.020338287980159908\n"
     ]
    }
   ],
   "source": [
    "print('MAE: ', metrics.mean_absolute_error(y_test_elnet, predictions_elnet))\n",
    "print('MSE: ', metrics.mean_squared_error(y_test_elnet, predictions_elnet))\n",
    "print('RMSE: ', np.sqrt(metrics.mean_squared_error(y_test_elnet, predictions_elnet)))\n",
    "print('R-squared: ', metrics.r2_score(y_test_elnet, predictions_elnet))"
   ]
  },
  {
   "cell_type": "code",
   "execution_count": 54,
   "metadata": {},
   "outputs": [],
   "source": [
    "import statsmodels.api as sm\n",
    "\n",
    "#Regression Model\n",
    "X_train_elnet = sm.add_constant(X_train_elnet)# adding a constant\n",
    "model=sm.OLS(y_train_elnet, X_train_elnet).fit_regularized(method='elastic_net', alpha=0.0, L1_wt=.50)\n",
    "model.summary()"
   ]
  },
  {
   "cell_type": "code",
   "execution_count": null,
   "metadata": {},
   "outputs": [],
   "source": []
  },
  {
   "cell_type": "code",
   "execution_count": null,
   "metadata": {},
   "outputs": [],
   "source": []
  }
 ],
 "metadata": {
  "kernelspec": {
   "display_name": "Python 3",
   "language": "python",
   "name": "python3"
  },
  "language_info": {
   "codemirror_mode": {
    "name": "ipython",
    "version": 3
   },
   "file_extension": ".py",
   "mimetype": "text/x-python",
   "name": "python",
   "nbconvert_exporter": "python",
   "pygments_lexer": "ipython3",
   "version": "3.6.6"
  }
 },
 "nbformat": 4,
 "nbformat_minor": 2
}
