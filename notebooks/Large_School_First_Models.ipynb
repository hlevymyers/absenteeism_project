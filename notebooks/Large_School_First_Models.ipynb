{
 "cells": [
  {
   "cell_type": "code",
   "execution_count": 132,
   "metadata": {},
   "outputs": [],
   "source": [
    "import numpy as np\n",
    "import pandas as pd\n",
    "import matplotlib.pyplot as plt\n",
    "import seaborn as sns\n",
    "%matplotlib inline\n",
    "from sklearn.model_selection import train_test_split\n",
    "from sklearn.linear_model import LinearRegression\n",
    "from sklearn import metrics"
   ]
  },
  {
   "cell_type": "code",
   "execution_count": 2,
   "metadata": {},
   "outputs": [],
   "source": [
    "large = pd.read_csv('/Users/flatironschool/Absenteeism_Project/data/processed/large_schools.csv')"
   ]
  },
  {
   "cell_type": "code",
   "execution_count": 3,
   "metadata": {},
   "outputs": [
    {
     "data": {
      "text/html": [
       "<div>\n",
       "<style scoped>\n",
       "    .dataframe tbody tr th:only-of-type {\n",
       "        vertical-align: middle;\n",
       "    }\n",
       "\n",
       "    .dataframe tbody tr th {\n",
       "        vertical-align: top;\n",
       "    }\n",
       "\n",
       "    .dataframe thead th {\n",
       "        text-align: right;\n",
       "    }\n",
       "</style>\n",
       "<table border=\"1\" class=\"dataframe\">\n",
       "  <thead>\n",
       "    <tr style=\"text-align: right;\">\n",
       "      <th></th>\n",
       "      <th>Unnamed: 0</th>\n",
       "      <th>Unnamed: 0.1</th>\n",
       "      <th>Unnamed: 0.1.1</th>\n",
       "      <th>STNAM</th>\n",
       "      <th>LEANM</th>\n",
       "      <th>NCESSCH</th>\n",
       "      <th>SCHNAM</th>\n",
       "      <th>ALL_COHORT_1516</th>\n",
       "      <th>ALL_RATE_1516</th>\n",
       "      <th>LEA_STATE</th>\n",
       "      <th>...</th>\n",
       "      <th>sports_part</th>\n",
       "      <th>sports_rate</th>\n",
       "      <th>total_suspension_days</th>\n",
       "      <th>suspensed_day_rate</th>\n",
       "      <th>harassed</th>\n",
       "      <th>harassed_rate</th>\n",
       "      <th>activities_funds_rate</th>\n",
       "      <th>non_cert_rate</th>\n",
       "      <th>counselor_rate</th>\n",
       "      <th>absent_teacher_rate</th>\n",
       "    </tr>\n",
       "  </thead>\n",
       "  <tbody>\n",
       "    <tr>\n",
       "      <th>0</th>\n",
       "      <td>5</td>\n",
       "      <td>5</td>\n",
       "      <td>5</td>\n",
       "      <td>ALABAMA</td>\n",
       "      <td>Hoover City</td>\n",
       "      <td>10000700251</td>\n",
       "      <td>Hoover High Sch</td>\n",
       "      <td>714</td>\n",
       "      <td>92</td>\n",
       "      <td>AL</td>\n",
       "      <td>...</td>\n",
       "      <td>898.0</td>\n",
       "      <td>0.302663</td>\n",
       "      <td>160.0</td>\n",
       "      <td>0.053927</td>\n",
       "      <td>1.0</td>\n",
       "      <td>0.000337</td>\n",
       "      <td>434.833734</td>\n",
       "      <td>0.019066</td>\n",
       "      <td>0.001685</td>\n",
       "      <td>0.333651</td>\n",
       "    </tr>\n",
       "    <tr>\n",
       "      <th>1</th>\n",
       "      <td>7</td>\n",
       "      <td>7</td>\n",
       "      <td>7</td>\n",
       "      <td>ALABAMA</td>\n",
       "      <td>Hoover City</td>\n",
       "      <td>10000701456</td>\n",
       "      <td>Spain Park High Sch</td>\n",
       "      <td>412</td>\n",
       "      <td>94</td>\n",
       "      <td>AL</td>\n",
       "      <td>...</td>\n",
       "      <td>526.0</td>\n",
       "      <td>0.313655</td>\n",
       "      <td>232.0</td>\n",
       "      <td>0.138342</td>\n",
       "      <td>0.0</td>\n",
       "      <td>0.000000</td>\n",
       "      <td>511.925343</td>\n",
       "      <td>0.016920</td>\n",
       "      <td>0.001789</td>\n",
       "      <td>0.346870</td>\n",
       "    </tr>\n",
       "    <tr>\n",
       "      <th>2</th>\n",
       "      <td>8</td>\n",
       "      <td>8</td>\n",
       "      <td>8</td>\n",
       "      <td>ALABAMA</td>\n",
       "      <td>Madison City</td>\n",
       "      <td>10000800831</td>\n",
       "      <td>Bob Jones High Sch</td>\n",
       "      <td>451</td>\n",
       "      <td>97</td>\n",
       "      <td>AL</td>\n",
       "      <td>...</td>\n",
       "      <td>565.0</td>\n",
       "      <td>0.321754</td>\n",
       "      <td>72.0</td>\n",
       "      <td>0.041002</td>\n",
       "      <td>2.0</td>\n",
       "      <td>0.001139</td>\n",
       "      <td>72676.817158</td>\n",
       "      <td>0.000000</td>\n",
       "      <td>0.002278</td>\n",
       "      <td>0.019608</td>\n",
       "    </tr>\n",
       "    <tr>\n",
       "      <th>3</th>\n",
       "      <td>9</td>\n",
       "      <td>9</td>\n",
       "      <td>9</td>\n",
       "      <td>ALABAMA</td>\n",
       "      <td>Madison City</td>\n",
       "      <td>10000802198</td>\n",
       "      <td>James Clemens High School</td>\n",
       "      <td>404</td>\n",
       "      <td>96</td>\n",
       "      <td>AL</td>\n",
       "      <td>...</td>\n",
       "      <td>280.0</td>\n",
       "      <td>0.163934</td>\n",
       "      <td>134.0</td>\n",
       "      <td>0.078454</td>\n",
       "      <td>0.0</td>\n",
       "      <td>0.000000</td>\n",
       "      <td>3478.029292</td>\n",
       "      <td>0.000000</td>\n",
       "      <td>0.002635</td>\n",
       "      <td>0.232804</td>\n",
       "    </tr>\n",
       "    <tr>\n",
       "      <th>4</th>\n",
       "      <td>12</td>\n",
       "      <td>12</td>\n",
       "      <td>12</td>\n",
       "      <td>ALABAMA</td>\n",
       "      <td>Trussville City</td>\n",
       "      <td>10001301682</td>\n",
       "      <td>Hewitt-Trussville High Sch</td>\n",
       "      <td>381</td>\n",
       "      <td>96</td>\n",
       "      <td>AL</td>\n",
       "      <td>...</td>\n",
       "      <td>799.0</td>\n",
       "      <td>0.554476</td>\n",
       "      <td>28.0</td>\n",
       "      <td>0.019431</td>\n",
       "      <td>2.0</td>\n",
       "      <td>0.001388</td>\n",
       "      <td>3970.929743</td>\n",
       "      <td>0.000000</td>\n",
       "      <td>0.002082</td>\n",
       "      <td>0.231027</td>\n",
       "    </tr>\n",
       "  </tbody>\n",
       "</table>\n",
       "<p>5 rows × 102 columns</p>\n",
       "</div>"
      ],
      "text/plain": [
       "   Unnamed: 0  Unnamed: 0.1  Unnamed: 0.1.1    STNAM            LEANM  \\\n",
       "0           5             5               5  ALABAMA      Hoover City   \n",
       "1           7             7               7  ALABAMA      Hoover City   \n",
       "2           8             8               8  ALABAMA     Madison City   \n",
       "3           9             9               9  ALABAMA     Madison City   \n",
       "4          12            12              12  ALABAMA  Trussville City   \n",
       "\n",
       "       NCESSCH                      SCHNAM  ALL_COHORT_1516  ALL_RATE_1516  \\\n",
       "0  10000700251             Hoover High Sch              714             92   \n",
       "1  10000701456         Spain Park High Sch              412             94   \n",
       "2  10000800831          Bob Jones High Sch              451             97   \n",
       "3  10000802198   James Clemens High School              404             96   \n",
       "4  10001301682  Hewitt-Trussville High Sch              381             96   \n",
       "\n",
       "  LEA_STATE         ...         sports_part  sports_rate  \\\n",
       "0        AL         ...               898.0     0.302663   \n",
       "1        AL         ...               526.0     0.313655   \n",
       "2        AL         ...               565.0     0.321754   \n",
       "3        AL         ...               280.0     0.163934   \n",
       "4        AL         ...               799.0     0.554476   \n",
       "\n",
       "  total_suspension_days  suspensed_day_rate harassed  harassed_rate  \\\n",
       "0                 160.0            0.053927      1.0       0.000337   \n",
       "1                 232.0            0.138342      0.0       0.000000   \n",
       "2                  72.0            0.041002      2.0       0.001139   \n",
       "3                 134.0            0.078454      0.0       0.000000   \n",
       "4                  28.0            0.019431      2.0       0.001388   \n",
       "\n",
       "  activities_funds_rate non_cert_rate counselor_rate absent_teacher_rate  \n",
       "0            434.833734      0.019066       0.001685            0.333651  \n",
       "1            511.925343      0.016920       0.001789            0.346870  \n",
       "2          72676.817158      0.000000       0.002278            0.019608  \n",
       "3           3478.029292      0.000000       0.002635            0.232804  \n",
       "4           3970.929743      0.000000       0.002082            0.231027  \n",
       "\n",
       "[5 rows x 102 columns]"
      ]
     },
     "execution_count": 3,
     "metadata": {},
     "output_type": "execute_result"
    }
   ],
   "source": [
    "large.head()"
   ]
  },
  {
   "cell_type": "markdown",
   "metadata": {},
   "source": [
    "## Imputing Mean for Missing Values"
   ]
  },
  {
   "cell_type": "code",
   "execution_count": 107,
   "metadata": {},
   "outputs": [],
   "source": [
    "#impute mean for numerical vars\n",
    "large_feat = large[['ALL_RATE_1516', 'total_enrollment', 'ap_ib_de_rate', 'sat_act_rate', 'pass_algebra_rate',\n",
    "      'geometry_rate', 'algebra2_rate', 'calc_rate', 'chronic_absent_rate', 'activities_funds_rate',\n",
    "      'sports_rate', 'suspensed_day_rate', 'harassed_rate',\n",
    "      'non_cert_rate','counselor_rate','absent_teacher_rate']]"
   ]
  },
  {
   "cell_type": "code",
   "execution_count": 108,
   "metadata": {},
   "outputs": [
    {
     "name": "stdout",
     "output_type": "stream",
     "text": [
      "im here: ALL_RATE_1516\n",
      "im here: total_enrollment\n",
      "im here: ap_ib_de_rate\n",
      "im here: sat_act_rate\n",
      "im here: pass_algebra_rate\n",
      "im here: geometry_rate\n",
      "im here: algebra2_rate\n",
      "im here: calc_rate\n",
      "im here: chronic_absent_rate\n",
      "im here: activities_funds_rate\n",
      "im here: sports_rate\n",
      "im here: suspensed_day_rate\n",
      "im here: harassed_rate\n",
      "im here: non_cert_rate\n",
      "im here: counselor_rate\n",
      "im here: absent_teacher_rate\n"
     ]
    }
   ],
   "source": [
    "imputed_numeric_df = large_feat\n",
    "for i in range(0, len(large_feat.columns)):\n",
    "    print('im here:', large_feat.columns[i])\n",
    "    imputed_numeric_df.iloc[:,i].replace(np.NaN, imputed_numeric_df.iloc[:,i].mean(), inplace=True)"
   ]
  },
  {
   "cell_type": "code",
   "execution_count": 109,
   "metadata": {},
   "outputs": [
    {
     "data": {
      "text/plain": [
       "ALL_RATE_1516            0\n",
       "total_enrollment         0\n",
       "ap_ib_de_rate            0\n",
       "sat_act_rate             0\n",
       "pass_algebra_rate        0\n",
       "geometry_rate            0\n",
       "algebra2_rate            0\n",
       "calc_rate                0\n",
       "chronic_absent_rate      0\n",
       "activities_funds_rate    0\n",
       "sports_rate              0\n",
       "suspensed_day_rate       0\n",
       "harassed_rate            0\n",
       "non_cert_rate            0\n",
       "counselor_rate           0\n",
       "absent_teacher_rate      0\n",
       "dtype: int64"
      ]
     },
     "execution_count": 109,
     "metadata": {},
     "output_type": "execute_result"
    }
   ],
   "source": [
    "#No missing values\n",
    "imputed_numeric_df.isna().sum()"
   ]
  },
  {
   "cell_type": "code",
   "execution_count": 145,
   "metadata": {},
   "outputs": [
    {
     "data": {
      "text/html": [
       "<div>\n",
       "<style scoped>\n",
       "    .dataframe tbody tr th:only-of-type {\n",
       "        vertical-align: middle;\n",
       "    }\n",
       "\n",
       "    .dataframe tbody tr th {\n",
       "        vertical-align: top;\n",
       "    }\n",
       "\n",
       "    .dataframe thead th {\n",
       "        text-align: right;\n",
       "    }\n",
       "</style>\n",
       "<table border=\"1\" class=\"dataframe\">\n",
       "  <thead>\n",
       "    <tr style=\"text-align: right;\">\n",
       "      <th></th>\n",
       "      <th>ALL_RATE_1516</th>\n",
       "      <th>total_enrollment</th>\n",
       "      <th>ap_ib_de_rate</th>\n",
       "      <th>sat_act_rate</th>\n",
       "      <th>pass_algebra_rate</th>\n",
       "      <th>geometry_rate</th>\n",
       "      <th>algebra2_rate</th>\n",
       "      <th>calc_rate</th>\n",
       "      <th>chronic_absent_rate</th>\n",
       "      <th>activities_funds_rate</th>\n",
       "      <th>sports_rate</th>\n",
       "      <th>suspensed_day_rate</th>\n",
       "      <th>harassed_rate</th>\n",
       "      <th>non_cert_rate</th>\n",
       "      <th>counselor_rate</th>\n",
       "      <th>absent_teacher_rate</th>\n",
       "    </tr>\n",
       "  </thead>\n",
       "  <tbody>\n",
       "    <tr>\n",
       "      <th>0</th>\n",
       "      <td>92</td>\n",
       "      <td>2967.0</td>\n",
       "      <td>0.228851</td>\n",
       "      <td>0.416245</td>\n",
       "      <td>0.1866</td>\n",
       "      <td>0.242332</td>\n",
       "      <td>0.056623</td>\n",
       "      <td>0.065723</td>\n",
       "      <td>0.144253</td>\n",
       "      <td>434.833734</td>\n",
       "      <td>0.302663</td>\n",
       "      <td>0.053927</td>\n",
       "      <td>0.000337</td>\n",
       "      <td>0.019066</td>\n",
       "      <td>0.001685</td>\n",
       "      <td>0.333651</td>\n",
       "    </tr>\n",
       "    <tr>\n",
       "      <th>1</th>\n",
       "      <td>94</td>\n",
       "      <td>1677.0</td>\n",
       "      <td>0.409884</td>\n",
       "      <td>0.288014</td>\n",
       "      <td>0.1866</td>\n",
       "      <td>0.269529</td>\n",
       "      <td>0.045915</td>\n",
       "      <td>0.064997</td>\n",
       "      <td>0.171139</td>\n",
       "      <td>511.925343</td>\n",
       "      <td>0.313655</td>\n",
       "      <td>0.138342</td>\n",
       "      <td>0.000000</td>\n",
       "      <td>0.016920</td>\n",
       "      <td>0.001789</td>\n",
       "      <td>0.346870</td>\n",
       "    </tr>\n",
       "    <tr>\n",
       "      <th>2</th>\n",
       "      <td>97</td>\n",
       "      <td>1756.0</td>\n",
       "      <td>0.409884</td>\n",
       "      <td>0.396925</td>\n",
       "      <td>0.1866</td>\n",
       "      <td>0.126424</td>\n",
       "      <td>0.034169</td>\n",
       "      <td>0.068337</td>\n",
       "      <td>0.009112</td>\n",
       "      <td>72676.817158</td>\n",
       "      <td>0.321754</td>\n",
       "      <td>0.041002</td>\n",
       "      <td>0.001139</td>\n",
       "      <td>0.000000</td>\n",
       "      <td>0.002278</td>\n",
       "      <td>0.019608</td>\n",
       "    </tr>\n",
       "    <tr>\n",
       "      <th>3</th>\n",
       "      <td>96</td>\n",
       "      <td>1708.0</td>\n",
       "      <td>0.409884</td>\n",
       "      <td>0.340749</td>\n",
       "      <td>0.1866</td>\n",
       "      <td>0.108314</td>\n",
       "      <td>0.014637</td>\n",
       "      <td>0.045667</td>\n",
       "      <td>0.103630</td>\n",
       "      <td>3478.029292</td>\n",
       "      <td>0.163934</td>\n",
       "      <td>0.078454</td>\n",
       "      <td>0.000000</td>\n",
       "      <td>0.000000</td>\n",
       "      <td>0.002635</td>\n",
       "      <td>0.232804</td>\n",
       "    </tr>\n",
       "    <tr>\n",
       "      <th>4</th>\n",
       "      <td>96</td>\n",
       "      <td>1441.0</td>\n",
       "      <td>0.409884</td>\n",
       "      <td>0.084663</td>\n",
       "      <td>0.1866</td>\n",
       "      <td>0.203331</td>\n",
       "      <td>0.160305</td>\n",
       "      <td>0.045802</td>\n",
       "      <td>0.104788</td>\n",
       "      <td>3970.929743</td>\n",
       "      <td>0.554476</td>\n",
       "      <td>0.019431</td>\n",
       "      <td>0.001388</td>\n",
       "      <td>0.000000</td>\n",
       "      <td>0.002082</td>\n",
       "      <td>0.231027</td>\n",
       "    </tr>\n",
       "  </tbody>\n",
       "</table>\n",
       "</div>"
      ],
      "text/plain": [
       "   ALL_RATE_1516  total_enrollment  ap_ib_de_rate  sat_act_rate  \\\n",
       "0             92            2967.0       0.228851      0.416245   \n",
       "1             94            1677.0       0.409884      0.288014   \n",
       "2             97            1756.0       0.409884      0.396925   \n",
       "3             96            1708.0       0.409884      0.340749   \n",
       "4             96            1441.0       0.409884      0.084663   \n",
       "\n",
       "   pass_algebra_rate  geometry_rate  algebra2_rate  calc_rate  \\\n",
       "0             0.1866       0.242332       0.056623   0.065723   \n",
       "1             0.1866       0.269529       0.045915   0.064997   \n",
       "2             0.1866       0.126424       0.034169   0.068337   \n",
       "3             0.1866       0.108314       0.014637   0.045667   \n",
       "4             0.1866       0.203331       0.160305   0.045802   \n",
       "\n",
       "   chronic_absent_rate  activities_funds_rate  sports_rate  \\\n",
       "0             0.144253             434.833734     0.302663   \n",
       "1             0.171139             511.925343     0.313655   \n",
       "2             0.009112           72676.817158     0.321754   \n",
       "3             0.103630            3478.029292     0.163934   \n",
       "4             0.104788            3970.929743     0.554476   \n",
       "\n",
       "   suspensed_day_rate  harassed_rate  non_cert_rate  counselor_rate  \\\n",
       "0            0.053927       0.000337       0.019066        0.001685   \n",
       "1            0.138342       0.000000       0.016920        0.001789   \n",
       "2            0.041002       0.001139       0.000000        0.002278   \n",
       "3            0.078454       0.000000       0.000000        0.002635   \n",
       "4            0.019431       0.001388       0.000000        0.002082   \n",
       "\n",
       "   absent_teacher_rate  \n",
       "0             0.333651  \n",
       "1             0.346870  \n",
       "2             0.019608  \n",
       "3             0.232804  \n",
       "4             0.231027  "
      ]
     },
     "execution_count": 145,
     "metadata": {},
     "output_type": "execute_result"
    }
   ],
   "source": [
    "imputed_numeric_df.head()"
   ]
  },
  {
   "cell_type": "markdown",
   "metadata": {},
   "source": [
    "## Model 1 - Using statsmodel"
   ]
  },
  {
   "cell_type": "code",
   "execution_count": 110,
   "metadata": {},
   "outputs": [],
   "source": [
    "y = large['ALL_RATE_1516']"
   ]
  },
  {
   "cell_type": "code",
   "execution_count": 111,
   "metadata": {},
   "outputs": [],
   "source": [
    "#features to use for prediction came from \n",
    "X = imputed_numeric_df"
   ]
  },
  {
   "cell_type": "code",
   "execution_count": 112,
   "metadata": {},
   "outputs": [
    {
     "data": {
      "text/html": [
       "<table class=\"simpletable\">\n",
       "<caption>OLS Regression Results</caption>\n",
       "<tr>\n",
       "  <th>Dep. Variable:</th>      <td>ALL_RATE_1516</td>  <th>  R-squared:         </th>  <td>   1.000</td> \n",
       "</tr>\n",
       "<tr>\n",
       "  <th>Model:</th>                   <td>OLS</td>       <th>  Adj. R-squared:    </th>  <td>   1.000</td> \n",
       "</tr>\n",
       "<tr>\n",
       "  <th>Method:</th>             <td>Least Squares</td>  <th>  F-statistic:       </th>  <td>1.636e+28</td>\n",
       "</tr>\n",
       "<tr>\n",
       "  <th>Date:</th>             <td>Fri, 19 Jul 2019</td> <th>  Prob (F-statistic):</th>   <td>  0.00</td>  \n",
       "</tr>\n",
       "<tr>\n",
       "  <th>Time:</th>                 <td>16:04:35</td>     <th>  Log-Likelihood:    </th> <td>1.1088e+05</td>\n",
       "</tr>\n",
       "<tr>\n",
       "  <th>No. Observations:</th>      <td>  4285</td>      <th>  AIC:               </th> <td>-2.217e+05</td>\n",
       "</tr>\n",
       "<tr>\n",
       "  <th>Df Residuals:</th>          <td>  4268</td>      <th>  BIC:               </th> <td>-2.216e+05</td>\n",
       "</tr>\n",
       "<tr>\n",
       "  <th>Df Model:</th>              <td>    16</td>      <th>                     </th>      <td> </td>    \n",
       "</tr>\n",
       "<tr>\n",
       "  <th>Covariance Type:</th>      <td>nonrobust</td>    <th>                     </th>      <td> </td>    \n",
       "</tr>\n",
       "</table>\n",
       "<table class=\"simpletable\">\n",
       "<tr>\n",
       "            <td></td>               <th>coef</th>     <th>std err</th>      <th>t</th>      <th>P>|t|</th>  <th>[0.025</th>    <th>0.975]</th>  \n",
       "</tr>\n",
       "<tr>\n",
       "  <th>const</th>                 <td>  -4.6e-12</td> <td> 2.89e-13</td> <td>  -15.939</td> <td> 0.000</td> <td>-5.17e-12</td> <td>-4.03e-12</td>\n",
       "</tr>\n",
       "<tr>\n",
       "  <th>ALL_RATE_1516</th>         <td>    1.0000</td> <td> 2.29e-15</td> <td> 4.37e+14</td> <td> 0.000</td> <td>    1.000</td> <td>    1.000</td>\n",
       "</tr>\n",
       "<tr>\n",
       "  <th>total_enrollment</th>      <td> 1.287e-16</td> <td> 3.19e-17</td> <td>    4.034</td> <td> 0.000</td> <td> 6.62e-17</td> <td> 1.91e-16</td>\n",
       "</tr>\n",
       "<tr>\n",
       "  <th>ap_ib_de_rate</th>         <td> 3.064e-14</td> <td> 3.38e-13</td> <td>    0.091</td> <td> 0.928</td> <td>-6.33e-13</td> <td> 6.94e-13</td>\n",
       "</tr>\n",
       "<tr>\n",
       "  <th>sat_act_rate</th>          <td> 2.389e-13</td> <td> 1.76e-13</td> <td>    1.356</td> <td> 0.175</td> <td>-1.07e-13</td> <td> 5.84e-13</td>\n",
       "</tr>\n",
       "<tr>\n",
       "  <th>pass_algebra_rate</th>     <td> 2.283e-13</td> <td> 4.73e-13</td> <td>    0.482</td> <td> 0.630</td> <td>-6.99e-13</td> <td> 1.16e-12</td>\n",
       "</tr>\n",
       "<tr>\n",
       "  <th>geometry_rate</th>         <td>-5.906e-13</td> <td> 3.31e-13</td> <td>   -1.785</td> <td> 0.074</td> <td>-1.24e-12</td> <td> 5.81e-14</td>\n",
       "</tr>\n",
       "<tr>\n",
       "  <th>algebra2_rate</th>         <td>  9.77e-15</td> <td>  3.2e-13</td> <td>    0.031</td> <td> 0.976</td> <td>-6.18e-13</td> <td> 6.37e-13</td>\n",
       "</tr>\n",
       "<tr>\n",
       "  <th>calc_rate</th>             <td>-1.865e-14</td> <td> 4.84e-13</td> <td>   -0.039</td> <td> 0.969</td> <td>-9.68e-13</td> <td> 9.31e-13</td>\n",
       "</tr>\n",
       "<tr>\n",
       "  <th>chronic_absent_rate</th>   <td>-1.765e-14</td> <td> 1.59e-13</td> <td>   -0.111</td> <td> 0.912</td> <td>-3.29e-13</td> <td> 2.94e-13</td>\n",
       "</tr>\n",
       "<tr>\n",
       "  <th>activities_funds_rate</th> <td>-1.792e-16</td> <td> 3.37e-18</td> <td>  -53.182</td> <td> 0.000</td> <td>-1.86e-16</td> <td>-1.73e-16</td>\n",
       "</tr>\n",
       "<tr>\n",
       "  <th>sports_rate</th>           <td>-7.105e-15</td> <td> 1.34e-13</td> <td>   -0.053</td> <td> 0.958</td> <td> -2.7e-13</td> <td> 2.56e-13</td>\n",
       "</tr>\n",
       "<tr>\n",
       "  <th>suspensed_day_rate</th>    <td> -1.51e-14</td> <td> 7.21e-14</td> <td>   -0.209</td> <td> 0.834</td> <td>-1.56e-13</td> <td> 1.26e-13</td>\n",
       "</tr>\n",
       "<tr>\n",
       "  <th>harassed_rate</th>         <td> 4.405e-13</td> <td> 4.07e-12</td> <td>    0.108</td> <td> 0.914</td> <td>-7.53e-12</td> <td> 8.41e-12</td>\n",
       "</tr>\n",
       "<tr>\n",
       "  <th>non_cert_rate</th>         <td>-2.753e-14</td> <td> 3.23e-13</td> <td>   -0.085</td> <td> 0.932</td> <td>-6.61e-13</td> <td> 6.06e-13</td>\n",
       "</tr>\n",
       "<tr>\n",
       "  <th>counselor_rate</th>        <td>-2.842e-13</td> <td> 1.14e-11</td> <td>   -0.025</td> <td> 0.980</td> <td>-2.27e-11</td> <td> 2.21e-11</td>\n",
       "</tr>\n",
       "<tr>\n",
       "  <th>absent_teacher_rate</th>   <td> 2.487e-14</td> <td> 1.24e-13</td> <td>    0.200</td> <td> 0.841</td> <td>-2.18e-13</td> <td> 2.68e-13</td>\n",
       "</tr>\n",
       "</table>\n",
       "<table class=\"simpletable\">\n",
       "<tr>\n",
       "  <th>Omnibus:</th>       <td>11612.205</td> <th>  Durbin-Watson:     </th>   <td>   1.493</td>   \n",
       "</tr>\n",
       "<tr>\n",
       "  <th>Prob(Omnibus):</th>  <td> 0.000</td>   <th>  Jarque-Bera (JB):  </th> <td>477656112.112</td>\n",
       "</tr>\n",
       "<tr>\n",
       "  <th>Skew:</th>           <td>32.728</td>   <th>  Prob(JB):          </th>   <td>    0.00</td>   \n",
       "</tr>\n",
       "<tr>\n",
       "  <th>Kurtosis:</th>      <td>1637.330</td>  <th>  Cond. No.          </th>   <td>3.54e+06</td>   \n",
       "</tr>\n",
       "</table><br/><br/>Warnings:<br/>[1] Standard Errors assume that the covariance matrix of the errors is correctly specified.<br/>[2] The condition number is large, 3.54e+06. This might indicate that there are<br/>strong multicollinearity or other numerical problems."
      ],
      "text/plain": [
       "<class 'statsmodels.iolib.summary.Summary'>\n",
       "\"\"\"\n",
       "                            OLS Regression Results                            \n",
       "==============================================================================\n",
       "Dep. Variable:          ALL_RATE_1516   R-squared:                       1.000\n",
       "Model:                            OLS   Adj. R-squared:                  1.000\n",
       "Method:                 Least Squares   F-statistic:                 1.636e+28\n",
       "Date:                Fri, 19 Jul 2019   Prob (F-statistic):               0.00\n",
       "Time:                        16:04:35   Log-Likelihood:             1.1088e+05\n",
       "No. Observations:                4285   AIC:                        -2.217e+05\n",
       "Df Residuals:                    4268   BIC:                        -2.216e+05\n",
       "Df Model:                          16                                         \n",
       "Covariance Type:            nonrobust                                         \n",
       "=========================================================================================\n",
       "                            coef    std err          t      P>|t|      [0.025      0.975]\n",
       "-----------------------------------------------------------------------------------------\n",
       "const                   -4.6e-12   2.89e-13    -15.939      0.000   -5.17e-12   -4.03e-12\n",
       "ALL_RATE_1516             1.0000   2.29e-15   4.37e+14      0.000       1.000       1.000\n",
       "total_enrollment       1.287e-16   3.19e-17      4.034      0.000    6.62e-17    1.91e-16\n",
       "ap_ib_de_rate          3.064e-14   3.38e-13      0.091      0.928   -6.33e-13    6.94e-13\n",
       "sat_act_rate           2.389e-13   1.76e-13      1.356      0.175   -1.07e-13    5.84e-13\n",
       "pass_algebra_rate      2.283e-13   4.73e-13      0.482      0.630   -6.99e-13    1.16e-12\n",
       "geometry_rate         -5.906e-13   3.31e-13     -1.785      0.074   -1.24e-12    5.81e-14\n",
       "algebra2_rate           9.77e-15    3.2e-13      0.031      0.976   -6.18e-13    6.37e-13\n",
       "calc_rate             -1.865e-14   4.84e-13     -0.039      0.969   -9.68e-13    9.31e-13\n",
       "chronic_absent_rate   -1.765e-14   1.59e-13     -0.111      0.912   -3.29e-13    2.94e-13\n",
       "activities_funds_rate -1.792e-16   3.37e-18    -53.182      0.000   -1.86e-16   -1.73e-16\n",
       "sports_rate           -7.105e-15   1.34e-13     -0.053      0.958    -2.7e-13    2.56e-13\n",
       "suspensed_day_rate     -1.51e-14   7.21e-14     -0.209      0.834   -1.56e-13    1.26e-13\n",
       "harassed_rate          4.405e-13   4.07e-12      0.108      0.914   -7.53e-12    8.41e-12\n",
       "non_cert_rate         -2.753e-14   3.23e-13     -0.085      0.932   -6.61e-13    6.06e-13\n",
       "counselor_rate        -2.842e-13   1.14e-11     -0.025      0.980   -2.27e-11    2.21e-11\n",
       "absent_teacher_rate    2.487e-14   1.24e-13      0.200      0.841   -2.18e-13    2.68e-13\n",
       "==============================================================================\n",
       "Omnibus:                    11612.205   Durbin-Watson:                   1.493\n",
       "Prob(Omnibus):                  0.000   Jarque-Bera (JB):        477656112.112\n",
       "Skew:                          32.728   Prob(JB):                         0.00\n",
       "Kurtosis:                    1637.330   Cond. No.                     3.54e+06\n",
       "==============================================================================\n",
       "\n",
       "Warnings:\n",
       "[1] Standard Errors assume that the covariance matrix of the errors is correctly specified.\n",
       "[2] The condition number is large, 3.54e+06. This might indicate that there are\n",
       "strong multicollinearity or other numerical problems.\n",
       "\"\"\""
      ]
     },
     "execution_count": 112,
     "metadata": {},
     "output_type": "execute_result"
    }
   ],
   "source": [
    "import statsmodels.api as sm\n",
    "\n",
    "#Regression Model\n",
    "X = sm.add_constant(X)# adding a constant\n",
    "model=sm.OLS(y, X).fit()\n",
    "model.summary()"
   ]
  },
  {
   "cell_type": "code",
   "execution_count": 115,
   "metadata": {},
   "outputs": [
    {
     "name": "stderr",
     "output_type": "stream",
     "text": [
      "/anaconda3/envs/absenteeism/lib/python3.6/site-packages/ipykernel_launcher.py:5: DataConversionWarning: Data with input dtype int64, float64 were all converted to float64 by the scale function.\n",
      "  \"\"\"\n"
     ]
    },
    {
     "data": {
      "text/plain": [
       "array([[-0.03903799, -1.58891607, -0.6670932 , ..., -1.23167973,\n",
       "         0.99505364,  0.83678548],\n",
       "       [-0.02438154, -0.85155998, -0.00907328, ..., -0.38135053,\n",
       "         0.99525648, -0.44185932],\n",
       "       [-1.56638967, -1.9211816 ,  2.66888978, ..., -0.60145007,\n",
       "         2.19555251, -1.97325135],\n",
       "       ...,\n",
       "       [ 1.7590179 , -0.13590437, -0.25277698, ...,  0.44250431,\n",
       "         0.0829477 , -0.0550687 ],\n",
       "       [ 1.75537394,  0.03900465, -0.34180382, ..., -0.48154742,\n",
       "        -0.12888693,  1.0312433 ],\n",
       "       [ 0.76627668, -0.11448163,  1.14393986, ..., -0.19116985,\n",
       "        -0.70380415, -0.03946169]])"
      ]
     },
     "execution_count": 115,
     "metadata": {},
     "output_type": "execute_result"
    }
   ],
   "source": [
    "from sklearn.decomposition import PCA\n",
    "from sklearn import preprocessing\n",
    "\n",
    "#normalize the imputed data\n",
    "large_scaled = pd.DataFrame(preprocessing.scale(imputed_numeric_df),columns = imputed_numeric_df.columns) \n",
    "\n",
    "# PCA\n",
    "pca = PCA(n_components=12)\n",
    "pca.fit_transform(large_scaled)"
   ]
  },
  {
   "cell_type": "code",
   "execution_count": 122,
   "metadata": {},
   "outputs": [
    {
     "name": "stdout",
     "output_type": "stream",
     "text": [
      "0.838741239351693\n"
     ]
    }
   ],
   "source": [
    "print(sum(pca.explained_variance_ratio_[0:12]))"
   ]
  },
  {
   "cell_type": "markdown",
   "metadata": {},
   "source": [
    "## Model 2 - Using sklearn linear regression on all variables"
   ]
  },
  {
   "cell_type": "code",
   "execution_count": 124,
   "metadata": {},
   "outputs": [],
   "source": [
    "X_train, X_test, y_train, y_test = train_test_split(X, y, test_size=0.3, random_state=102)"
   ]
  },
  {
   "cell_type": "code",
   "execution_count": 125,
   "metadata": {},
   "outputs": [],
   "source": [
    "lm = LinearRegression()"
   ]
  },
  {
   "cell_type": "code",
   "execution_count": 127,
   "metadata": {},
   "outputs": [
    {
     "data": {
      "text/plain": [
       "LinearRegression(copy_X=True, fit_intercept=True, n_jobs=None,\n",
       "         normalize=False)"
      ]
     },
     "execution_count": 127,
     "metadata": {},
     "output_type": "execute_result"
    }
   ],
   "source": [
    "lm.fit(X_train, y_train)"
   ]
  },
  {
   "cell_type": "code",
   "execution_count": 128,
   "metadata": {},
   "outputs": [
    {
     "data": {
      "text/plain": [
       "array([ 0.00000000e+00,  1.00000000e+00, -9.76572559e-17, -1.70755825e-14,\n",
       "        3.18756129e-14, -2.58885244e-13,  1.16692578e-12,  1.61603710e-14,\n",
       "       -1.05263662e-13,  2.61545523e-14, -2.32916158e-17,  1.33778964e-14,\n",
       "       -5.51561938e-14,  1.36243607e-14,  1.67935414e-16, -1.44138718e-14,\n",
       "       -2.18133623e-14])"
      ]
     },
     "execution_count": 128,
     "metadata": {},
     "output_type": "execute_result"
    }
   ],
   "source": [
    "lm.coef_"
   ]
  },
  {
   "cell_type": "code",
   "execution_count": 129,
   "metadata": {},
   "outputs": [],
   "source": [
    "cdf = pd.DataFrame(lm.coef_, X.columns, columns=['Coeff'])"
   ]
  },
  {
   "cell_type": "code",
   "execution_count": 130,
   "metadata": {},
   "outputs": [],
   "source": [
    "predictions = lm.predict(X_test)"
   ]
  },
  {
   "cell_type": "code",
   "execution_count": 131,
   "metadata": {},
   "outputs": [
    {
     "name": "stderr",
     "output_type": "stream",
     "text": [
      "/anaconda3/envs/absenteeism/lib/python3.6/site-packages/scipy/stats/stats.py:1713: FutureWarning: Using a non-tuple sequence for multidimensional indexing is deprecated; use `arr[tuple(seq)]` instead of `arr[seq]`. In the future this will be interpreted as an array index, `arr[np.array(seq)]`, which will result either in an error or a different result.\n",
      "  return np.add.reduce(sorted[indexer] * weights, axis=axis) / sumval\n"
     ]
    },
    {
     "data": {
      "text/plain": [
       "<matplotlib.axes._subplots.AxesSubplot at 0x1c22fade80>"
      ]
     },
     "execution_count": 131,
     "metadata": {},
     "output_type": "execute_result"
    },
    {
     "data": {
      "image/png": "[encoded data removed]",
      "text/plain": [
       "<Figure size 432x288 with 1 Axes>"
      ]
     },
     "metadata": {
      "needs_background": "light"
     },
     "output_type": "display_data"
    }
   ],
   "source": [
    "sns.distplot((y_test - predictions))"
   ]
  },
  {
   "cell_type": "code",
   "execution_count": 146,
   "metadata": {},
   "outputs": [
    {
     "name": "stdout",
     "output_type": "stream",
     "text": [
      "MAE:  9.792728687323493e-14\n",
      "MSE:  2.0322596512621248e-26\n",
      "RMSE:  1.4255734464636064e-13\n",
      "R-squared:  1.0\n"
     ]
    }
   ],
   "source": [
    "print('MAE: ', metrics.mean_absolute_error(y_test, predictions))\n",
    "print('MSE: ', metrics.mean_squared_error(y_test, predictions))\n",
    "print('RMSE: ', np.sqrt(metrics.mean_squared_error(y_test, predictions)))\n",
    "print('R-squared: ', metrics.r2_score(y_test, predictions))"
   ]
  },
  {
   "cell_type": "markdown",
   "metadata": {},
   "source": [
    "## Model 3 - Using sklearn, reduced to four key variables"
   ]
  },
  {
   "cell_type": "code",
   "execution_count": 135,
   "metadata": {},
   "outputs": [],
   "source": [
    "large_scaled_reduced = large_scaled[['non_cert_rate','sports_rate','ap_ib_de_rate', 'chronic_absent_rate']]"
   ]
  },
  {
   "cell_type": "code",
   "execution_count": 136,
   "metadata": {},
   "outputs": [],
   "source": [
    "y = large['ALL_RATE_1516']\n",
    "X = large_scaled_reduced"
   ]
  },
  {
   "cell_type": "code",
   "execution_count": 137,
   "metadata": {},
   "outputs": [],
   "source": [
    "X_train_reduce, X_test_reduce, y_train_reduce, y_test_reduce = train_test_split(X, y, test_size=0.3, random_state=102)"
   ]
  },
  {
   "cell_type": "code",
   "execution_count": 138,
   "metadata": {},
   "outputs": [],
   "source": [
    "lm = LinearRegression()"
   ]
  },
  {
   "cell_type": "code",
   "execution_count": 139,
   "metadata": {},
   "outputs": [
    {
     "data": {
      "text/plain": [
       "LinearRegression(copy_X=True, fit_intercept=True, n_jobs=None,\n",
       "         normalize=False)"
      ]
     },
     "execution_count": 139,
     "metadata": {},
     "output_type": "execute_result"
    }
   ],
   "source": [
    "lm.fit(X_train_reduce, y_train_reduce)"
   ]
  },
  {
   "cell_type": "code",
   "execution_count": 140,
   "metadata": {},
   "outputs": [
    {
     "data": {
      "text/plain": [
       "array([-1.46178488,  1.70833397,  0.54506327, -4.37713071])"
      ]
     },
     "execution_count": 140,
     "metadata": {},
     "output_type": "execute_result"
    }
   ],
   "source": [
    "lm.coef_"
   ]
  },
  {
   "cell_type": "code",
   "execution_count": 141,
   "metadata": {},
   "outputs": [],
   "source": [
    "cdf_reduce = pd.DataFrame(lm.coef_, X_train_reduce.columns, columns=['Coeff'])"
   ]
  },
  {
   "cell_type": "code",
   "execution_count": 142,
   "metadata": {},
   "outputs": [],
   "source": [
    "predictions_reduce = lm.predict(X_test_reduce)"
   ]
  },
  {
   "cell_type": "code",
   "execution_count": 143,
   "metadata": {},
   "outputs": [
    {
     "name": "stderr",
     "output_type": "stream",
     "text": [
      "/anaconda3/envs/absenteeism/lib/python3.6/site-packages/scipy/stats/stats.py:1713: FutureWarning: Using a non-tuple sequence for multidimensional indexing is deprecated; use `arr[tuple(seq)]` instead of `arr[seq]`. In the future this will be interpreted as an array index, `arr[np.array(seq)]`, which will result either in an error or a different result.\n",
      "  return np.add.reduce(sorted[indexer] * weights, axis=axis) / sumval\n"
     ]
    },
    {
     "data": {
      "text/plain": [
       "<matplotlib.axes._subplots.AxesSubplot at 0x1c22d9d518>"
      ]
     },
     "execution_count": 143,
     "metadata": {},
     "output_type": "execute_result"
    },
    {
     "data": {
      "image/png": "[encoded data removed]",
      "text/plain": [
       "<Figure size 432x288 with 1 Axes>"
      ]
     },
     "metadata": {
      "needs_background": "light"
     },
     "output_type": "display_data"
    }
   ],
   "source": [
    "sns.distplot((y_test_reduce - predictions_reduce))"
   ]
  },
  {
   "cell_type": "code",
   "execution_count": 148,
   "metadata": {},
   "outputs": [
    {
     "name": "stdout",
     "output_type": "stream",
     "text": [
      "MAE:  6.0751544704567095\n",
      "MSE:  99.39505075903959\n",
      "RMSE:  9.969706653610205\n",
      "R-squared:  0.15809545829350258\n"
     ]
    }
   ],
   "source": [
    "print('MAE: ', metrics.mean_absolute_error(y_test_reduce, predictions_reduce))\n",
    "print('MSE: ', metrics.mean_squared_error(y_test_reduce, predictions_reduce))\n",
    "print('RMSE: ', np.sqrt(metrics.mean_squared_error(y_test_reduce, predictions_reduce)))\n",
    "print('R-squared: ', metrics.r2_score(y_test_reduce, predictions_reduce))"
   ]
  },
  {
   "cell_type": "markdown",
   "metadata": {},
   "source": [
    "## Model 4 - Using sklearn on all variables with lasso"
   ]
  },
  {
   "cell_type": "code",
   "execution_count": null,
   "metadata": {},
   "outputs": [],
   "source": [
    "# use standard scaler\n",
    "# use all variables\n",
    "# increase alpha to .1"
   ]
  },
  {
   "cell_type": "code",
   "execution_count": 150,
   "metadata": {},
   "outputs": [],
   "source": [
    "from sklearn.linear_model import Lasso"
   ]
  },
  {
   "cell_type": "code",
   "execution_count": null,
   "metadata": {},
   "outputs": [],
   "source": [
    "train_score=lasso.score(X_train,y_train)\n",
    "test_score=lasso.score(X_test,y_test)\n",
    "coeff_used = np.sum(lasso.coef_!=0)"
   ]
  },
  {
   "cell_type": "code",
   "execution_count": 151,
   "metadata": {},
   "outputs": [],
   "source": [
    "large_scaled_lasso = large_scaled[['non_cert_rate','sports_rate','ap_ib_de_rate', 'chronic_absent_rate']]"
   ]
  },
  {
   "cell_type": "code",
   "execution_count": 152,
   "metadata": {},
   "outputs": [],
   "source": [
    "y = large['ALL_RATE_1516']\n",
    "X = large_scaled_lasso"
   ]
  },
  {
   "cell_type": "code",
   "execution_count": 153,
   "metadata": {},
   "outputs": [],
   "source": [
    "X_train_lasso, X_test_lasso, y_train_lasso, y_test_lasso = train_test_split(X, y, test_size=0.3, random_state=102)"
   ]
  },
  {
   "cell_type": "code",
   "execution_count": 154,
   "metadata": {},
   "outputs": [],
   "source": [
    "lasso = Lasso()"
   ]
  },
  {
   "cell_type": "code",
   "execution_count": 155,
   "metadata": {},
   "outputs": [
    {
     "data": {
      "text/plain": [
       "Lasso(alpha=1.0, copy_X=True, fit_intercept=True, max_iter=1000,\n",
       "   normalize=False, positive=False, precompute=False, random_state=None,\n",
       "   selection='cyclic', tol=0.0001, warm_start=False)"
      ]
     },
     "execution_count": 155,
     "metadata": {},
     "output_type": "execute_result"
    }
   ],
   "source": [
    "lasso.fit(X_train_lasso, y_train_lasso)"
   ]
  },
  {
   "cell_type": "code",
   "execution_count": 156,
   "metadata": {},
   "outputs": [],
   "source": [
    "train_score=lasso.score(X_train_lasso,y_train_lasso)\n",
    "test_score=lasso.score(X_test_lasso,y_test_lasso)\n",
    "coeff_used = np.sum(lasso.coef_!=0)"
   ]
  },
  {
   "cell_type": "code",
   "execution_count": 157,
   "metadata": {},
   "outputs": [
    {
     "name": "stdout",
     "output_type": "stream",
     "text": [
      "training score:  0.22009279681673044\n",
      "test score:  0.15366271752160832\n",
      "number of features used:  3\n"
     ]
    }
   ],
   "source": [
    "print('training score: ', train_score) \n",
    "print('test score: ', test_score)\n",
    "print('number of features used: ', coeff_used)"
   ]
  },
  {
   "cell_type": "code",
   "execution_count": 159,
   "metadata": {},
   "outputs": [
    {
     "data": {
      "text/plain": [
       "Lasso(alpha=0.0001, copy_X=True, fit_intercept=True, max_iter=1000000.0,\n",
       "   normalize=False, positive=False, precompute=False, random_state=None,\n",
       "   selection='cyclic', tol=0.0001, warm_start=False)"
      ]
     },
     "execution_count": 159,
     "metadata": {},
     "output_type": "execute_result"
    }
   ],
   "source": [
    "lasso00001 = Lasso(alpha=0.0001, max_iter=10e5)\n",
    "lasso00001.fit(X_train_lasso,y_train_lasso)"
   ]
  },
  {
   "cell_type": "code",
   "execution_count": 160,
   "metadata": {},
   "outputs": [],
   "source": [
    "train_score00001=lasso00001.score(X_train_lasso,y_train_lasso)\n",
    "test_score00001=lasso00001.score(X_test_lasso,y_test_lasso)\n",
    "coeff_used00001 = np.sum(lasso00001.coef_!=0)"
   ]
  },
  {
   "cell_type": "code",
   "execution_count": 161,
   "metadata": {},
   "outputs": [
    {
     "name": "stdout",
     "output_type": "stream",
     "text": [
      "training score for alpha=0.0001: 0.2423130977861475\n",
      "test score for alpha =0.0001:  0.15809733183901586\n",
      "number of features used: for alpha =0.0001: 4\n"
     ]
    }
   ],
   "source": [
    "print('training score for alpha=0.0001:', train_score00001) \n",
    "print('test score for alpha =0.0001: ', test_score00001)\n",
    "print('number of features used: for alpha =0.0001:', coeff_used00001)"
   ]
  },
  {
   "cell_type": "code",
   "execution_count": null,
   "metadata": {},
   "outputs": [],
   "source": []
  }
 ],
 "metadata": {
  "kernelspec": {
   "display_name": "Python 3",
   "language": "python",
   "name": "python3"
  },
  "language_info": {
   "codemirror_mode": {
    "name": "ipython",
    "version": 3
   },
   "file_extension": ".py",
   "mimetype": "text/x-python",
   "name": "python",
   "nbconvert_exporter": "python",
   "pygments_lexer": "ipython3",
   "version": "3.6.6"
  }
 },
 "nbformat": 4,
 "nbformat_minor": 2
}
