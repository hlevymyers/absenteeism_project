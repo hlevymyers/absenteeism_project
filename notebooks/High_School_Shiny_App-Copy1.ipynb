{
 "cells": [
  {
   "cell_type": "code",
   "execution_count": 4,
   "metadata": {},
   "outputs": [],
   "source": [
    "library(shiny)\n",
    "library(reticulate)"
   ]
  },
  {
   "cell_type": "code",
   "execution_count": 5,
   "metadata": {},
   "outputs": [],
   "source": [
    "ui <- pageWithSidebar(\n",
    "      headerPanel('Possible Changes to Increase High School Graduations'),\n",
    "      sidebarPanel(\n",
    "        \n",
    "        selectInput('STNAM', 'Which State?', 'STNAM', multiple=FALSE),\n",
    "        selectInput('LEANM', 'Which School District?', 'LEANM', multiple=FALSE),\n",
    "        selectInput('SCHNAM', 'Which High School?', 'SCHNAM', multiple=FALSE),\n",
    "        actionButton(\"submit\", label = \"Submit\")\n",
    "      ),\n",
    "      mainPanel(\n",
    "        tableOutput('input_file')\n",
    "      )\n",
    "    )"
   ]
  },
  {
   "cell_type": "code",
   "execution_count": 6,
   "metadata": {},
   "outputs": [],
   "source": [
    "#This function is repsonsible for loading in the selected file\n",
    "  filedata <- reactive({\n",
    "    infile <- input$datafile\n",
    "    if (is.null(infile)) {\n",
    "      # User has not uploaded a file yet\n",
    "      return(NULL)\n",
    "    }\n",
    "    read.csv(infile$datapath)\n",
    "  })\n"
   ]
  },
  {
   "cell_type": "code",
   "execution_count": 7,
   "metadata": {},
   "outputs": [
    {
     "ename": "ERROR",
     "evalue": "Error in parse(text = x, srcfile = src): <text>:44:0: unexpected end of input\n42: }\n43: \n   ^\n",
     "output_type": "error",
     "traceback": [
      "Error in parse(text = x, srcfile = src): <text>:44:0: unexpected end of input\n42: }\n43: \n   ^\nTraceback:\n"
     ]
    }
   ],
   "source": [
    "# Define server logic for inputs ----\n",
    "server <- function(input, output) {\n",
    "    output$input_file <- renderTable({\n",
    "        filedata <- reactive({\n",
    "            infile <- input$datafile\n",
    "            if (is.null(infile)) {\n",
    "              # User has not uploaded a file yet\n",
    "              return(NULL)\n",
    "            }\n",
    "            read.csv(infile$\"/Users/flatironschool/Absenteeism_Project/notebooks/grad_num.csv\")\n",
    "        })\n",
    "        \n",
    "  # Reactive expression to create data frame of all input values ----\n",
    "  sliderValues <- reactive({\n",
    "\n",
    "    data.frame(\n",
    "      School = c(\"State\",\n",
    "               \"District\",\n",
    "               \"High School\",\n",
    "               \"Graduation Rate\",\n",
    "               \"Enrollment\",\n",
    "               \"Chronic Absenteeism (Number of Students)\",\n",
    "                 \"Sports Participation (Number of Students)\",\n",
    "                 \"Days Missed Due to Suspensions\",\n",
    "               \"Number of Non-Certified Teachers\"),\n",
    "      School_Year_2015_16 = as.character(c(input$STNAM,\n",
    "                             input$LEANM,\n",
    "                             input$SCHNAM,\n",
    "                             \n",
    "                             paste(input$range, collapse = \" \"),\n",
    "                             input$format,\n",
    "                             input$animation)),\n",
    "                  stringsAsFactors = FALSE)\n",
    "\n",
    "  })\n",
    "\n",
    "  # Show the values in an HTML table ----\n",
    "  output$values <- renderTable({\n",
    "    sliderValues()\n",
    "  })\n",
    "\n",
    "}\n"
   ]
  },
  {
   "cell_type": "code",
   "execution_count": null,
   "metadata": {},
   "outputs": [
    {
     "name": "stderr",
     "output_type": "stream",
     "text": [
      "\n",
      "Listening on http://127.0.0.1:4944\n"
     ]
    }
   ],
   "source": [
    "shinyApp(ui = ui, server = server)"
   ]
  },
  {
   "cell_type": "code",
   "execution_count": null,
   "metadata": {},
   "outputs": [],
   "source": []
  }
 ],
 "metadata": {
  "kernelspec": {
   "display_name": "R [conda env:grads_from_fcps]",
   "language": "R",
   "name": "conda-env-grads_from_fcps-r"
  },
  "language_info": {
   "codemirror_mode": "r",
   "file_extension": ".r",
   "mimetype": "text/x-r-source",
   "name": "R",
   "pygments_lexer": "r",
   "version": "3.6.0"
  }
 },
 "nbformat": 4,
 "nbformat_minor": 2
}
